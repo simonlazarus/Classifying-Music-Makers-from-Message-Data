{
 "cells": [
  {
   "cell_type": "markdown",
   "id": "3712d930-9592-4598-aa9e-a1d0e7a637e5",
   "metadata": {},
   "source": [
    "# Summary of this notebook\n",
    "\n",
    "In this notebook, we collect data from the subreddits [r/composer](https://www.reddit.com/r/composer/) (\"Composers\") and [r/musicproduction](https://www.reddit.com/r/musicproduction/) (\"Producers\").  We use [PRAW](https://praw.readthedocs.io/en/stable/) to access the Reddit API since [Pushshift](https://reddit-api.readthedocs.io/en/latest/), the other main alternative, has (as of the time of this project) recently undergone changes and currently does not retrieve any posts from earlier than November 2022.  This would not be nearly enough data for the purposes of this project!\n",
    "\n",
    "Using PRAW, we can only obtain the most recent ~950 posts on a given subreddit.  This means that in order to collect 1000 or more posts from a given subreddit, we must (1) collect as many posts as we can at a given time, (2) wait a while for new posts to be made, and then (3) add the new posts to our collection of old posts.  We do so below for both the \"Composer\" and \"Music Production\" subreddits.\n",
    "\n",
    "Note that in order for this notebook to run without errors, you must include a `praw.ini` file in the same folder as this notebook.  The `praw.ini` should contain your personal Reddit app developer information so as to provide access to Reddit's data."
   ]
  },
  {
   "cell_type": "markdown",
   "id": "c27ad79c-d06b-4333-92c0-03903ab7743b",
   "metadata": {},
   "source": [
    "## Imports"
   ]
  },
  {
   "cell_type": "code",
   "execution_count": 1,
   "id": "72a1d416-84ec-4c3f-9fde-925e2e0c906b",
   "metadata": {},
   "outputs": [],
   "source": [
    "import requests\n",
    "import pandas as pd\n",
    "import praw"
   ]
  },
  {
   "cell_type": "markdown",
   "id": "58845075-ecf4-4160-af34-5275201132b9",
   "metadata": {},
   "source": [
    "## Helper Funtions"
   ]
  },
  {
   "cell_type": "code",
   "execution_count": 2,
   "id": "91d669e0-f428-460a-8971-eae9d82f583f",
   "metadata": {},
   "outputs": [],
   "source": [
    "def extract_info(post):\n",
    "    output = {}\n",
    "    output['title'] = post.title\n",
    "    output['text'] = post.selftext\n",
    "    output['id'] = post.id\n",
    "    output['utc'] = post.created_utc\n",
    "    output['author'] = post.author\n",
    "    \n",
    "    return output"
   ]
  },
  {
   "cell_type": "code",
   "execution_count": 3,
   "id": "33770a9a-8f0c-4e48-927d-3b1d12ba91a4",
   "metadata": {},
   "outputs": [],
   "source": [
    "#For this to work, you need to make a praw.ini file and add it to this folder.\n",
    "def get_posts(subreddit, lim):\n",
    "    reddit=praw.Reddit()\n",
    "    posts = reddit.subreddit(subreddit).new(limit=lim)\n",
    "    \n",
    "    output = []\n",
    "    for post in posts:\n",
    "        output.append(extract_info(post))\n",
    "        \n",
    "    return output"
   ]
  },
  {
   "cell_type": "markdown",
   "id": "a6f2ca29-749a-4e5d-9023-dc0976fefb16",
   "metadata": {},
   "source": [
    "# \"Composer\" Subreddit"
   ]
  },
  {
   "cell_type": "markdown",
   "id": "bab2f59c-d4a1-48d5-9fc9-14f910731ca0",
   "metadata": {},
   "source": [
    "## Get new data with PRAW"
   ]
  },
  {
   "cell_type": "code",
   "execution_count": 4,
   "id": "7e381169-35d7-4048-aeb3-38519ba785df",
   "metadata": {},
   "outputs": [],
   "source": [
    "composers_results = get_posts('composer', 200)"
   ]
  },
  {
   "cell_type": "code",
   "execution_count": 5,
   "id": "6780b2a1-5319-45c3-88f9-9a96b2f80e02",
   "metadata": {},
   "outputs": [],
   "source": [
    "composers_new = pd.DataFrame(composers_results)\n",
    "composers_new.set_index('id', inplace=True)"
   ]
  },
  {
   "cell_type": "code",
   "execution_count": 6,
   "id": "0ce505b3-7717-4fc1-9d63-3e0f3c3c9b96",
   "metadata": {
    "tags": []
   },
   "outputs": [
    {
     "data": {
      "text/html": [
       "<div>\n",
       "<style scoped>\n",
       "    .dataframe tbody tr th:only-of-type {\n",
       "        vertical-align: middle;\n",
       "    }\n",
       "\n",
       "    .dataframe tbody tr th {\n",
       "        vertical-align: top;\n",
       "    }\n",
       "\n",
       "    .dataframe thead th {\n",
       "        text-align: right;\n",
       "    }\n",
       "</style>\n",
       "<table border=\"1\" class=\"dataframe\">\n",
       "  <thead>\n",
       "    <tr style=\"text-align: right;\">\n",
       "      <th></th>\n",
       "      <th>title</th>\n",
       "      <th>text</th>\n",
       "      <th>utc</th>\n",
       "      <th>author</th>\n",
       "    </tr>\n",
       "    <tr>\n",
       "      <th>id</th>\n",
       "      <th></th>\n",
       "      <th></th>\n",
       "      <th></th>\n",
       "      <th></th>\n",
       "    </tr>\n",
       "  </thead>\n",
       "  <tbody>\n",
       "    <tr>\n",
       "      <th>10dgcto</th>\n",
       "      <td>Please check out my piece “Coming Out Party” b...</td>\n",
       "      <td>Performance: https://youtu.be/0szFCm6kmRs\\n\\nS...</td>\n",
       "      <td>1.673880e+09</td>\n",
       "      <td>1987ScreamBloodyGore</td>\n",
       "    </tr>\n",
       "    <tr>\n",
       "      <th>10dg0xg</th>\n",
       "      <td>Bernard Herrmann's scores</td>\n",
       "      <td>Hey guys! I'm trying to find scores (or just e...</td>\n",
       "      <td>1.673880e+09</td>\n",
       "      <td>luigii-2000</td>\n",
       "    </tr>\n",
       "    <tr>\n",
       "      <th>10ddeo5</th>\n",
       "      <td>My new piano composition</td>\n",
       "      <td>I wrote this short piece yesterday, and I'd ap...</td>\n",
       "      <td>1.673872e+09</td>\n",
       "      <td>RxAxS_TE</td>\n",
       "    </tr>\n",
       "    <tr>\n",
       "      <th>10daedt</th>\n",
       "      <td>#InfinitePiChallenge</td>\n",
       "      <td>Dear Composers,\\n\\nI am pointing here to a sma...</td>\n",
       "      <td>1.673862e+09</td>\n",
       "      <td>musescore1983</td>\n",
       "    </tr>\n",
       "    <tr>\n",
       "      <th>10da67m</th>\n",
       "      <td>Disclaimer! I do not know music theory nor can...</td>\n",
       "      <td>I had some ideas and went from there. Musescor...</td>\n",
       "      <td>1.673861e+09</td>\n",
       "      <td>MRkaland</td>\n",
       "    </tr>\n",
       "  </tbody>\n",
       "</table>\n",
       "</div>"
      ],
      "text/plain": [
       "                                                     title  \\\n",
       "id                                                           \n",
       "10dgcto  Please check out my piece “Coming Out Party” b...   \n",
       "10dg0xg                          Bernard Herrmann's scores   \n",
       "10ddeo5                           My new piano composition   \n",
       "10daedt                               #InfinitePiChallenge   \n",
       "10da67m  Disclaimer! I do not know music theory nor can...   \n",
       "\n",
       "                                                      text           utc  \\\n",
       "id                                                                         \n",
       "10dgcto  Performance: https://youtu.be/0szFCm6kmRs\\n\\nS...  1.673880e+09   \n",
       "10dg0xg  Hey guys! I'm trying to find scores (or just e...  1.673880e+09   \n",
       "10ddeo5  I wrote this short piece yesterday, and I'd ap...  1.673872e+09   \n",
       "10daedt  Dear Composers,\\n\\nI am pointing here to a sma...  1.673862e+09   \n",
       "10da67m  I had some ideas and went from there. Musescor...  1.673861e+09   \n",
       "\n",
       "                       author  \n",
       "id                             \n",
       "10dgcto  1987ScreamBloodyGore  \n",
       "10dg0xg           luigii-2000  \n",
       "10ddeo5              RxAxS_TE  \n",
       "10daedt         musescore1983  \n",
       "10da67m              MRkaland  "
      ]
     },
     "execution_count": 6,
     "metadata": {},
     "output_type": "execute_result"
    }
   ],
   "source": [
    "composers_new.head()"
   ]
  },
  {
   "cell_type": "markdown",
   "id": "261d0fb5-74bc-42e4-b03f-4493543122a9",
   "metadata": {},
   "source": [
    "## Import old data"
   ]
  },
  {
   "cell_type": "markdown",
   "id": "d4f990b6-8955-4286-8b39-0c0f25df0b0b",
   "metadata": {},
   "source": [
    "The old data was extracted using the same procedure above.  However, PRAW only allows access to about 950 of the most recent posts.  So to assemble more data, we need to download posts periodically, waiting for new posts to appear.  We can then add these new posts onto our old list."
   ]
  },
  {
   "cell_type": "code",
   "execution_count": 7,
   "id": "9785b35a-5cec-4525-b2fe-ea1474e4c6c0",
   "metadata": {},
   "outputs": [
    {
     "data": {
      "text/html": [
       "<div>\n",
       "<style scoped>\n",
       "    .dataframe tbody tr th:only-of-type {\n",
       "        vertical-align: middle;\n",
       "    }\n",
       "\n",
       "    .dataframe tbody tr th {\n",
       "        vertical-align: top;\n",
       "    }\n",
       "\n",
       "    .dataframe thead th {\n",
       "        text-align: right;\n",
       "    }\n",
       "</style>\n",
       "<table border=\"1\" class=\"dataframe\">\n",
       "  <thead>\n",
       "    <tr style=\"text-align: right;\">\n",
       "      <th></th>\n",
       "      <th>title</th>\n",
       "      <th>text</th>\n",
       "      <th>utc</th>\n",
       "      <th>author</th>\n",
       "    </tr>\n",
       "    <tr>\n",
       "      <th>id</th>\n",
       "      <th></th>\n",
       "      <th></th>\n",
       "      <th></th>\n",
       "      <th></th>\n",
       "    </tr>\n",
       "  </thead>\n",
       "  <tbody>\n",
       "    <tr>\n",
       "      <th>10dgcto</th>\n",
       "      <td>Please check out my piece “Coming Out Party” b...</td>\n",
       "      <td>Performance: https://youtu.be/0szFCm6kmRs\\n\\nS...</td>\n",
       "      <td>1.673880e+09</td>\n",
       "      <td>1987ScreamBloodyGore</td>\n",
       "    </tr>\n",
       "    <tr>\n",
       "      <th>10dg0xg</th>\n",
       "      <td>Bernard Herrmann's scores</td>\n",
       "      <td>Hey guys! I'm trying to find scores (or just e...</td>\n",
       "      <td>1.673880e+09</td>\n",
       "      <td>luigii-2000</td>\n",
       "    </tr>\n",
       "    <tr>\n",
       "      <th>10ddeo5</th>\n",
       "      <td>My new piano composition</td>\n",
       "      <td>I wrote this short piece yesterday, and I'd ap...</td>\n",
       "      <td>1.673872e+09</td>\n",
       "      <td>RxAxS_TE</td>\n",
       "    </tr>\n",
       "    <tr>\n",
       "      <th>10daedt</th>\n",
       "      <td>#InfinitePiChallenge</td>\n",
       "      <td>Dear Composers,\\n\\nI am pointing here to a sma...</td>\n",
       "      <td>1.673862e+09</td>\n",
       "      <td>musescore1983</td>\n",
       "    </tr>\n",
       "    <tr>\n",
       "      <th>10da67m</th>\n",
       "      <td>Disclaimer! I do not know music theory nor can...</td>\n",
       "      <td>I had some ideas and went from there. Musescor...</td>\n",
       "      <td>1.673861e+09</td>\n",
       "      <td>MRkaland</td>\n",
       "    </tr>\n",
       "  </tbody>\n",
       "</table>\n",
       "</div>"
      ],
      "text/plain": [
       "                                                     title  \\\n",
       "id                                                           \n",
       "10dgcto  Please check out my piece “Coming Out Party” b...   \n",
       "10dg0xg                          Bernard Herrmann's scores   \n",
       "10ddeo5                           My new piano composition   \n",
       "10daedt                               #InfinitePiChallenge   \n",
       "10da67m  Disclaimer! I do not know music theory nor can...   \n",
       "\n",
       "                                                      text           utc  \\\n",
       "id                                                                         \n",
       "10dgcto  Performance: https://youtu.be/0szFCm6kmRs\\n\\nS...  1.673880e+09   \n",
       "10dg0xg  Hey guys! I'm trying to find scores (or just e...  1.673880e+09   \n",
       "10ddeo5  I wrote this short piece yesterday, and I'd ap...  1.673872e+09   \n",
       "10daedt  Dear Composers,\\n\\nI am pointing here to a sma...  1.673862e+09   \n",
       "10da67m  I had some ideas and went from there. Musescor...  1.673861e+09   \n",
       "\n",
       "                       author  \n",
       "id                             \n",
       "10dgcto  1987ScreamBloodyGore  \n",
       "10dg0xg           luigii-2000  \n",
       "10ddeo5              RxAxS_TE  \n",
       "10daedt         musescore1983  \n",
       "10da67m              MRkaland  "
      ]
     },
     "execution_count": 7,
     "metadata": {},
     "output_type": "execute_result"
    }
   ],
   "source": [
    "composers_old = pd.read_csv('../data/composers.csv', index_col='id')\n",
    "\n",
    "#Display the 5 most recent posts from the old data\n",
    "composers_old.sort_values('utc', ascending=False).head()"
   ]
  },
  {
   "cell_type": "markdown",
   "id": "ca5daa09-71c4-413e-8fc5-42d6578a464c",
   "metadata": {},
   "source": [
    "## Combine old and new data"
   ]
  },
  {
   "cell_type": "code",
   "execution_count": 8,
   "id": "50ba5d5a-cee7-47d7-9701-353b480afe21",
   "metadata": {},
   "outputs": [
    {
     "data": {
      "text/plain": [
       "1673880471.0"
      ]
     },
     "execution_count": 8,
     "metadata": {},
     "output_type": "execute_result"
    }
   ],
   "source": [
    "#Find the UTC of the most recent post that exists in the old data\n",
    "newest_old = composers_old.utc.max()\n",
    "newest_old"
   ]
  },
  {
   "cell_type": "code",
   "execution_count": 9,
   "id": "a8863630-c707-434b-a3c5-32204f6e5995",
   "metadata": {},
   "outputs": [
    {
     "data": {
      "text/html": [
       "<div>\n",
       "<style scoped>\n",
       "    .dataframe tbody tr th:only-of-type {\n",
       "        vertical-align: middle;\n",
       "    }\n",
       "\n",
       "    .dataframe tbody tr th {\n",
       "        vertical-align: top;\n",
       "    }\n",
       "\n",
       "    .dataframe thead th {\n",
       "        text-align: right;\n",
       "    }\n",
       "</style>\n",
       "<table border=\"1\" class=\"dataframe\">\n",
       "  <thead>\n",
       "    <tr style=\"text-align: right;\">\n",
       "      <th></th>\n",
       "      <th>title</th>\n",
       "      <th>text</th>\n",
       "      <th>utc</th>\n",
       "      <th>author</th>\n",
       "    </tr>\n",
       "    <tr>\n",
       "      <th>id</th>\n",
       "      <th></th>\n",
       "      <th></th>\n",
       "      <th></th>\n",
       "      <th></th>\n",
       "    </tr>\n",
       "  </thead>\n",
       "  <tbody>\n",
       "  </tbody>\n",
       "</table>\n",
       "</div>"
      ],
      "text/plain": [
       "Empty DataFrame\n",
       "Columns: [title, text, utc, author]\n",
       "Index: []"
      ]
     },
     "execution_count": 9,
     "metadata": {},
     "output_type": "execute_result"
    }
   ],
   "source": [
    "new_posts = composers_new[composers_new['utc']>newest_old]\n",
    "\n",
    "#Display the oldest posts of the new data\n",
    "new_posts.sort_values('utc', ascending=True).head()\n",
    "#The top row here should have a UTC not too much larger than the top row of the\n",
    "#last displayed dataframe.  If this dataframe is empty, then there haven't\n",
    "#been any new posts since the last time this notebook was run."
   ]
  },
  {
   "cell_type": "code",
   "execution_count": 10,
   "id": "157d4617-f45b-4d71-b43d-a389cae74b26",
   "metadata": {},
   "outputs": [
    {
     "data": {
      "text/plain": [
       "1086"
      ]
     },
     "execution_count": 10,
     "metadata": {},
     "output_type": "execute_result"
    }
   ],
   "source": [
    "composers = pd.concat([composers_old, new_posts])\n",
    "\n",
    "#How may data points do we now have in total?\n",
    "len(composers)"
   ]
  },
  {
   "cell_type": "code",
   "execution_count": 11,
   "id": "f64e8e08-ab82-45b1-a0aa-28c06bd207de",
   "metadata": {},
   "outputs": [
    {
     "data": {
      "text/plain": [
       "1086"
      ]
     },
     "execution_count": 11,
     "metadata": {},
     "output_type": "execute_result"
    }
   ],
   "source": [
    "## Check that we have no duplicate posts\n",
    "len(composers.index.unique())\n",
    "#If so, this cell's output should be the same as the last cell's output"
   ]
  },
  {
   "cell_type": "markdown",
   "id": "181ee99c-984f-4b39-99e2-662d4fa1d18c",
   "metadata": {},
   "source": [
    "## Export results"
   ]
  },
  {
   "cell_type": "code",
   "execution_count": 12,
   "id": "271af1e2-d695-480d-b9de-d70792bf2b63",
   "metadata": {},
   "outputs": [],
   "source": [
    "composers.to_csv('../data/composers.csv', index_label='id')"
   ]
  },
  {
   "cell_type": "markdown",
   "id": "6bc06a49-6312-40d9-8be0-39fbc6a3dc76",
   "metadata": {},
   "source": [
    "# \"Music Production\" Subreddit"
   ]
  },
  {
   "cell_type": "markdown",
   "id": "35ff3812-969b-4ada-9323-278e3d5a781d",
   "metadata": {},
   "source": [
    "## Get new data with PRAW"
   ]
  },
  {
   "cell_type": "code",
   "execution_count": 23,
   "id": "1cc1bf2d-0fe7-456f-a536-421cbe025c60",
   "metadata": {},
   "outputs": [],
   "source": [
    "producers_results = get_posts('musicproduction', 200)"
   ]
  },
  {
   "cell_type": "code",
   "execution_count": 24,
   "id": "c3fc2706-6ec8-459f-8bc5-b5493c5cc1d5",
   "metadata": {},
   "outputs": [],
   "source": [
    "producers_new = pd.DataFrame(producers_results)\n",
    "producers_new.set_index('id', inplace=True)"
   ]
  },
  {
   "cell_type": "code",
   "execution_count": 25,
   "id": "a681c3d8-05ac-4dd9-8430-2026f00a3eb2",
   "metadata": {
    "tags": []
   },
   "outputs": [
    {
     "data": {
      "text/html": [
       "<div>\n",
       "<style scoped>\n",
       "    .dataframe tbody tr th:only-of-type {\n",
       "        vertical-align: middle;\n",
       "    }\n",
       "\n",
       "    .dataframe tbody tr th {\n",
       "        vertical-align: top;\n",
       "    }\n",
       "\n",
       "    .dataframe thead th {\n",
       "        text-align: right;\n",
       "    }\n",
       "</style>\n",
       "<table border=\"1\" class=\"dataframe\">\n",
       "  <thead>\n",
       "    <tr style=\"text-align: right;\">\n",
       "      <th></th>\n",
       "      <th>title</th>\n",
       "      <th>text</th>\n",
       "      <th>utc</th>\n",
       "      <th>author</th>\n",
       "    </tr>\n",
       "    <tr>\n",
       "      <th>id</th>\n",
       "      <th></th>\n",
       "      <th></th>\n",
       "      <th></th>\n",
       "      <th></th>\n",
       "    </tr>\n",
       "  </thead>\n",
       "  <tbody>\n",
       "    <tr>\n",
       "      <th>10dggy1</th>\n",
       "      <td>What's the best way to learn music production.</td>\n",
       "      <td>I was hoping to hear some experiences of peopl...</td>\n",
       "      <td>1.673881e+09</td>\n",
       "      <td>TraditionAlarming777</td>\n",
       "    </tr>\n",
       "    <tr>\n",
       "      <th>10df1s9</th>\n",
       "      <td>I need advice</td>\n",
       "      <td>So i know basic music theory, How to play a ke...</td>\n",
       "      <td>1.673877e+09</td>\n",
       "      <td>EmperorAlpha557</td>\n",
       "    </tr>\n",
       "    <tr>\n",
       "      <th>10ddhdn</th>\n",
       "      <td>Need your opinion regarding monitors in untrea...</td>\n",
       "      <td>Been producing for 10 years as a hobby. I have...</td>\n",
       "      <td>1.673873e+09</td>\n",
       "      <td>_-RandomDude-_</td>\n",
       "    </tr>\n",
       "    <tr>\n",
       "      <th>10db2bk</th>\n",
       "      <td>How to recreate these drums?</td>\n",
       "      <td>Hi.  Does anyone know how I can’t recreate dru...</td>\n",
       "      <td>1.673864e+09</td>\n",
       "      <td>No_Opportunity6714</td>\n",
       "    </tr>\n",
       "    <tr>\n",
       "      <th>10d9v21</th>\n",
       "      <td>What is 'certified producer' and how to become...</td>\n",
       "      <td>Hey everyone, I recently came across couple of...</td>\n",
       "      <td>1.673860e+09</td>\n",
       "      <td>thestrangedavinci</td>\n",
       "    </tr>\n",
       "  </tbody>\n",
       "</table>\n",
       "</div>"
      ],
      "text/plain": [
       "                                                     title  \\\n",
       "id                                                           \n",
       "10dggy1     What's the best way to learn music production.   \n",
       "10df1s9                                      I need advice   \n",
       "10ddhdn  Need your opinion regarding monitors in untrea...   \n",
       "10db2bk                       How to recreate these drums?   \n",
       "10d9v21  What is 'certified producer' and how to become...   \n",
       "\n",
       "                                                      text           utc  \\\n",
       "id                                                                         \n",
       "10dggy1  I was hoping to hear some experiences of peopl...  1.673881e+09   \n",
       "10df1s9  So i know basic music theory, How to play a ke...  1.673877e+09   \n",
       "10ddhdn  Been producing for 10 years as a hobby. I have...  1.673873e+09   \n",
       "10db2bk  Hi.  Does anyone know how I can’t recreate dru...  1.673864e+09   \n",
       "10d9v21  Hey everyone, I recently came across couple of...  1.673860e+09   \n",
       "\n",
       "                       author  \n",
       "id                             \n",
       "10dggy1  TraditionAlarming777  \n",
       "10df1s9       EmperorAlpha557  \n",
       "10ddhdn        _-RandomDude-_  \n",
       "10db2bk    No_Opportunity6714  \n",
       "10d9v21     thestrangedavinci  "
      ]
     },
     "execution_count": 25,
     "metadata": {},
     "output_type": "execute_result"
    }
   ],
   "source": [
    "producers_new.head()"
   ]
  },
  {
   "cell_type": "markdown",
   "id": "75dd5e59-deee-4c92-b23a-0b7996c85de1",
   "metadata": {},
   "source": [
    "## Import old data"
   ]
  },
  {
   "cell_type": "code",
   "execution_count": 26,
   "id": "607d0aa7-5032-4853-b11f-2bd06e7d802d",
   "metadata": {},
   "outputs": [
    {
     "data": {
      "text/html": [
       "<div>\n",
       "<style scoped>\n",
       "    .dataframe tbody tr th:only-of-type {\n",
       "        vertical-align: middle;\n",
       "    }\n",
       "\n",
       "    .dataframe tbody tr th {\n",
       "        vertical-align: top;\n",
       "    }\n",
       "\n",
       "    .dataframe thead th {\n",
       "        text-align: right;\n",
       "    }\n",
       "</style>\n",
       "<table border=\"1\" class=\"dataframe\">\n",
       "  <thead>\n",
       "    <tr style=\"text-align: right;\">\n",
       "      <th></th>\n",
       "      <th>title</th>\n",
       "      <th>text</th>\n",
       "      <th>utc</th>\n",
       "      <th>author</th>\n",
       "    </tr>\n",
       "    <tr>\n",
       "      <th>id</th>\n",
       "      <th></th>\n",
       "      <th></th>\n",
       "      <th></th>\n",
       "      <th></th>\n",
       "    </tr>\n",
       "  </thead>\n",
       "  <tbody>\n",
       "    <tr>\n",
       "      <th>10dggy1</th>\n",
       "      <td>What's the best way to learn music production.</td>\n",
       "      <td>I was hoping to hear some experiences of peopl...</td>\n",
       "      <td>1.673881e+09</td>\n",
       "      <td>TraditionAlarming777</td>\n",
       "    </tr>\n",
       "    <tr>\n",
       "      <th>10df1s9</th>\n",
       "      <td>I need advice</td>\n",
       "      <td>So i know basic music theory, How to play a ke...</td>\n",
       "      <td>1.673877e+09</td>\n",
       "      <td>EmperorAlpha557</td>\n",
       "    </tr>\n",
       "    <tr>\n",
       "      <th>10ddhdn</th>\n",
       "      <td>Need your opinion regarding monitors in untrea...</td>\n",
       "      <td>Been producing for 10 years as a hobby. I have...</td>\n",
       "      <td>1.673873e+09</td>\n",
       "      <td>_-RandomDude-_</td>\n",
       "    </tr>\n",
       "    <tr>\n",
       "      <th>10db2bk</th>\n",
       "      <td>How to recreate these drums?</td>\n",
       "      <td>Hi.  Does anyone know how I can’t recreate dru...</td>\n",
       "      <td>1.673864e+09</td>\n",
       "      <td>No_Opportunity6714</td>\n",
       "    </tr>\n",
       "    <tr>\n",
       "      <th>10d9v21</th>\n",
       "      <td>What is 'certified producer' and how to become...</td>\n",
       "      <td>Hey everyone, I recently came across couple of...</td>\n",
       "      <td>1.673860e+09</td>\n",
       "      <td>thestrangedavinci</td>\n",
       "    </tr>\n",
       "  </tbody>\n",
       "</table>\n",
       "</div>"
      ],
      "text/plain": [
       "                                                     title  \\\n",
       "id                                                           \n",
       "10dggy1     What's the best way to learn music production.   \n",
       "10df1s9                                      I need advice   \n",
       "10ddhdn  Need your opinion regarding monitors in untrea...   \n",
       "10db2bk                       How to recreate these drums?   \n",
       "10d9v21  What is 'certified producer' and how to become...   \n",
       "\n",
       "                                                      text           utc  \\\n",
       "id                                                                         \n",
       "10dggy1  I was hoping to hear some experiences of peopl...  1.673881e+09   \n",
       "10df1s9  So i know basic music theory, How to play a ke...  1.673877e+09   \n",
       "10ddhdn  Been producing for 10 years as a hobby. I have...  1.673873e+09   \n",
       "10db2bk  Hi.  Does anyone know how I can’t recreate dru...  1.673864e+09   \n",
       "10d9v21  Hey everyone, I recently came across couple of...  1.673860e+09   \n",
       "\n",
       "                       author  \n",
       "id                             \n",
       "10dggy1  TraditionAlarming777  \n",
       "10df1s9       EmperorAlpha557  \n",
       "10ddhdn        _-RandomDude-_  \n",
       "10db2bk    No_Opportunity6714  \n",
       "10d9v21     thestrangedavinci  "
      ]
     },
     "execution_count": 26,
     "metadata": {},
     "output_type": "execute_result"
    }
   ],
   "source": [
    "producers_old = pd.read_csv('../data/producers.csv', index_col='id')\n",
    "\n",
    "#Display the 5 most recent posts from the old data\n",
    "producers_old.sort_values('utc', ascending=False).head()"
   ]
  },
  {
   "cell_type": "markdown",
   "id": "39241ea3-6b6a-4c3a-bbd3-3811066085d0",
   "metadata": {},
   "source": [
    "## Combine old and new data"
   ]
  },
  {
   "cell_type": "code",
   "execution_count": 27,
   "id": "ddc98e44-11eb-4cd0-88c5-73d839714527",
   "metadata": {},
   "outputs": [
    {
     "data": {
      "text/plain": [
       "1673880755.0"
      ]
     },
     "execution_count": 27,
     "metadata": {},
     "output_type": "execute_result"
    }
   ],
   "source": [
    "#Find the UTC of the most recent post that exists in the old data\n",
    "newest_old = producers_old.utc.max()\n",
    "newest_old"
   ]
  },
  {
   "cell_type": "code",
   "execution_count": 28,
   "id": "d930cee2-6907-467f-b8e0-2412a8712de5",
   "metadata": {},
   "outputs": [
    {
     "data": {
      "text/html": [
       "<div>\n",
       "<style scoped>\n",
       "    .dataframe tbody tr th:only-of-type {\n",
       "        vertical-align: middle;\n",
       "    }\n",
       "\n",
       "    .dataframe tbody tr th {\n",
       "        vertical-align: top;\n",
       "    }\n",
       "\n",
       "    .dataframe thead th {\n",
       "        text-align: right;\n",
       "    }\n",
       "</style>\n",
       "<table border=\"1\" class=\"dataframe\">\n",
       "  <thead>\n",
       "    <tr style=\"text-align: right;\">\n",
       "      <th></th>\n",
       "      <th>title</th>\n",
       "      <th>text</th>\n",
       "      <th>utc</th>\n",
       "      <th>author</th>\n",
       "    </tr>\n",
       "    <tr>\n",
       "      <th>id</th>\n",
       "      <th></th>\n",
       "      <th></th>\n",
       "      <th></th>\n",
       "      <th></th>\n",
       "    </tr>\n",
       "  </thead>\n",
       "  <tbody>\n",
       "  </tbody>\n",
       "</table>\n",
       "</div>"
      ],
      "text/plain": [
       "Empty DataFrame\n",
       "Columns: [title, text, utc, author]\n",
       "Index: []"
      ]
     },
     "execution_count": 28,
     "metadata": {},
     "output_type": "execute_result"
    }
   ],
   "source": [
    "new_posts = producers_new[producers_new['utc']>newest_old]\n",
    "\n",
    "#Display the oldest posts of the new data\n",
    "new_posts.sort_values('utc', ascending=True).head()\n",
    "#The top row here should have a UTC not too much larger than the top row of the\n",
    "#last displayed dataframe.  If this dataframe is empty, then there haven't\n",
    "#been any new posts since the last time this notebook was run."
   ]
  },
  {
   "cell_type": "code",
   "execution_count": 29,
   "id": "19a1e2f9-b189-4b71-8119-1e73b3f31a22",
   "metadata": {},
   "outputs": [
    {
     "data": {
      "text/plain": [
       "1245"
      ]
     },
     "execution_count": 29,
     "metadata": {},
     "output_type": "execute_result"
    }
   ],
   "source": [
    "producers = pd.concat([producers_old, new_posts])\n",
    "\n",
    "#How may data points do we now have in total?\n",
    "len(producers)"
   ]
  },
  {
   "cell_type": "code",
   "execution_count": 30,
   "id": "3d794855-cca7-44bc-8f43-e1934c41cc4d",
   "metadata": {},
   "outputs": [
    {
     "data": {
      "text/plain": [
       "1245"
      ]
     },
     "execution_count": 30,
     "metadata": {},
     "output_type": "execute_result"
    }
   ],
   "source": [
    "## Check that we have no duplicate posts\n",
    "len(producers.index.unique())\n",
    "#If so, this cell's output should be the same as the last cell's output"
   ]
  },
  {
   "cell_type": "markdown",
   "id": "9f160a32-70e1-49c1-b901-7c621b779b81",
   "metadata": {},
   "source": [
    "## Export results"
   ]
  },
  {
   "cell_type": "code",
   "execution_count": 31,
   "id": "8b1dc4bd-7fb2-4c04-aceb-f0a10007ee70",
   "metadata": {},
   "outputs": [],
   "source": [
    "producers.to_csv('../data/producers.csv', index_label='id')"
   ]
  },
  {
   "cell_type": "markdown",
   "id": "4d098c3e-ddc7-4e89-8b8f-3da12e4e4acd",
   "metadata": {},
   "source": [
    "## What's next?\n",
    "\n",
    "In the [next notebook](02_data_cleaning.ipynb), we clean the data that we collected in this notebook."
   ]
  }
 ],
 "metadata": {
  "kernelspec": {
   "display_name": "Python 3 (ipykernel)",
   "language": "python",
   "name": "python3"
  },
  "language_info": {
   "codemirror_mode": {
    "name": "ipython",
    "version": 3
   },
   "file_extension": ".py",
   "mimetype": "text/x-python",
   "name": "python",
   "nbconvert_exporter": "python",
   "pygments_lexer": "ipython3",
   "version": "3.9.13"
  }
 },
 "nbformat": 4,
 "nbformat_minor": 5
}
