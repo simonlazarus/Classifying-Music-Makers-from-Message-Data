{
 "cells": [
  {
   "cell_type": "markdown",
   "id": "05bf47a3-dad1-4c8d-829d-9b457977fd00",
   "metadata": {},
   "source": [
    "# Summary of this notebook\n",
    "\n",
    "In this notebook, we import the \"Composers\" and \"Producers\" subreddit data sets from the [last notebook](./01_data_collection.ipynb).  We remove any duplicate posts from these data sets, and we fill \"missing\" body text with the empty string (since it appears that these body texts are not eactually missing, but intentionally empty).  We also make sure that there are no other obvious issues with the data, such as missing post titles or incorrect data types.  We then export the cleaned data sets."
   ]
  },
  {
   "cell_type": "markdown",
   "id": "3579e222-5514-4fe2-bba3-4c52ff0e1d7c",
   "metadata": {},
   "source": [
    "## Import packages"
   ]
  },
  {
   "cell_type": "code",
   "execution_count": 1,
   "id": "b1df5333-3d8f-4199-a22e-0438b0f6cf54",
   "metadata": {},
   "outputs": [],
   "source": [
    "import numpy as np\n",
    "import pandas as pd"
   ]
  },
  {
   "cell_type": "code",
   "execution_count": 2,
   "id": "68d14a58-a1dc-411b-874a-4e81eb69bba9",
   "metadata": {},
   "outputs": [],
   "source": [
    "#Change display options to show longer messages\n",
    "pd.options.display.max_colwidth = 400"
   ]
  },
  {
   "cell_type": "markdown",
   "id": "e871abd8-e3c3-4522-8a6c-7e9399c237d5",
   "metadata": {},
   "source": [
    "## Import data\n",
    "\n",
    "In order to ensure replicability, we use data collected up to January 16th, 2023.  These data are contained in the `composers_jan16` and `producers_jan16` csv files in the [data folder](../data).  To instead use the most recent data, replace the names in the next cell with simply `composers` and `producers`."
   ]
  },
  {
   "cell_type": "code",
   "execution_count": 3,
   "id": "3e74b57b-968f-4901-995c-ad8ba24d76f1",
   "metadata": {},
   "outputs": [],
   "source": [
    "#Change this to just 'composers' to use the most recent data\n",
    "composers_to_use = 'composers_jan16'\n",
    "\n",
    "#Change this to just 'prodcuers' to use the most recent data\n",
    "producers_to_use = 'producers_jan16'"
   ]
  },
  {
   "cell_type": "code",
   "execution_count": 4,
   "id": "a2003851-4508-4fc3-8dd9-ffe616b195e8",
   "metadata": {},
   "outputs": [
    {
     "name": "stdout",
     "output_type": "stream",
     "text": [
      "<class 'pandas.core.frame.DataFrame'>\n",
      "Index: 1086 entries, 107hfj5 to 10b7z2a\n",
      "Data columns (total 4 columns):\n",
      " #   Column  Non-Null Count  Dtype  \n",
      "---  ------  --------------  -----  \n",
      " 0   title   1086 non-null   object \n",
      " 1   text    1086 non-null   object \n",
      " 2   utc     1086 non-null   float64\n",
      " 3   author  1076 non-null   object \n",
      "dtypes: float64(1), object(3)\n",
      "memory usage: 42.4+ KB\n"
     ]
    }
   ],
   "source": [
    "composers = pd.read_csv(f\"../data/{composers_to_use}.csv\", index_col='id')\n",
    "composers.info()"
   ]
  },
  {
   "cell_type": "code",
   "execution_count": 5,
   "id": "6b43a8c6-f19c-4b58-aab5-8cec2cda220a",
   "metadata": {},
   "outputs": [
    {
     "name": "stdout",
     "output_type": "stream",
     "text": [
      "<class 'pandas.core.frame.DataFrame'>\n",
      "Index: 1245 entries, 107ilpd to 10b33q8\n",
      "Data columns (total 4 columns):\n",
      " #   Column  Non-Null Count  Dtype  \n",
      "---  ------  --------------  -----  \n",
      " 0   title   1245 non-null   object \n",
      " 1   text    1030 non-null   object \n",
      " 2   utc     1245 non-null   float64\n",
      " 3   author  1237 non-null   object \n",
      "dtypes: float64(1), object(3)\n",
      "memory usage: 48.6+ KB\n"
     ]
    }
   ],
   "source": [
    "producers = pd.read_csv(f\"../data/{producers_to_use}.csv\", index_col='id')\n",
    "producers.info()"
   ]
  },
  {
   "cell_type": "markdown",
   "id": "92189ef0-86ea-4fdf-b83e-ee7d4b5e903c",
   "metadata": {},
   "source": [
    "## Drop the `author` column"
   ]
  },
  {
   "cell_type": "code",
   "execution_count": 6,
   "id": "28aa0ffa-c6c3-4257-b010-d60021e0e46c",
   "metadata": {},
   "outputs": [],
   "source": [
    "composers.drop(columns='author', inplace=True)\n",
    "producers.drop(columns='author', inplace=True)"
   ]
  },
  {
   "cell_type": "markdown",
   "id": "f9baa673-0d3f-4462-92a9-f18c2c6299ec",
   "metadata": {},
   "source": [
    "# \"Composers\" data"
   ]
  },
  {
   "cell_type": "markdown",
   "id": "4b6e36f4-f4f7-466d-b5a7-1c8d95a98e36",
   "metadata": {},
   "source": [
    "## Check for missing data"
   ]
  },
  {
   "cell_type": "code",
   "execution_count": 7,
   "id": "ac95ab32-d839-471b-94e4-9b83fa394d92",
   "metadata": {},
   "outputs": [
    {
     "data": {
      "text/plain": [
       "title    0\n",
       "text     0\n",
       "utc      0\n",
       "dtype: int64"
      ]
     },
     "execution_count": 7,
     "metadata": {},
     "output_type": "execute_result"
    }
   ],
   "source": [
    "composers.isnull().sum()"
   ]
  },
  {
   "cell_type": "markdown",
   "id": "b0836212-1dfd-4173-8765-b65e0c83827b",
   "metadata": {},
   "source": [
    "## Examine non-unique titles"
   ]
  },
  {
   "cell_type": "code",
   "execution_count": 8,
   "id": "20e490f2-3f0f-4f2e-b71e-60dc7c315685",
   "metadata": {},
   "outputs": [
    {
     "data": {
      "text/plain": [
       "Music challenge app for creative development    3\n",
       "New to composing                                2\n",
       "minature series                                 1\n",
       "Name: title, dtype: int64"
      ]
     },
     "execution_count": 8,
     "metadata": {},
     "output_type": "execute_result"
    }
   ],
   "source": [
    "composers['title'].value_counts(ascending=False).head(3)"
   ]
  },
  {
   "cell_type": "markdown",
   "id": "fc5cdcd6-0992-4f09-b0cc-b4ecd318b6f5",
   "metadata": {},
   "source": [
    "It looks like there are a couple titles that have multiple posts.  Are these duplicates, or are they truly different posts that happen to share a name?"
   ]
  },
  {
   "cell_type": "code",
   "execution_count": 9,
   "id": "bda26ee0-c88e-4a4d-83c7-4a8b030e4291",
   "metadata": {},
   "outputs": [
    {
     "data": {
      "text/html": [
       "<div>\n",
       "<style scoped>\n",
       "    .dataframe tbody tr th:only-of-type {\n",
       "        vertical-align: middle;\n",
       "    }\n",
       "\n",
       "    .dataframe tbody tr th {\n",
       "        vertical-align: top;\n",
       "    }\n",
       "\n",
       "    .dataframe thead th {\n",
       "        text-align: right;\n",
       "    }\n",
       "</style>\n",
       "<table border=\"1\" class=\"dataframe\">\n",
       "  <thead>\n",
       "    <tr style=\"text-align: right;\">\n",
       "      <th></th>\n",
       "      <th>title</th>\n",
       "      <th>text</th>\n",
       "      <th>utc</th>\n",
       "    </tr>\n",
       "    <tr>\n",
       "      <th>id</th>\n",
       "      <th></th>\n",
       "      <th></th>\n",
       "      <th></th>\n",
       "    </tr>\n",
       "  </thead>\n",
       "  <tbody>\n",
       "    <tr>\n",
       "      <th>10245a9</th>\n",
       "      <td>Music challenge app for creative development</td>\n",
       "      <td>Hi,\\n\\nI created a web app with music challenges in form of an image- goal is to create a song that resembles/ describes given photo! Song with most votes is declared a winner! There is also search by colour for challenges. I just made a mobile version too so check it out!\\n\\n[https://musicchallengeapp.onrender.com/](https://musicchallengeapp.onrender.com/)</td>\n",
       "      <td>1.672740e+09</td>\n",
       "    </tr>\n",
       "    <tr>\n",
       "      <th>1022y60</th>\n",
       "      <td>Music challenge app for creative development</td>\n",
       "      <td>Hi,\\n\\nI created a web app with music challenges in form of an image- goal is to create a song that resembles/ describes given photo! Song with most votes is declared a winner! There is also search by colour for challenges. I just made a mobile version too so check it out!\\n\\n[https://musicchallengeapp.onrender.com/](https://musicchallengeapp.onrender.com/)</td>\n",
       "      <td>1.672736e+09</td>\n",
       "    </tr>\n",
       "    <tr>\n",
       "      <th>zg6jlb</th>\n",
       "      <td>Music challenge app for creative development</td>\n",
       "      <td>Hi,\\n\\nI created a web app with music challenges in form of an image- goal is to create a song that resembles/ describes given photo! Song with most votes is declared a winner! There is also search by colour for challenges. I just made a mobile version too so check it out!\\n\\n[https://musicchallengeapp.onrender.com/](https://musicchallengeapp.onrender.com/)</td>\n",
       "      <td>1.670523e+09</td>\n",
       "    </tr>\n",
       "  </tbody>\n",
       "</table>\n",
       "</div>"
      ],
      "text/plain": [
       "                                                title  \\\n",
       "id                                                      \n",
       "10245a9  Music challenge app for creative development   \n",
       "1022y60  Music challenge app for creative development   \n",
       "zg6jlb   Music challenge app for creative development   \n",
       "\n",
       "                                                                                                                                                                                                                                                                                                                                                                             text  \\\n",
       "id                                                                                                                                                                                                                                                                                                                                                                                  \n",
       "10245a9   Hi,\\n\\nI created a web app with music challenges in form of an image- goal is to create a song that resembles/ describes given photo! Song with most votes is declared a winner! There is also search by colour for challenges. I just made a mobile version too so check it out!\\n\\n[https://musicchallengeapp.onrender.com/](https://musicchallengeapp.onrender.com/)   \n",
       "1022y60   Hi,\\n\\nI created a web app with music challenges in form of an image- goal is to create a song that resembles/ describes given photo! Song with most votes is declared a winner! There is also search by colour for challenges. I just made a mobile version too so check it out!\\n\\n[https://musicchallengeapp.onrender.com/](https://musicchallengeapp.onrender.com/)   \n",
       "zg6jlb    Hi,\\n\\nI created a web app with music challenges in form of an image- goal is to create a song that resembles/ describes given photo! Song with most votes is declared a winner! There is also search by colour for challenges. I just made a mobile version too so check it out!\\n\\n[https://musicchallengeapp.onrender.com/](https://musicchallengeapp.onrender.com/)   \n",
       "\n",
       "                  utc  \n",
       "id                     \n",
       "10245a9  1.672740e+09  \n",
       "1022y60  1.672736e+09  \n",
       "zg6jlb   1.670523e+09  "
      ]
     },
     "execution_count": 9,
     "metadata": {},
     "output_type": "execute_result"
    }
   ],
   "source": [
    "composers[composers['title']=='Music challenge app for creative development']"
   ]
  },
  {
   "cell_type": "markdown",
   "id": "1e450eb7-e77b-4d11-a519-4c02adec7748",
   "metadata": {},
   "source": [
    "These look like duplicates that have been re-posted, so we'll want to keep just the first of these three.  What about the second non-unique title?"
   ]
  },
  {
   "cell_type": "code",
   "execution_count": 10,
   "id": "344feace-dfa3-4f76-bc6e-f6587744bd14",
   "metadata": {},
   "outputs": [
    {
     "data": {
      "text/html": [
       "<div>\n",
       "<style scoped>\n",
       "    .dataframe tbody tr th:only-of-type {\n",
       "        vertical-align: middle;\n",
       "    }\n",
       "\n",
       "    .dataframe tbody tr th {\n",
       "        vertical-align: top;\n",
       "    }\n",
       "\n",
       "    .dataframe thead th {\n",
       "        text-align: right;\n",
       "    }\n",
       "</style>\n",
       "<table border=\"1\" class=\"dataframe\">\n",
       "  <thead>\n",
       "    <tr style=\"text-align: right;\">\n",
       "      <th></th>\n",
       "      <th>title</th>\n",
       "      <th>text</th>\n",
       "      <th>utc</th>\n",
       "    </tr>\n",
       "    <tr>\n",
       "      <th>id</th>\n",
       "      <th></th>\n",
       "      <th></th>\n",
       "      <th></th>\n",
       "    </tr>\n",
       "  </thead>\n",
       "  <tbody>\n",
       "    <tr>\n",
       "      <th>ymqqyx</th>\n",
       "      <td>New to composing</td>\n",
       "      <td>I have been playing piano for almost 2 decades now and I wanted to start creating some orchestral scores for a game I'm working on. But my current problem is that I can't seem to find any good free instrument libraries for the music. I found some where you have 1 piano, or 1 violin, but never a full orchestra. I also use the sforzando font, but I have a feeling that a font is not the prefered ...</td>\n",
       "      <td>1.667646e+09</td>\n",
       "    </tr>\n",
       "    <tr>\n",
       "      <th>xmm6sk</th>\n",
       "      <td>New to composing</td>\n",
       "      <td>What are some good techniques to add to a composition?</td>\n",
       "      <td>1.664005e+09</td>\n",
       "    </tr>\n",
       "  </tbody>\n",
       "</table>\n",
       "</div>"
      ],
      "text/plain": [
       "                   title  \\\n",
       "id                         \n",
       "ymqqyx  New to composing   \n",
       "xmm6sk  New to composing   \n",
       "\n",
       "                                                                                                                                                                                                                                                                                                                                                                                                                   text  \\\n",
       "id                                                                                                                                                                                                                                                                                                                                                                                                                        \n",
       "ymqqyx  I have been playing piano for almost 2 decades now and I wanted to start creating some orchestral scores for a game I'm working on. But my current problem is that I can't seem to find any good free instrument libraries for the music. I found some where you have 1 piano, or 1 violin, but never a full orchestra. I also use the sforzando font, but I have a feeling that a font is not the prefered ...   \n",
       "xmm6sk                                                                                                                                                                                                                                                                                                                                                           What are some good techniques to add to a composition?   \n",
       "\n",
       "                 utc  \n",
       "id                    \n",
       "ymqqyx  1.667646e+09  \n",
       "xmm6sk  1.664005e+09  "
      ]
     },
     "execution_count": 10,
     "metadata": {},
     "output_type": "execute_result"
    }
   ],
   "source": [
    "composers[composers['title']=='New to composing']"
   ]
  },
  {
   "cell_type": "markdown",
   "id": "aebf069c-b670-4dbc-a65a-d1bd0ba2c87e",
   "metadata": {},
   "source": [
    "These are different messages that just happen to have the same title.  So we'll want to keep both of these.\n",
    "\n",
    "Below, we write a function that should accomplish this data-cleaning task automatically, regardless of the number of different posts that share a title.  It deletes all but one of any \"duplicate\" posts - i.e. those posts that have the same title *and* the same message - while leaving in those posts that have the same title but different messages."
   ]
  },
  {
   "cell_type": "code",
   "execution_count": 11,
   "id": "cb5bf1bd-6312-4430-8211-c4a984160e56",
   "metadata": {},
   "outputs": [],
   "source": [
    "def remove_duplicates(df):\n",
    "    '''\n",
    "    Deletes all but one of any \"duplicate\" posts (i.e. posts that have the same title\n",
    "    AND the same text) from the given dataframe df.\n",
    "    '''\n",
    "    \n",
    "    titles_with_duplicates_at_top = df['title'].value_counts(ascending=False)\n",
    "    \n",
    "    for title in titles_with_duplicates_at_top.index:\n",
    "        #If we've already reached a title that appears only once, then there are no more\n",
    "        #duplicate titles at all (as the series is sorted by title frequency).\n",
    "        if titles_with_duplicates_at_top[title]==1:\n",
    "            break\n",
    "    \n",
    "        #Otherwise, we have a duplicate title, so we'll check if it corresponds to\n",
    "        #duplicate messages.  If so, we'll drop all but one of each of the duplicates.\n",
    "        \n",
    "        #Make a dataframe of just those posts with this (duplicate) title\n",
    "        has_this_title = df[df['title']==title]\n",
    "        \n",
    "        #Loop over each different message that has this same title\n",
    "        for message in has_this_title['text'].value_counts().index:\n",
    "            \n",
    "            #Check if there is more than one copy of this message\n",
    "            if has_this_title['text'].value_counts()[message]>1:\n",
    "                \n",
    "                #If so, record the indices of all but one of these messages...\n",
    "                drop_inds = has_this_title[has_this_title['text']==message].index[:-1]\n",
    "                \n",
    "                #then drop these indices from the original data frame.\n",
    "                df.drop(index=drop_inds, inplace=True)\n",
    "            "
   ]
  },
  {
   "cell_type": "code",
   "execution_count": 12,
   "id": "be6a8bf8-72ec-4196-9599-09aaf8fccdc4",
   "metadata": {},
   "outputs": [
    {
     "data": {
      "text/plain": [
       "New to composing                                              2\n",
       "minature series                                               1\n",
       "Educational institutions for composition/electronic music?    1\n",
       "Name: title, dtype: int64"
      ]
     },
     "execution_count": 12,
     "metadata": {},
     "output_type": "execute_result"
    }
   ],
   "source": [
    "#Apply the function\n",
    "remove_duplicates(composers)\n",
    "\n",
    "#See what happened\n",
    "composers['title'].value_counts(ascending=False).head(3)"
   ]
  },
  {
   "cell_type": "markdown",
   "id": "a624738e-e751-46e3-8f6d-667f375047fa",
   "metadata": {},
   "source": [
    "As we can see, the function successfully dropped the \"truly duplicate\" posts but left in both posts that have the title \"New to composing\" (since these posts have different body text)."
   ]
  },
  {
   "cell_type": "markdown",
   "id": "91ea5388-a7a8-4fcc-b3bf-013606bbb161",
   "metadata": {},
   "source": [
    "## Examine non-unique messages"
   ]
  },
  {
   "cell_type": "code",
   "execution_count": 13,
   "id": "52e9c648-583f-4f8a-b27d-e4bfaec99711",
   "metadata": {},
   "outputs": [
    {
     "data": {
      "text/plain": [
       "Over 2022, I wrote about 30 little pieces for solo piano. I find it very satisfying and helpful to my process to constantly finish little things in between my larger projects- it helps me stay organized and keep composing.\\nStay tuned as I'll be releasing one little miniature recording a week on youtube for the next few months!\\nThis first installment is called \"Madrigal\" after the old italian vocal tradition. It's a tender little thing that I think is appropriate for this time of year! It's dedicated to my old composition teacher at Peabody, Michael Hersch, and is a sort of hommage to some of his music.\\nHope y'all enjoy!\\n\\nhttps://youtu.be/DSJukDcSRsQ                                                                                                                                                                                                                                                                                                                                                                                                                                                                                                                                                                                                                              1\n",
       "Score video: https://youtu.be/GQwaMhOzstY                                                                                                                                                                                                                                                                                                                                                                                                                                                                                                                                                                                                                                                                                                                                                                                                                                                                                                                                                                                                                                                                                                                                                                                                                                                                           1\n",
       "Hi guys !I am Amaury, a film Music Composer and i think my last soundtrack \"TOTEM\" is really worth having a listen.The Film is about the journey of Ama, a 12 years Old girl from Senegal, living in Rotterdam, and how she finally makes peace with her African roots after rejecting them to fit the world around, being chased away by the police, left alone as her Dad and Mom are in jail as illegal immigrants.\\n\\n**I tried to create a very special atmosphere in this Soundtrack, crafting very original Sounds. Overall, the Soundtrack is a mix between a modern classical approach, destructing the rules andcolors of an orchestra, and integrating as well African colors.**\\n\\nPlease find here a link towards several Streaming platforms, and below one of the music sheetDon't hesitate to have a look at my Website, and follow me on Instagram for more content. ( Links in profile)\\n\\n**Score for Track 1 :** [HERE](https://www.dropbox.com/s/uv6362qtkqcwl83/Mane%20May%20Ama%20-%20Music%20sheet.png?dl=0)\\n\\n**Listen to the track** : [https://open.spotify.com/track/3MYxXs7F4uXpMemZTd9gmm?si=12ff8771b6964fe8](https://open.spotify.com/track/3MYxXs7F4uXpMemZTd9gmm?si=12ff8771b6964fe8)\\n\\nIf you need to contact me, please follow the links on my profile.   \\nThanks,  \\nALB    1\n",
       "Name: text, dtype: int64"
      ]
     },
     "execution_count": 13,
     "metadata": {},
     "output_type": "execute_result"
    }
   ],
   "source": [
    "composers['text'].value_counts(ascending=False).head(3)"
   ]
  },
  {
   "cell_type": "markdown",
   "id": "04569b72-b0e6-4cb4-918c-d6f229868d9c",
   "metadata": {},
   "source": [
    "So there are no duplicate messages remaining in the `composers` dataframe."
   ]
  },
  {
   "cell_type": "markdown",
   "id": "44bc3e62-e2a2-4f65-88c6-3153483ba6e9",
   "metadata": {},
   "source": [
    "## Export \"composers\" data set"
   ]
  },
  {
   "cell_type": "code",
   "execution_count": 14,
   "id": "1744d791-0652-4ff8-8088-ce3a6336a902",
   "metadata": {},
   "outputs": [],
   "source": [
    "composers.to_csv('../data/composers_cleaned.csv', index_label='id')"
   ]
  },
  {
   "cell_type": "markdown",
   "id": "f5e98234-28eb-496c-a47c-00fd55295d8f",
   "metadata": {},
   "source": [
    "# \"Producers\" data"
   ]
  },
  {
   "cell_type": "markdown",
   "id": "2d465a1e-ba30-48e7-8d42-33ef6f2a65dd",
   "metadata": {},
   "source": [
    "## Check for missing data"
   ]
  },
  {
   "cell_type": "code",
   "execution_count": 15,
   "id": "a3ce29fe-08cc-4d9c-a07a-e120c4ef3f34",
   "metadata": {},
   "outputs": [
    {
     "data": {
      "text/plain": [
       "title      0\n",
       "text     215\n",
       "utc        0\n",
       "dtype: int64"
      ]
     },
     "execution_count": 15,
     "metadata": {},
     "output_type": "execute_result"
    }
   ],
   "source": [
    "producers.isnull().sum()"
   ]
  },
  {
   "cell_type": "code",
   "execution_count": 16,
   "id": "07bb2f54-4e59-4032-9639-3e161a25bd51",
   "metadata": {},
   "outputs": [
    {
     "data": {
      "text/html": [
       "<div>\n",
       "<style scoped>\n",
       "    .dataframe tbody tr th:only-of-type {\n",
       "        vertical-align: middle;\n",
       "    }\n",
       "\n",
       "    .dataframe tbody tr th {\n",
       "        vertical-align: top;\n",
       "    }\n",
       "\n",
       "    .dataframe thead th {\n",
       "        text-align: right;\n",
       "    }\n",
       "</style>\n",
       "<table border=\"1\" class=\"dataframe\">\n",
       "  <thead>\n",
       "    <tr style=\"text-align: right;\">\n",
       "      <th></th>\n",
       "      <th>title</th>\n",
       "      <th>text</th>\n",
       "      <th>utc</th>\n",
       "    </tr>\n",
       "    <tr>\n",
       "      <th>id</th>\n",
       "      <th></th>\n",
       "      <th></th>\n",
       "      <th></th>\n",
       "    </tr>\n",
       "  </thead>\n",
       "  <tbody>\n",
       "    <tr>\n",
       "      <th>107ilpd</th>\n",
       "      <td>I'm starting a YouTube series about home-recording. A stream-of-consciousness type of \"explain my process\" show. I'm curious if this is something you all might find fun to watch. Thoughts?</td>\n",
       "      <td>NaN</td>\n",
       "      <td>1.673282e+09</td>\n",
       "    </tr>\n",
       "    <tr>\n",
       "      <th>107iae0</th>\n",
       "      <td>Recording Vocals With a Neumann U87 ai, Neve 1073 SPX, Distressor Compre...</td>\n",
       "      <td>NaN</td>\n",
       "      <td>1.673281e+09</td>\n",
       "    </tr>\n",
       "    <tr>\n",
       "      <th>107htcg</th>\n",
       "      <td>fuck it im going dawless, its way mire fun jamming this way than with plugins imo</td>\n",
       "      <td>NaN</td>\n",
       "      <td>1.673280e+09</td>\n",
       "    </tr>\n",
       "    <tr>\n",
       "      <th>107g42u</th>\n",
       "      <td>A fantastic AI Audio to MIDI tool</td>\n",
       "      <td>NaN</td>\n",
       "      <td>1.673276e+09</td>\n",
       "    </tr>\n",
       "    <tr>\n",
       "      <th>107fgke</th>\n",
       "      <td>Should I sell my music on Artlist or Epidemic Sound? Anyone have any experience?</td>\n",
       "      <td>NaN</td>\n",
       "      <td>1.673274e+09</td>\n",
       "    </tr>\n",
       "    <tr>\n",
       "      <th>10754js</th>\n",
       "      <td>How to get this airy, spacey groove? I tried recreating this song on Logic but mine sounded much more duller.</td>\n",
       "      <td>NaN</td>\n",
       "      <td>1.673240e+09</td>\n",
       "    </tr>\n",
       "    <tr>\n",
       "      <th>106zcsk</th>\n",
       "      <td>Does anyone know how the guitar riff in the beginning of Mama Mia sounds the way it does?</td>\n",
       "      <td>NaN</td>\n",
       "      <td>1.673224e+09</td>\n",
       "    </tr>\n",
       "    <tr>\n",
       "      <th>106ymzd</th>\n",
       "      <td>I wanna start recording myself singing with background music. Do you think this recording bundle will help me do that?</td>\n",
       "      <td>NaN</td>\n",
       "      <td>1.673222e+09</td>\n",
       "    </tr>\n",
       "    <tr>\n",
       "      <th>106vd41</th>\n",
       "      <td>music for my school play</td>\n",
       "      <td>NaN</td>\n",
       "      <td>1.673214e+09</td>\n",
       "    </tr>\n",
       "    <tr>\n",
       "      <th>106sja7</th>\n",
       "      <td>Does anybody here make music for Epidemic sounds? If so, what has your experience been like?</td>\n",
       "      <td>NaN</td>\n",
       "      <td>1.673208e+09</td>\n",
       "    </tr>\n",
       "    <tr>\n",
       "      <th>106rqde</th>\n",
       "      <td>Just bought this Shure SM58 a day ago, and I’m using a 15ft XLR to XLR cable connected to a Teyun Q-22 audio interface. I have to turn the gain all the way up in order to (barely) hear my voice, but the vocal recording is still extremely quiet. Is it my mic or audio interface?</td>\n",
       "      <td>NaN</td>\n",
       "      <td>1.673206e+09</td>\n",
       "    </tr>\n",
       "    <tr>\n",
       "      <th>106oybd</th>\n",
       "      <td>One Guy, 20 Bands (Metal Rendition)</td>\n",
       "      <td>NaN</td>\n",
       "      <td>1.673199e+09</td>\n",
       "    </tr>\n",
       "    <tr>\n",
       "      <th>106izsw</th>\n",
       "      <td>You Aint Never</td>\n",
       "      <td>NaN</td>\n",
       "      <td>1.673184e+09</td>\n",
       "    </tr>\n",
       "    <tr>\n",
       "      <th>106e9xi</th>\n",
       "      <td>moving farther away from VST can someone recommend a good Vocal processing unit (19\" rack preferred) that has a good amount of features, compressors, distortion and other effects?</td>\n",
       "      <td>NaN</td>\n",
       "      <td>1.673167e+09</td>\n",
       "    </tr>\n",
       "    <tr>\n",
       "      <th>106dady</th>\n",
       "      <td>Can anyone here please help me figure out which artists this track sounds similar to?</td>\n",
       "      <td>NaN</td>\n",
       "      <td>1.673164e+09</td>\n",
       "    </tr>\n",
       "    <tr>\n",
       "      <th>106b7fp</th>\n",
       "      <td>too cool had to share it. imma be playing keyboard in bed like a weirdo</td>\n",
       "      <td>NaN</td>\n",
       "      <td>1.673157e+09</td>\n",
       "    </tr>\n",
       "    <tr>\n",
       "      <th>1069cvq</th>\n",
       "      <td>What piano sound is used in this instrumental? Can it be found in the Arturia lab V collection?</td>\n",
       "      <td>NaN</td>\n",
       "      <td>1.673151e+09</td>\n",
       "    </tr>\n",
       "    <tr>\n",
       "      <th>105vpte</th>\n",
       "      <td>ISO hardware that has sliders and knobs (no pads or keys) so I could map effects racks and route samples or tracks through it for live automation. Any suggestions? Preferably at least 8 knobs and 8 sliders</td>\n",
       "      <td>NaN</td>\n",
       "      <td>1.673116e+09</td>\n",
       "    </tr>\n",
       "    <tr>\n",
       "      <th>105vj53</th>\n",
       "      <td>AI Music is pretty trash right now imo, do you think it will change in 2023?</td>\n",
       "      <td>NaN</td>\n",
       "      <td>1.673115e+09</td>\n",
       "    </tr>\n",
       "    <tr>\n",
       "      <th>105uzif</th>\n",
       "      <td>How to Sound like GORILLAZ | 'NEW GOLD' full Cover and Production Tutorial</td>\n",
       "      <td>NaN</td>\n",
       "      <td>1.673114e+09</td>\n",
       "    </tr>\n",
       "  </tbody>\n",
       "</table>\n",
       "</div>"
      ],
      "text/plain": [
       "                                                                                                                                                                                                                                                                                         title  \\\n",
       "id                                                                                                                                                                                                                                                                                               \n",
       "107ilpd                                                                                           I'm starting a YouTube series about home-recording. A stream-of-consciousness type of \"explain my process\" show. I'm curious if this is something you all might find fun to watch. Thoughts?   \n",
       "107iae0                                                                                                                                                                                                            Recording Vocals With a Neumann U87 ai, Neve 1073 SPX, Distressor Compre...   \n",
       "107htcg                                                                                                                                                                                                      fuck it im going dawless, its way mire fun jamming this way than with plugins imo   \n",
       "107g42u                                                                                                                                                                                                                                                      A fantastic AI Audio to MIDI tool   \n",
       "107fgke                                                                                                                                                                                                       Should I sell my music on Artlist or Epidemic Sound? Anyone have any experience?   \n",
       "10754js                                                                                                                                                                          How to get this airy, spacey groove? I tried recreating this song on Logic but mine sounded much more duller.   \n",
       "106zcsk                                                                                                                                                                                              Does anyone know how the guitar riff in the beginning of Mama Mia sounds the way it does?   \n",
       "106ymzd                                                                                                                                                                 I wanna start recording myself singing with background music. Do you think this recording bundle will help me do that?   \n",
       "106vd41                                                                                                                                                                                                                                                               music for my school play   \n",
       "106sja7                                                                                                                                                                                           Does anybody here make music for Epidemic sounds? If so, what has your experience been like?   \n",
       "106rqde  Just bought this Shure SM58 a day ago, and I’m using a 15ft XLR to XLR cable connected to a Teyun Q-22 audio interface. I have to turn the gain all the way up in order to (barely) hear my voice, but the vocal recording is still extremely quiet. Is it my mic or audio interface?   \n",
       "106oybd                                                                                                                                                                                                                                                    One Guy, 20 Bands (Metal Rendition)   \n",
       "106izsw                                                                                                                                                                                                                                                                         You Aint Never   \n",
       "106e9xi                                                                                                    moving farther away from VST can someone recommend a good Vocal processing unit (19\" rack preferred) that has a good amount of features, compressors, distortion and other effects?   \n",
       "106dady                                                                                                                                                                                                  Can anyone here please help me figure out which artists this track sounds similar to?   \n",
       "106b7fp                                                                                                                                                                                                                too cool had to share it. imma be playing keyboard in bed like a weirdo   \n",
       "1069cvq                                                                                                                                                                                        What piano sound is used in this instrumental? Can it be found in the Arturia lab V collection?   \n",
       "105vpte                                                                          ISO hardware that has sliders and knobs (no pads or keys) so I could map effects racks and route samples or tracks through it for live automation. Any suggestions? Preferably at least 8 knobs and 8 sliders   \n",
       "105vj53                                                                                                                                                                                                           AI Music is pretty trash right now imo, do you think it will change in 2023?   \n",
       "105uzif                                                                                                                                                                                                             How to Sound like GORILLAZ | 'NEW GOLD' full Cover and Production Tutorial   \n",
       "\n",
       "        text           utc  \n",
       "id                          \n",
       "107ilpd  NaN  1.673282e+09  \n",
       "107iae0  NaN  1.673281e+09  \n",
       "107htcg  NaN  1.673280e+09  \n",
       "107g42u  NaN  1.673276e+09  \n",
       "107fgke  NaN  1.673274e+09  \n",
       "10754js  NaN  1.673240e+09  \n",
       "106zcsk  NaN  1.673224e+09  \n",
       "106ymzd  NaN  1.673222e+09  \n",
       "106vd41  NaN  1.673214e+09  \n",
       "106sja7  NaN  1.673208e+09  \n",
       "106rqde  NaN  1.673206e+09  \n",
       "106oybd  NaN  1.673199e+09  \n",
       "106izsw  NaN  1.673184e+09  \n",
       "106e9xi  NaN  1.673167e+09  \n",
       "106dady  NaN  1.673164e+09  \n",
       "106b7fp  NaN  1.673157e+09  \n",
       "1069cvq  NaN  1.673151e+09  \n",
       "105vpte  NaN  1.673116e+09  \n",
       "105vj53  NaN  1.673115e+09  \n",
       "105uzif  NaN  1.673114e+09  "
      ]
     },
     "execution_count": 16,
     "metadata": {},
     "output_type": "execute_result"
    }
   ],
   "source": [
    "#Look at the first 20 posts with missing body text\n",
    "producers[producers['text'].isnull()].head(20)"
   ]
  },
  {
   "cell_type": "markdown",
   "id": "86a464e8-543d-431c-b94c-ab0d22e1be76",
   "metadata": {},
   "source": [
    "There don't seem to be any obvious issues with these posts that are missing text.  So we'll just replace the `NaN` values with the empty string so that our text processing algorithms won't run into any issues."
   ]
  },
  {
   "cell_type": "code",
   "execution_count": 17,
   "id": "a2f20f10-e157-4b68-8bd9-b50cb5845cc0",
   "metadata": {},
   "outputs": [
    {
     "data": {
      "text/plain": [
       "title    0\n",
       "text     0\n",
       "utc      0\n",
       "dtype: int64"
      ]
     },
     "execution_count": 17,
     "metadata": {},
     "output_type": "execute_result"
    }
   ],
   "source": [
    "#Replace NaN's with missing values\n",
    "producers.fillna('', inplace=True)\n",
    "producers.isnull().sum()"
   ]
  },
  {
   "cell_type": "markdown",
   "id": "83b895b0-2fd6-48ed-83fd-fbc54b6314ec",
   "metadata": {},
   "source": [
    "## Examine non-unique titles"
   ]
  },
  {
   "cell_type": "code",
   "execution_count": 18,
   "id": "8be7c23c-c791-4254-86b6-d5883566402f",
   "metadata": {},
   "outputs": [
    {
     "data": {
      "text/plain": [
       "Free DAWS for Music Making?                                                                                                                                                                     2\n",
       "Mysterious microphone crackling                                                                                                                                                                 2\n",
       "Asus Flow z13 or x13                                                                                                                                                                            2\n",
       "I'm starting a YouTube series about home-recording. A stream-of-consciousness type of \"explain my process\" show. I'm curious if this is something you all might find fun to watch. Thoughts?    1\n",
       "How to get royalties?                                                                                                                                                                           1\n",
       "Name: title, dtype: int64"
      ]
     },
     "execution_count": 18,
     "metadata": {},
     "output_type": "execute_result"
    }
   ],
   "source": [
    "producers['title'].value_counts(ascending=False).head()"
   ]
  },
  {
   "cell_type": "markdown",
   "id": "84fd712b-0e12-418c-bfd6-ab677ff88b15",
   "metadata": {},
   "source": [
    "This time we only have three duplicate titles.  This is still few enough to do things manually and not write a function."
   ]
  },
  {
   "cell_type": "code",
   "execution_count": 19,
   "id": "21e37b40-536e-4fc1-83e4-35b5b37862cf",
   "metadata": {},
   "outputs": [
    {
     "data": {
      "text/plain": [
       "Mysterious microphone crackling                                                                                                                                                                 2\n",
       "I'm starting a YouTube series about home-recording. A stream-of-consciousness type of \"explain my process\" show. I'm curious if this is something you all might find fun to watch. Thoughts?    1\n",
       "want to make music, keep forgetting the melodies that pop into my head, what are the best ways to \"write\" them down?                                                                            1\n",
       "How to make a sample fit my tempo constantly?                                                                                                                                                   1\n",
       "Mic records all audio even when there is no speaker volume                                                                                                                                      1\n",
       "Name: title, dtype: int64"
      ]
     },
     "execution_count": 19,
     "metadata": {},
     "output_type": "execute_result"
    }
   ],
   "source": [
    "#Apply the function written above to remove duplicate posts\n",
    "remove_duplicates(producers)\n",
    "\n",
    "#See the results\n",
    "producers['title'].value_counts(ascending=False).head()"
   ]
  },
  {
   "cell_type": "markdown",
   "id": "bd8c2c4c-4f60-4ea7-9b18-a0606925a877",
   "metadata": {},
   "source": [
    "So we still have one title that is shared between two posts.  Let's examine these two posts that share this title:"
   ]
  },
  {
   "cell_type": "code",
   "execution_count": 20,
   "id": "1c668995-bfc8-49cb-b74e-b4cfdf6897f5",
   "metadata": {},
   "outputs": [
    {
     "data": {
      "text/html": [
       "<div>\n",
       "<style scoped>\n",
       "    .dataframe tbody tr th:only-of-type {\n",
       "        vertical-align: middle;\n",
       "    }\n",
       "\n",
       "    .dataframe tbody tr th {\n",
       "        vertical-align: top;\n",
       "    }\n",
       "\n",
       "    .dataframe thead th {\n",
       "        text-align: right;\n",
       "    }\n",
       "</style>\n",
       "<table border=\"1\" class=\"dataframe\">\n",
       "  <thead>\n",
       "    <tr style=\"text-align: right;\">\n",
       "      <th></th>\n",
       "      <th>title</th>\n",
       "      <th>text</th>\n",
       "      <th>utc</th>\n",
       "    </tr>\n",
       "    <tr>\n",
       "      <th>id</th>\n",
       "      <th></th>\n",
       "      <th></th>\n",
       "      <th></th>\n",
       "    </tr>\n",
       "  </thead>\n",
       "  <tbody>\n",
       "    <tr>\n",
       "      <th>zvlvmf</th>\n",
       "      <td>Mysterious microphone crackling</td>\n",
       "      <td>Hey \\nI have a problem in my home studio. I can hear a crackling when I’m using my microphones. I use a Shure SM7b as you can see in the picture, but I also have a Rode NT1 a. I use the Rode AI 1 Interface. I tried it out with both mics, with two Rode AI 1s, with a Mac Mini, with a HP Laptop, with a HP Omen Gaming PC and in different rooms of my House.\\nI noticed that the crackling is sometime...</td>\n",
       "      <td>1.672056e+09</td>\n",
       "    </tr>\n",
       "    <tr>\n",
       "      <th>zuikqg</th>\n",
       "      <td>Mysterious microphone crackling</td>\n",
       "      <td>Hey \\nI have a problem with my setups. I can hear a crackling of my microphones. I tried both mics (shure sm7b, Rode nt1 a) with two Rode AI 1s, with a Mac Mini, with a HP Laptop and with a Gaming PC. \\nI noticed that the crackling is sometimes not noticeable and on the Gaming PC very intensive. I also noticed that the more usb/hdmi cables I use with my Pc’s, the more intensive is the cracklin...</td>\n",
       "      <td>1.671915e+09</td>\n",
       "    </tr>\n",
       "  </tbody>\n",
       "</table>\n",
       "</div>"
      ],
      "text/plain": [
       "                                  title  \\\n",
       "id                                        \n",
       "zvlvmf  Mysterious microphone crackling   \n",
       "zuikqg  Mysterious microphone crackling   \n",
       "\n",
       "                                                                                                                                                                                                                                                                                                                                                                                                                   text  \\\n",
       "id                                                                                                                                                                                                                                                                                                                                                                                                                        \n",
       "zvlvmf  Hey \\nI have a problem in my home studio. I can hear a crackling when I’m using my microphones. I use a Shure SM7b as you can see in the picture, but I also have a Rode NT1 a. I use the Rode AI 1 Interface. I tried it out with both mics, with two Rode AI 1s, with a Mac Mini, with a HP Laptop, with a HP Omen Gaming PC and in different rooms of my House.\\nI noticed that the crackling is sometime...   \n",
       "zuikqg  Hey \\nI have a problem with my setups. I can hear a crackling of my microphones. I tried both mics (shure sm7b, Rode nt1 a) with two Rode AI 1s, with a Mac Mini, with a HP Laptop and with a Gaming PC. \\nI noticed that the crackling is sometimes not noticeable and on the Gaming PC very intensive. I also noticed that the more usb/hdmi cables I use with my Pc’s, the more intensive is the cracklin...   \n",
       "\n",
       "                 utc  \n",
       "id                    \n",
       "zvlvmf  1.672056e+09  \n",
       "zuikqg  1.671915e+09  "
      ]
     },
     "execution_count": 20,
     "metadata": {},
     "output_type": "execute_result"
    }
   ],
   "source": [
    "producers[producers['title']=='Mysterious microphone crackling']"
   ]
  },
  {
   "cell_type": "markdown",
   "id": "f0c572b7-e42e-47f6-a5d2-3a6cbad3dea2",
   "metadata": {},
   "source": [
    "As we can see, these two posts' texts are not *exactly* identical.  It's a bit of a judgment call as to whether to leave both in or not.  I will drop one of them at random:"
   ]
  },
  {
   "cell_type": "code",
   "execution_count": 21,
   "id": "37d4f971-d03e-491f-9234-27311c1c7db1",
   "metadata": {},
   "outputs": [
    {
     "data": {
      "text/html": [
       "<div>\n",
       "<style scoped>\n",
       "    .dataframe tbody tr th:only-of-type {\n",
       "        vertical-align: middle;\n",
       "    }\n",
       "\n",
       "    .dataframe tbody tr th {\n",
       "        vertical-align: top;\n",
       "    }\n",
       "\n",
       "    .dataframe thead th {\n",
       "        text-align: right;\n",
       "    }\n",
       "</style>\n",
       "<table border=\"1\" class=\"dataframe\">\n",
       "  <thead>\n",
       "    <tr style=\"text-align: right;\">\n",
       "      <th></th>\n",
       "      <th>title</th>\n",
       "      <th>text</th>\n",
       "      <th>utc</th>\n",
       "    </tr>\n",
       "    <tr>\n",
       "      <th>id</th>\n",
       "      <th></th>\n",
       "      <th></th>\n",
       "      <th></th>\n",
       "    </tr>\n",
       "  </thead>\n",
       "  <tbody>\n",
       "    <tr>\n",
       "      <th>zuikqg</th>\n",
       "      <td>Mysterious microphone crackling</td>\n",
       "      <td>Hey \\nI have a problem with my setups. I can hear a crackling of my microphones. I tried both mics (shure sm7b, Rode nt1 a) with two Rode AI 1s, with a Mac Mini, with a HP Laptop and with a Gaming PC. \\nI noticed that the crackling is sometimes not noticeable and on the Gaming PC very intensive. I also noticed that the more usb/hdmi cables I use with my Pc’s, the more intensive is the cracklin...</td>\n",
       "      <td>1.671915e+09</td>\n",
       "    </tr>\n",
       "  </tbody>\n",
       "</table>\n",
       "</div>"
      ],
      "text/plain": [
       "                                  title  \\\n",
       "id                                        \n",
       "zuikqg  Mysterious microphone crackling   \n",
       "\n",
       "                                                                                                                                                                                                                                                                                                                                                                                                                   text  \\\n",
       "id                                                                                                                                                                                                                                                                                                                                                                                                                        \n",
       "zuikqg  Hey \\nI have a problem with my setups. I can hear a crackling of my microphones. I tried both mics (shure sm7b, Rode nt1 a) with two Rode AI 1s, with a Mac Mini, with a HP Laptop and with a Gaming PC. \\nI noticed that the crackling is sometimes not noticeable and on the Gaming PC very intensive. I also noticed that the more usb/hdmi cables I use with my Pc’s, the more intensive is the cracklin...   \n",
       "\n",
       "                 utc  \n",
       "id                    \n",
       "zuikqg  1.671915e+09  "
      ]
     },
     "execution_count": 21,
     "metadata": {},
     "output_type": "execute_result"
    }
   ],
   "source": [
    "#Get indices of these duplicate posts\n",
    "inds = producers[producers['title']=='Mysterious microphone crackling'].index\n",
    "\n",
    "#Set the random seed, for replicability\n",
    "np.random.seed(123)\n",
    "\n",
    "#Drop one of the duplicates at random\n",
    "drop_ind = np.random.choice(inds)\n",
    "producers.drop(index=[drop_ind], inplace=True)\n",
    "\n",
    "#Check that it worked\n",
    "producers[producers['title']=='Mysterious microphone crackling']"
   ]
  },
  {
   "cell_type": "markdown",
   "id": "fad6765f-0078-4f45-8802-125b03eac3a1",
   "metadata": {},
   "source": [
    "## Examine non-unique messages"
   ]
  },
  {
   "cell_type": "code",
   "execution_count": 22,
   "id": "ddba634f-d871-4bc8-8d09-8660efddc6dd",
   "metadata": {},
   "outputs": [
    {
     "data": {
      "text/plain": [
       "                                                                                                                                                                                                                                                                                                                                                                                                                                                                                                                                                                                                                                                                                                                                                                                                                                                                                                                                                                                                                              215\n",
       "I was wondering if anyone has any experience with submitting songs to publishers. I've always been weary of submitting any of mine without knowing the legitimacy of the company.  and the legality of it all when it comes to song writing and publishing. \\nAny info would be great. Thanks!                                                                                                                                                                                                                                                                                                                                                                                                                                                                                                                                                                                                                                                                                                                                  2\n",
       "Guy wants a song that is entirely acapella.\\n\\nI guess his first idea was to just do multiple takes of himself singing, harmonising with himself.\\n\\nAlthough we're probably gonna try this idea too, my advice was for him to do a proper recording of an actual acapella crew. 5 people singing simultaneously, each with a close mic and also a stereo pair in the room to make it more a natural and interesting version of the song.\\n\\nIf he's up for hiring some professional singers it's no big deal since we're bound to get a decent take sooner or later.\\nHowever, we're trying to budget the whole thing and the best thing would be to have a few friends sing, musicians that do have the ability to sing but are not professional, so pitch could be an issue. He himself is not the best singer, kind of off pitch and not the cleanest voice, especially on higher registers.\\n\\nIs it possible for me to eventually pitch correct the stereo/room recording? Close mics won't be too much of an issue.      1\n",
       "Name: text, dtype: int64"
      ]
     },
     "execution_count": 22,
     "metadata": {},
     "output_type": "execute_result"
    }
   ],
   "source": [
    "producers['text'].value_counts(ascending=False).head(3)"
   ]
  },
  {
   "cell_type": "code",
   "execution_count": 23,
   "id": "d4146eca-232e-4c53-9596-494fd98293c0",
   "metadata": {},
   "outputs": [
    {
     "data": {
      "text/html": [
       "<div>\n",
       "<style scoped>\n",
       "    .dataframe tbody tr th:only-of-type {\n",
       "        vertical-align: middle;\n",
       "    }\n",
       "\n",
       "    .dataframe tbody tr th {\n",
       "        vertical-align: top;\n",
       "    }\n",
       "\n",
       "    .dataframe thead th {\n",
       "        text-align: right;\n",
       "    }\n",
       "</style>\n",
       "<table border=\"1\" class=\"dataframe\">\n",
       "  <thead>\n",
       "    <tr style=\"text-align: right;\">\n",
       "      <th></th>\n",
       "      <th>title</th>\n",
       "      <th>text</th>\n",
       "      <th>utc</th>\n",
       "    </tr>\n",
       "    <tr>\n",
       "      <th>id</th>\n",
       "      <th></th>\n",
       "      <th></th>\n",
       "      <th></th>\n",
       "    </tr>\n",
       "  </thead>\n",
       "  <tbody>\n",
       "    <tr>\n",
       "      <th>107ilpd</th>\n",
       "      <td>I'm starting a YouTube series about home-recording. A stream-of-consciousness type of \"explain my process\" show. I'm curious if this is something you all might find fun to watch. Thoughts?</td>\n",
       "      <td></td>\n",
       "      <td>1.673282e+09</td>\n",
       "    </tr>\n",
       "    <tr>\n",
       "      <th>107iae0</th>\n",
       "      <td>Recording Vocals With a Neumann U87 ai, Neve 1073 SPX, Distressor Compre...</td>\n",
       "      <td></td>\n",
       "      <td>1.673281e+09</td>\n",
       "    </tr>\n",
       "    <tr>\n",
       "      <th>107htcg</th>\n",
       "      <td>fuck it im going dawless, its way mire fun jamming this way than with plugins imo</td>\n",
       "      <td></td>\n",
       "      <td>1.673280e+09</td>\n",
       "    </tr>\n",
       "    <tr>\n",
       "      <th>107g42u</th>\n",
       "      <td>A fantastic AI Audio to MIDI tool</td>\n",
       "      <td></td>\n",
       "      <td>1.673276e+09</td>\n",
       "    </tr>\n",
       "    <tr>\n",
       "      <th>107fgke</th>\n",
       "      <td>Should I sell my music on Artlist or Epidemic Sound? Anyone have any experience?</td>\n",
       "      <td></td>\n",
       "      <td>1.673274e+09</td>\n",
       "    </tr>\n",
       "    <tr>\n",
       "      <th>...</th>\n",
       "      <td>...</td>\n",
       "      <td>...</td>\n",
       "      <td>...</td>\n",
       "    </tr>\n",
       "    <tr>\n",
       "      <th>10bgjbp</th>\n",
       "      <td>How to emulate this (synthy?) bass sound?</td>\n",
       "      <td></td>\n",
       "      <td>1.673674e+09</td>\n",
       "    </tr>\n",
       "    <tr>\n",
       "      <th>10bbf0w</th>\n",
       "      <td>does anyone know what this sfx is? i’ve been looking for it for a while</td>\n",
       "      <td></td>\n",
       "      <td>1.673659e+09</td>\n",
       "    </tr>\n",
       "    <tr>\n",
       "      <th>10ba44j</th>\n",
       "      <td>I’m having a lot of trouble getting a VST plugin on windows. I just get this file that doesn’t do anything. I’m trying to download to Cakewalk, but I can’t even extract anything in the first place.</td>\n",
       "      <td></td>\n",
       "      <td>1.673655e+09</td>\n",
       "    </tr>\n",
       "    <tr>\n",
       "      <th>10b6e57</th>\n",
       "      <td>What’s the best mixing head phones out there?</td>\n",
       "      <td></td>\n",
       "      <td>1.673646e+09</td>\n",
       "    </tr>\n",
       "    <tr>\n",
       "      <th>10b58s9</th>\n",
       "      <td>5 Disappointing Pitfalls of a No-Amp Guitar setup.</td>\n",
       "      <td></td>\n",
       "      <td>1.673643e+09</td>\n",
       "    </tr>\n",
       "  </tbody>\n",
       "</table>\n",
       "<p>215 rows × 3 columns</p>\n",
       "</div>"
      ],
      "text/plain": [
       "                                                                                                                                                                                                         title  \\\n",
       "id                                                                                                                                                                                                               \n",
       "107ilpd           I'm starting a YouTube series about home-recording. A stream-of-consciousness type of \"explain my process\" show. I'm curious if this is something you all might find fun to watch. Thoughts?   \n",
       "107iae0                                                                                                                            Recording Vocals With a Neumann U87 ai, Neve 1073 SPX, Distressor Compre...   \n",
       "107htcg                                                                                                                      fuck it im going dawless, its way mire fun jamming this way than with plugins imo   \n",
       "107g42u                                                                                                                                                                      A fantastic AI Audio to MIDI tool   \n",
       "107fgke                                                                                                                       Should I sell my music on Artlist or Epidemic Sound? Anyone have any experience?   \n",
       "...                                                                                                                                                                                                        ...   \n",
       "10bgjbp                                                                                                                                                              How to emulate this (synthy?) bass sound?   \n",
       "10bbf0w                                                                                                                                does anyone know what this sfx is? i’ve been looking for it for a while   \n",
       "10ba44j  I’m having a lot of trouble getting a VST plugin on windows. I just get this file that doesn’t do anything. I’m trying to download to Cakewalk, but I can’t even extract anything in the first place.   \n",
       "10b6e57                                                                                                                                                          What’s the best mixing head phones out there?   \n",
       "10b58s9                                                                                                                                                     5 Disappointing Pitfalls of a No-Amp Guitar setup.   \n",
       "\n",
       "        text           utc  \n",
       "id                          \n",
       "107ilpd       1.673282e+09  \n",
       "107iae0       1.673281e+09  \n",
       "107htcg       1.673280e+09  \n",
       "107g42u       1.673276e+09  \n",
       "107fgke       1.673274e+09  \n",
       "...      ...           ...  \n",
       "10bgjbp       1.673674e+09  \n",
       "10bbf0w       1.673659e+09  \n",
       "10ba44j       1.673655e+09  \n",
       "10b6e57       1.673646e+09  \n",
       "10b58s9       1.673643e+09  \n",
       "\n",
       "[215 rows x 3 columns]"
      ]
     },
     "execution_count": 23,
     "metadata": {},
     "output_type": "execute_result"
    }
   ],
   "source": [
    "#Examine the duplicate message\n",
    "duplicate_messages_at_top = producers['text'].value_counts(ascending=False)\n",
    "duplicate_message = duplicate_messages_at_top.index[0]\n",
    "\n",
    "producers[producers['text']==duplicate_message]"
   ]
  },
  {
   "cell_type": "markdown",
   "id": "2c976272-1861-486a-85de-d9358388cf0e",
   "metadata": {},
   "source": [
    "Again, it's a bit of a judgment call as to whether to drop one of these.  As before, I will drop one at random."
   ]
  },
  {
   "cell_type": "code",
   "execution_count": 24,
   "id": "a8743eb3-9a0f-4b36-99df-85b9ed64abf5",
   "metadata": {},
   "outputs": [
    {
     "data": {
      "text/html": [
       "<div>\n",
       "<style scoped>\n",
       "    .dataframe tbody tr th:only-of-type {\n",
       "        vertical-align: middle;\n",
       "    }\n",
       "\n",
       "    .dataframe tbody tr th {\n",
       "        vertical-align: top;\n",
       "    }\n",
       "\n",
       "    .dataframe thead th {\n",
       "        text-align: right;\n",
       "    }\n",
       "</style>\n",
       "<table border=\"1\" class=\"dataframe\">\n",
       "  <thead>\n",
       "    <tr style=\"text-align: right;\">\n",
       "      <th></th>\n",
       "      <th>title</th>\n",
       "      <th>text</th>\n",
       "      <th>utc</th>\n",
       "    </tr>\n",
       "    <tr>\n",
       "      <th>id</th>\n",
       "      <th></th>\n",
       "      <th></th>\n",
       "      <th></th>\n",
       "    </tr>\n",
       "  </thead>\n",
       "  <tbody>\n",
       "    <tr>\n",
       "      <th>107ilpd</th>\n",
       "      <td>I'm starting a YouTube series about home-recording. A stream-of-consciousness type of \"explain my process\" show. I'm curious if this is something you all might find fun to watch. Thoughts?</td>\n",
       "      <td></td>\n",
       "      <td>1.673282e+09</td>\n",
       "    </tr>\n",
       "    <tr>\n",
       "      <th>107iae0</th>\n",
       "      <td>Recording Vocals With a Neumann U87 ai, Neve 1073 SPX, Distressor Compre...</td>\n",
       "      <td></td>\n",
       "      <td>1.673281e+09</td>\n",
       "    </tr>\n",
       "    <tr>\n",
       "      <th>107htcg</th>\n",
       "      <td>fuck it im going dawless, its way mire fun jamming this way than with plugins imo</td>\n",
       "      <td></td>\n",
       "      <td>1.673280e+09</td>\n",
       "    </tr>\n",
       "    <tr>\n",
       "      <th>107g42u</th>\n",
       "      <td>A fantastic AI Audio to MIDI tool</td>\n",
       "      <td></td>\n",
       "      <td>1.673276e+09</td>\n",
       "    </tr>\n",
       "    <tr>\n",
       "      <th>107fgke</th>\n",
       "      <td>Should I sell my music on Artlist or Epidemic Sound? Anyone have any experience?</td>\n",
       "      <td></td>\n",
       "      <td>1.673274e+09</td>\n",
       "    </tr>\n",
       "    <tr>\n",
       "      <th>...</th>\n",
       "      <td>...</td>\n",
       "      <td>...</td>\n",
       "      <td>...</td>\n",
       "    </tr>\n",
       "    <tr>\n",
       "      <th>10bgjbp</th>\n",
       "      <td>How to emulate this (synthy?) bass sound?</td>\n",
       "      <td></td>\n",
       "      <td>1.673674e+09</td>\n",
       "    </tr>\n",
       "    <tr>\n",
       "      <th>10bbf0w</th>\n",
       "      <td>does anyone know what this sfx is? i’ve been looking for it for a while</td>\n",
       "      <td></td>\n",
       "      <td>1.673659e+09</td>\n",
       "    </tr>\n",
       "    <tr>\n",
       "      <th>10ba44j</th>\n",
       "      <td>I’m having a lot of trouble getting a VST plugin on windows. I just get this file that doesn’t do anything. I’m trying to download to Cakewalk, but I can’t even extract anything in the first place.</td>\n",
       "      <td></td>\n",
       "      <td>1.673655e+09</td>\n",
       "    </tr>\n",
       "    <tr>\n",
       "      <th>10b6e57</th>\n",
       "      <td>What’s the best mixing head phones out there?</td>\n",
       "      <td></td>\n",
       "      <td>1.673646e+09</td>\n",
       "    </tr>\n",
       "    <tr>\n",
       "      <th>10b58s9</th>\n",
       "      <td>5 Disappointing Pitfalls of a No-Amp Guitar setup.</td>\n",
       "      <td></td>\n",
       "      <td>1.673643e+09</td>\n",
       "    </tr>\n",
       "  </tbody>\n",
       "</table>\n",
       "<p>214 rows × 3 columns</p>\n",
       "</div>"
      ],
      "text/plain": [
       "                                                                                                                                                                                                         title  \\\n",
       "id                                                                                                                                                                                                               \n",
       "107ilpd           I'm starting a YouTube series about home-recording. A stream-of-consciousness type of \"explain my process\" show. I'm curious if this is something you all might find fun to watch. Thoughts?   \n",
       "107iae0                                                                                                                            Recording Vocals With a Neumann U87 ai, Neve 1073 SPX, Distressor Compre...   \n",
       "107htcg                                                                                                                      fuck it im going dawless, its way mire fun jamming this way than with plugins imo   \n",
       "107g42u                                                                                                                                                                      A fantastic AI Audio to MIDI tool   \n",
       "107fgke                                                                                                                       Should I sell my music on Artlist or Epidemic Sound? Anyone have any experience?   \n",
       "...                                                                                                                                                                                                        ...   \n",
       "10bgjbp                                                                                                                                                              How to emulate this (synthy?) bass sound?   \n",
       "10bbf0w                                                                                                                                does anyone know what this sfx is? i’ve been looking for it for a while   \n",
       "10ba44j  I’m having a lot of trouble getting a VST plugin on windows. I just get this file that doesn’t do anything. I’m trying to download to Cakewalk, but I can’t even extract anything in the first place.   \n",
       "10b6e57                                                                                                                                                          What’s the best mixing head phones out there?   \n",
       "10b58s9                                                                                                                                                     5 Disappointing Pitfalls of a No-Amp Guitar setup.   \n",
       "\n",
       "        text           utc  \n",
       "id                          \n",
       "107ilpd       1.673282e+09  \n",
       "107iae0       1.673281e+09  \n",
       "107htcg       1.673280e+09  \n",
       "107g42u       1.673276e+09  \n",
       "107fgke       1.673274e+09  \n",
       "...      ...           ...  \n",
       "10bgjbp       1.673674e+09  \n",
       "10bbf0w       1.673659e+09  \n",
       "10ba44j       1.673655e+09  \n",
       "10b6e57       1.673646e+09  \n",
       "10b58s9       1.673643e+09  \n",
       "\n",
       "[214 rows x 3 columns]"
      ]
     },
     "execution_count": 24,
     "metadata": {},
     "output_type": "execute_result"
    }
   ],
   "source": [
    "#Get indices of these duplicate posts\n",
    "inds = producers[producers['text']==duplicate_message].index\n",
    "\n",
    "#Set the random seed, for replicability\n",
    "np.random.seed(123)\n",
    "\n",
    "#Drop one of the duplicates at random\n",
    "drop_ind = np.random.choice(inds)\n",
    "producers.drop(index=[drop_ind], inplace=True)\n",
    "\n",
    "#Check that it worked\n",
    "producers[producers['text']==duplicate_message]"
   ]
  },
  {
   "cell_type": "markdown",
   "id": "05d78c7d-f482-4d97-99dd-b2d57660ebcb",
   "metadata": {},
   "source": [
    "## Export \"producers\" data set"
   ]
  },
  {
   "cell_type": "code",
   "execution_count": 25,
   "id": "043a2cf5-a3c6-40a3-9948-e2aa28d67dbb",
   "metadata": {},
   "outputs": [],
   "source": [
    "producers.to_csv('../data/producers_cleaned.csv', index_label='id')"
   ]
  }
 ],
 "metadata": {
  "kernelspec": {
   "display_name": "Python 3 (ipykernel)",
   "language": "python",
   "name": "python3"
  },
  "language_info": {
   "codemirror_mode": {
    "name": "ipython",
    "version": 3
   },
   "file_extension": ".py",
   "mimetype": "text/x-python",
   "name": "python",
   "nbconvert_exporter": "python",
   "pygments_lexer": "ipython3",
   "version": "3.9.13"
  }
 },
 "nbformat": 4,
 "nbformat_minor": 5
}
