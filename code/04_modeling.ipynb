{
 "cells": [
  {
   "cell_type": "markdown",
   "id": "6d560c6f-c10f-4d48-951e-bd465184dc2d",
   "metadata": {},
   "source": [
    "# Summary of this notebook\n",
    "\n",
    "In this notebook, we develop models to predict whether a Reddit post belongs to the the \"Composers\" subreddit or the \"Producers\" subreddit.  After splitting our data into training and test sets, we select candidate models based on their cross-val accuracy scores.  After tuning hyperparameters, we find that Logistic Regression, Multinomial Naive Bayes, Random Forest, and Gradient Boosted Decision Trees all perfrom well at classifying posts.  We then create a stacked model that combines these 4 models and achieves an even higher accuracy score.  We then validate these results with our reserved test data before examining the ways in which our best model may fail to make a correct prediction.\n",
    "\n",
    "Throughout the modeling process, we try many combinations of hyperparameters and text processing methods.  We report the general results of these various methods at the end of this notebook.\n",
    "\n",
    "Additionally, as we create models, when possible we extract information from those models that may give some insight into their inner workings - such as feature importances and regression coefficients."
   ]
  },
  {
   "cell_type": "markdown",
   "id": "363e9a9d-bae2-4a59-bb31-07da0c323c93",
   "metadata": {},
   "source": [
    "## Imports"
   ]
  },
  {
   "cell_type": "code",
   "execution_count": 1,
   "id": "8a4931b0-b0d8-4a07-8d5d-a1f271717802",
   "metadata": {},
   "outputs": [],
   "source": [
    "import pandas as pd\n",
    "import numpy as np\n",
    "import matplotlib.pyplot as plt\n",
    "import seaborn as sns\n",
    "import re\n",
    "\n",
    "\n",
    "from sklearn.feature_extraction.text import CountVectorizer, TfidfVectorizer\n",
    "from sklearn.feature_extraction import text\n",
    "from nltk.stem.porter import PorterStemmer\n",
    "from nltk.corpus import stopwords\n",
    "from nltk.tokenize import word_tokenize\n",
    "\n",
    "from sklearn.model_selection import train_test_split, GridSearchCV, cross_val_score\n",
    "from sklearn.preprocessing import StandardScaler\n",
    "from sklearn.pipeline import Pipeline\n",
    "from sklearn.compose import ColumnTransformer\n",
    "\n",
    "from sklearn.linear_model import LogisticRegression\n",
    "from sklearn.naive_bayes import MultinomialNB\n",
    "from sklearn.neighbors import KNeighborsClassifier\n",
    "from sklearn.tree import DecisionTreeClassifier\n",
    "from sklearn.ensemble import RandomForestClassifier, GradientBoostingClassifier, StackingClassifier\n",
    "\n",
    "from sklearn.metrics import ConfusionMatrixDisplay\n",
    "\n",
    "\n",
    "\n",
    "#Import functions and preprocessors from previous notebook\n",
    "from processing_functions import url_preprocessor, stem_processor"
   ]
  },
  {
   "cell_type": "markdown",
   "id": "0dcc3eea-65e0-4181-9970-f357e1a70247",
   "metadata": {},
   "source": [
    "## Data Import"
   ]
  },
  {
   "cell_type": "code",
   "execution_count": 2,
   "id": "a95ba97b-183a-4bdb-b252-b890881a5136",
   "metadata": {},
   "outputs": [
    {
     "name": "stdout",
     "output_type": "stream",
     "text": [
      "<class 'pandas.core.frame.DataFrame'>\n",
      "Index: 2325 entries, 107hfj5 to 10b33q8\n",
      "Data columns (total 8 columns):\n",
      " #   Column       Non-Null Count  Dtype  \n",
      "---  ------       --------------  -----  \n",
      " 0   title        2325 non-null   object \n",
      " 1   text         2325 non-null   object \n",
      " 2   utc          2325 non-null   float64\n",
      " 3   subreddit    2325 non-null   object \n",
      " 4   title_words  2325 non-null   int64  \n",
      " 5   text_words   2325 non-null   int64  \n",
      " 6   title_chars  2325 non-null   int64  \n",
      " 7   text_chars   2325 non-null   int64  \n",
      "dtypes: float64(1), int64(4), object(3)\n",
      "memory usage: 163.5+ KB\n"
     ]
    }
   ],
   "source": [
    "df_all = pd.read_csv('../data/combined.csv', index_col='id')\n",
    "\n",
    "#Since Pandas converts empty strings to NaN's, we need to fill these in again\n",
    "df_all.fillna('', inplace=True)\n",
    "df_all.info()"
   ]
  },
  {
   "cell_type": "markdown",
   "id": "17ed9473-6264-47b8-ad79-50c62eba3ddc",
   "metadata": {},
   "source": [
    "## Add a column that combines title and body text"
   ]
  },
  {
   "cell_type": "code",
   "execution_count": 3,
   "id": "a9c4f728-6675-4041-b826-267be0d60212",
   "metadata": {},
   "outputs": [
    {
     "data": {
      "text/html": [
       "<div>\n",
       "<style scoped>\n",
       "    .dataframe tbody tr th:only-of-type {\n",
       "        vertical-align: middle;\n",
       "    }\n",
       "\n",
       "    .dataframe tbody tr th {\n",
       "        vertical-align: top;\n",
       "    }\n",
       "\n",
       "    .dataframe thead th {\n",
       "        text-align: right;\n",
       "    }\n",
       "</style>\n",
       "<table border=\"1\" class=\"dataframe\">\n",
       "  <thead>\n",
       "    <tr style=\"text-align: right;\">\n",
       "      <th></th>\n",
       "      <th>title</th>\n",
       "      <th>text</th>\n",
       "      <th>utc</th>\n",
       "      <th>subreddit</th>\n",
       "      <th>title_words</th>\n",
       "      <th>text_words</th>\n",
       "      <th>title_chars</th>\n",
       "      <th>text_chars</th>\n",
       "      <th>post</th>\n",
       "    </tr>\n",
       "    <tr>\n",
       "      <th>id</th>\n",
       "      <th></th>\n",
       "      <th></th>\n",
       "      <th></th>\n",
       "      <th></th>\n",
       "      <th></th>\n",
       "      <th></th>\n",
       "      <th></th>\n",
       "      <th></th>\n",
       "      <th></th>\n",
       "    </tr>\n",
       "  </thead>\n",
       "  <tbody>\n",
       "    <tr>\n",
       "      <th>107hfj5</th>\n",
       "      <td>minature series</td>\n",
       "      <td>Over 2022, I wrote about 30 little pieces for ...</td>\n",
       "      <td>1.673279e+09</td>\n",
       "      <td>Composers</td>\n",
       "      <td>2</td>\n",
       "      <td>128</td>\n",
       "      <td>15</td>\n",
       "      <td>657</td>\n",
       "      <td>minature series Over 2022, I wrote about 30 li...</td>\n",
       "    </tr>\n",
       "    <tr>\n",
       "      <th>107hah0</th>\n",
       "      <td>How can I get my music published?</td>\n",
       "      <td>I tried being \"my own\" publisher on ASCAP but ...</td>\n",
       "      <td>1.673278e+09</td>\n",
       "      <td>Composers</td>\n",
       "      <td>8</td>\n",
       "      <td>142</td>\n",
       "      <td>33</td>\n",
       "      <td>613</td>\n",
       "      <td>How can I get my music published? I tried bein...</td>\n",
       "    </tr>\n",
       "  </tbody>\n",
       "</table>\n",
       "</div>"
      ],
      "text/plain": [
       "                                     title  \\\n",
       "id                                           \n",
       "107hfj5                    minature series   \n",
       "107hah0  How can I get my music published?   \n",
       "\n",
       "                                                      text           utc  \\\n",
       "id                                                                         \n",
       "107hfj5  Over 2022, I wrote about 30 little pieces for ...  1.673279e+09   \n",
       "107hah0  I tried being \"my own\" publisher on ASCAP but ...  1.673278e+09   \n",
       "\n",
       "         subreddit  title_words  text_words  title_chars  text_chars  \\\n",
       "id                                                                     \n",
       "107hfj5  Composers            2         128           15         657   \n",
       "107hah0  Composers            8         142           33         613   \n",
       "\n",
       "                                                      post  \n",
       "id                                                          \n",
       "107hfj5  minature series Over 2022, I wrote about 30 li...  \n",
       "107hah0  How can I get my music published? I tried bein...  "
      ]
     },
     "execution_count": 3,
     "metadata": {},
     "output_type": "execute_result"
    }
   ],
   "source": [
    "df_all['post'] = df_all[['title','text']].apply((lambda x : ' '.join(x)), axis=1)\n",
    "df_all.head(2)"
   ]
  },
  {
   "cell_type": "markdown",
   "id": "902d6fe4-113a-402b-9b90-a0a180500da5",
   "metadata": {},
   "source": [
    "## Train/Test Split\n",
    "\n",
    "We reserve 25% of our data in the dataframe `val_df`.  The remaining 75% of the data will be used to train our models; we will store this data in the dataframe `df`.  We will not use the `val_df` data until the validation stage at the end of the modeling process."
   ]
  },
  {
   "cell_type": "code",
   "execution_count": 4,
   "id": "329e04cb-a53f-4f27-b608-7fb655f3d07e",
   "metadata": {},
   "outputs": [
    {
     "data": {
      "text/plain": [
       "Producers    930\n",
       "Composers    813\n",
       "Name: subreddit, dtype: int64"
      ]
     },
     "execution_count": 4,
     "metadata": {},
     "output_type": "execute_result"
    }
   ],
   "source": [
    "df, val_df = train_test_split(df_all,\n",
    "                               random_state=123,\n",
    "                               stratify=df_all['subreddit'])\n",
    "df['subreddit'].value_counts()"
   ]
  },
  {
   "cell_type": "code",
   "execution_count": 5,
   "id": "57e30d06-bb8a-4514-b21d-4f75451d7c4b",
   "metadata": {},
   "outputs": [
    {
     "data": {
      "text/plain": [
       "582"
      ]
     },
     "execution_count": 5,
     "metadata": {},
     "output_type": "execute_result"
    }
   ],
   "source": [
    "#Number of points left for our test data set\n",
    "len(val_df)"
   ]
  },
  {
   "cell_type": "markdown",
   "id": "2456e939-99b7-43f4-b59f-982323e54e94",
   "metadata": {},
   "source": [
    "## Scoring and Baseline Accuracy"
   ]
  },
  {
   "cell_type": "code",
   "execution_count": 6,
   "id": "16125abe-5db6-409a-bffa-d10c354e5ffe",
   "metadata": {},
   "outputs": [
    {
     "data": {
      "text/plain": [
       "Producers    0.533563\n",
       "Composers    0.466437\n",
       "Name: subreddit, dtype: float64"
      ]
     },
     "execution_count": 6,
     "metadata": {},
     "output_type": "execute_result"
    }
   ],
   "source": [
    "df['subreddit'].value_counts(normalize=True)"
   ]
  },
  {
   "cell_type": "markdown",
   "id": "e2afa2f6-94c9-4056-bcf8-4672ce4e086d",
   "metadata": {},
   "source": [
    "So if we used a null model that just guessed the most common class (\"Producers\") in all cases, our accuracy score would be about 53.4%. Since there is no obvious reason why misclassifying a \"Producers\" post as a \"Composers\" post should be of more concern than misclassifying a \"Composers\" post as a \"Producers\" post (and vice-versa), accuracy is a good metric to use to evaluate the models.  We will use this metric for the remainder of this notebook."
   ]
  },
  {
   "cell_type": "markdown",
   "id": "7ba0187f-9c70-436a-a55d-36583d59442c",
   "metadata": {},
   "source": [
    "# Training models on title + body text\n",
    "\n",
    "We'll begin by training models on both the titles and body texts of posts, but no other features.  Later we will try training the models on other sets of features, such as using just the titles instead of titles+body texts, and also including word counts."
   ]
  },
  {
   "cell_type": "code",
   "execution_count": 7,
   "id": "4c9fbe8d-b73d-491a-a749-543a8e9c847d",
   "metadata": {},
   "outputs": [],
   "source": [
    "X = df['post']\n",
    "y = df['subreddit']"
   ]
  },
  {
   "cell_type": "markdown",
   "id": "3efd0b0a-2b51-4289-9f8e-e4778e9fc3a5",
   "metadata": {},
   "source": [
    "We will train the following types of classification models: Naive Bayes, Logistic Regression, $k$-Nearest Neighbors (kNN), Random Forest, and Gradient Boosted Decision Trees.  For each type of model, we will perform a hyperparameter grid search to find the model that achieves the highest cross-val Accuracy score.  Based on the results of previous grid searches, we'll adapt the hyperparameters over which we're grid searching.  Finally, we'll go back to any models that performed well and more finely tune their hyperparameters."
   ]
  },
  {
   "cell_type": "markdown",
   "id": "9307afa2-0fe3-4a2d-b5b5-f4fde30d6ef8",
   "metadata": {},
   "source": [
    "## Naive Bayes Classifier"
   ]
  },
  {
   "cell_type": "code",
   "execution_count": 8,
   "id": "daed7d29-fec7-489e-881a-a7ff45e62f89",
   "metadata": {},
   "outputs": [],
   "source": [
    "nb_pipe = Pipeline([\n",
    "    ('cvec', CountVectorizer(stop_words=stopwords.words('english'))),\n",
    "    ('nb', MultinomialNB())\n",
    "])"
   ]
  },
  {
   "cell_type": "code",
   "execution_count": 9,
   "id": "44199397-0fb9-4731-abd5-188aadc1f138",
   "metadata": {},
   "outputs": [],
   "source": [
    "nb_pipe_params = {\n",
    "    'cvec__preprocessor': [url_preprocessor, ( lambda x : stem_processor(url_preprocessor(x)) )],\n",
    "    'cvec__max_features': list(range(1000,5001,1000)),\n",
    "    'cvec__min_df': [2, 3],\n",
    "    'cvec__max_df': [.5, .7, 0.9],\n",
    "    'cvec__ngram_range': [(1, 1), (1, 2)]\n",
    "}"
   ]
  },
  {
   "cell_type": "code",
   "execution_count": 10,
   "id": "a239983e-1810-40d5-beed-c9a34865e2ee",
   "metadata": {},
   "outputs": [],
   "source": [
    "nb_gs = GridSearchCV(nb_pipe, param_grid = nb_pipe_params, n_jobs=-1)"
   ]
  },
  {
   "cell_type": "code",
   "execution_count": 11,
   "id": "db1837fe-d71a-46d0-bc93-cd1640af18c9",
   "metadata": {},
   "outputs": [
    {
     "data": {
      "text/plain": [
       "GridSearchCV(estimator=Pipeline(steps=[('cvec',\n",
       "                                        CountVectorizer(stop_words=['i', 'me',\n",
       "                                                                    'my',\n",
       "                                                                    'myself',\n",
       "                                                                    'we', 'our',\n",
       "                                                                    'ours',\n",
       "                                                                    'ourselves',\n",
       "                                                                    'you',\n",
       "                                                                    \"you're\",\n",
       "                                                                    \"you've\",\n",
       "                                                                    \"you'll\",\n",
       "                                                                    \"you'd\",\n",
       "                                                                    'your',\n",
       "                                                                    'yours',\n",
       "                                                                    'yourself',\n",
       "                                                                    'yourselves',\n",
       "                                                                    'he', 'him',\n",
       "                                                                    'his',\n",
       "                                                                    'himself',\n",
       "                                                                    'she',\n",
       "                                                                    \"she's\",\n",
       "                                                                    'her',\n",
       "                                                                    'hers',\n",
       "                                                                    'herself',\n",
       "                                                                    'it',\n",
       "                                                                    \"it's\",\n",
       "                                                                    'its',\n",
       "                                                                    'itself', ...])),\n",
       "                                       ('nb', MultinomialNB())]),\n",
       "             n_jobs=-1,\n",
       "             param_grid={'cvec__max_df': [0.5, 0.7, 0.9],\n",
       "                         'cvec__max_features': [1000, 2000, 3000, 4000, 5000],\n",
       "                         'cvec__min_df': [2, 3],\n",
       "                         'cvec__ngram_range': [(1, 1), (1, 2)],\n",
       "                         'cvec__preprocessor': [<function url_preprocessor at 0x7f9cf8e40670>,\n",
       "                                                <function <lambda> at 0x7f9ce01d93a0>]})"
      ]
     },
     "execution_count": 11,
     "metadata": {},
     "output_type": "execute_result"
    }
   ],
   "source": [
    "nb_gs.fit(X, y)"
   ]
  },
  {
   "cell_type": "code",
   "execution_count": 12,
   "id": "e400acea-c45b-462a-b877-b83fc31fae39",
   "metadata": {},
   "outputs": [
    {
     "data": {
      "text/plain": [
       "{'cvec__max_df': 0.5,\n",
       " 'cvec__max_features': 4000,\n",
       " 'cvec__min_df': 2,\n",
       " 'cvec__ngram_range': (1, 1),\n",
       " 'cvec__preprocessor': <function processing_functions.url_preprocessor(text)>}"
      ]
     },
     "execution_count": 12,
     "metadata": {},
     "output_type": "execute_result"
    }
   ],
   "source": [
    "#Examine best hyperparameters\n",
    "nb_gs.best_params_"
   ]
  },
  {
   "cell_type": "code",
   "execution_count": 13,
   "id": "b479e73c-b488-46ed-8c51-44a6542a318b",
   "metadata": {},
   "outputs": [
    {
     "data": {
      "text/plain": [
       "0.9357375753384053"
      ]
     },
     "execution_count": 13,
     "metadata": {},
     "output_type": "execute_result"
    }
   ],
   "source": [
    "nb_gs.best_score_"
   ]
  },
  {
   "cell_type": "markdown",
   "id": "7d7e1c41-9c07-4b37-a2ac-e43f4bd07fc7",
   "metadata": {},
   "source": [
    "This is a very good crossval score for our first attempt!"
   ]
  },
  {
   "cell_type": "markdown",
   "id": "46ec5633-06b4-4be8-b15f-4e5352c2caa9",
   "metadata": {},
   "source": [
    "## Logistic Regression"
   ]
  },
  {
   "cell_type": "code",
   "execution_count": 14,
   "id": "8386d8c6-f431-4d8a-b2d3-39183c4b372c",
   "metadata": {},
   "outputs": [],
   "source": [
    "lr_pipe = Pipeline([\n",
    "    ('cvec', CountVectorizer(stop_words=stopwords.words('english'))),\n",
    "    ('ss',StandardScaler(with_mean=False)),\n",
    "    ('lr', LogisticRegression())\n",
    "])"
   ]
  },
  {
   "cell_type": "code",
   "execution_count": 15,
   "id": "3b3c12ea-bbfb-4b3e-a3be-2c9576766b2b",
   "metadata": {},
   "outputs": [],
   "source": [
    "lr_pipe_params = {\n",
    "    'lr__C' : np.logspace(-2,2,12),\n",
    "    \n",
    "    'cvec__preprocessor': [url_preprocessor, ( lambda x : stem_processor(url_preprocessor(x)) )],\n",
    "    'cvec__max_features': list(range(1000,5001,1000)),\n",
    "    'cvec__min_df': [2],\n",
    "    'cvec__max_df': [.5, .7, 0.9],\n",
    "    'cvec__ngram_range': [(1, 1), (1, 2)]\n",
    "}"
   ]
  },
  {
   "cell_type": "code",
   "execution_count": 16,
   "id": "0f9a0256-1a9e-4fea-b39f-004d6108a1f5",
   "metadata": {},
   "outputs": [],
   "source": [
    "lr_gs = GridSearchCV(lr_pipe, lr_pipe_params, n_jobs=-1)"
   ]
  },
  {
   "cell_type": "code",
   "execution_count": 17,
   "id": "1d3e1372-4448-4c64-95d1-456e84df9367",
   "metadata": {},
   "outputs": [
    {
     "data": {
      "text/plain": [
       "GridSearchCV(estimator=Pipeline(steps=[('cvec',\n",
       "                                        CountVectorizer(stop_words=['i', 'me',\n",
       "                                                                    'my',\n",
       "                                                                    'myself',\n",
       "                                                                    'we', 'our',\n",
       "                                                                    'ours',\n",
       "                                                                    'ourselves',\n",
       "                                                                    'you',\n",
       "                                                                    \"you're\",\n",
       "                                                                    \"you've\",\n",
       "                                                                    \"you'll\",\n",
       "                                                                    \"you'd\",\n",
       "                                                                    'your',\n",
       "                                                                    'yours',\n",
       "                                                                    'yourself',\n",
       "                                                                    'yourselves',\n",
       "                                                                    'he', 'him',\n",
       "                                                                    'his',\n",
       "                                                                    'himself',\n",
       "                                                                    'she',\n",
       "                                                                    \"she's\",\n",
       "                                                                    'her',\n",
       "                                                                    'hers',\n",
       "                                                                    'herself',\n",
       "                                                                    'it',\n",
       "                                                                    \"it's\",\n",
       "                                                                    'its',\n",
       "                                                                    'itself', ...])),\n",
       "                                       ('ss', StandardScaler(with_mean=False)),\n",
       "                                       ('lr'...\n",
       "                         'cvec__min_df': [2],\n",
       "                         'cvec__ngram_range': [(1, 1), (1, 2)],\n",
       "                         'cvec__preprocessor': [<function url_preprocessor at 0x7f9cf8e40670>,\n",
       "                                                <function <lambda> at 0x7f9cc877be50>],\n",
       "                         'lr__C': array([1.00000000e-02, 2.31012970e-02, 5.33669923e-02, 1.23284674e-01,\n",
       "       2.84803587e-01, 6.57933225e-01, 1.51991108e+00, 3.51119173e+00,\n",
       "       8.11130831e+00, 1.87381742e+01, 4.32876128e+01, 1.00000000e+02])})"
      ]
     },
     "execution_count": 17,
     "metadata": {},
     "output_type": "execute_result"
    }
   ],
   "source": [
    "lr_gs.fit(X,y)"
   ]
  },
  {
   "cell_type": "code",
   "execution_count": 18,
   "id": "0608937b-0b6e-4adf-9d92-aba6204aa32b",
   "metadata": {},
   "outputs": [
    {
     "data": {
      "text/plain": [
       "{'cvec__max_df': 0.5,\n",
       " 'cvec__max_features': 1000,\n",
       " 'cvec__min_df': 2,\n",
       " 'cvec__ngram_range': (1, 1),\n",
       " 'cvec__preprocessor': <function processing_functions.url_preprocessor(text)>,\n",
       " 'lr__C': 0.01}"
      ]
     },
     "execution_count": 18,
     "metadata": {},
     "output_type": "execute_result"
    }
   ],
   "source": [
    "lr_gs.best_params_"
   ]
  },
  {
   "cell_type": "code",
   "execution_count": 19,
   "id": "4396c4ae-aa68-43e9-9609-c16699fd707a",
   "metadata": {},
   "outputs": [
    {
     "data": {
      "text/plain": [
       "0.9093419622566941"
      ]
     },
     "execution_count": 19,
     "metadata": {},
     "output_type": "execute_result"
    }
   ],
   "source": [
    "lr_gs.best_score_"
   ]
  },
  {
   "cell_type": "markdown",
   "id": "f06c32c7-5ffe-4708-adff-cb7d517d3976",
   "metadata": {},
   "source": [
    "This crossval score is still pretty good, but not as good as the Naive Bayes classifier."
   ]
  },
  {
   "cell_type": "markdown",
   "id": "d1bddc58-0211-4c34-8162-1c9a91fa462a",
   "metadata": {},
   "source": [
    "### What we've learned so far\n",
    "\n",
    "It seems that `CountVectorizer`'s parameters `min_df` being 2 works better than it being 3.  We'll try 1 as well (below).  Also, it seems that an `ngram_range` of `(1,1)` - i.e., the default of considering only single words - is generally best.  So for now, we'll save some computation time and set these parameters to these values.  Similarly, adding stemming (on top of the URL preprocessor) didn't seem to help in any case so far, so we'll stop using it.\n",
    "\n",
    "Finally, `max_df` seems to be too large to be relevant (perhaps because no word appears in more than 50% of posts): both of the above gridsearches found the optimal `max_df` to be .5.  Any value smaller than this certainly defeats the point of having a `max_df`, so we'll drop this parameter.  "
   ]
  },
  {
   "cell_type": "markdown",
   "id": "70b2d826-ec47-4f89-8262-a895e5dffb4e",
   "metadata": {},
   "source": [
    "# kNN"
   ]
  },
  {
   "cell_type": "code",
   "execution_count": 20,
   "id": "6faa148e-fb57-4bca-a7c3-cb867eaab9e0",
   "metadata": {},
   "outputs": [],
   "source": [
    "knn_pipe = Pipeline([\n",
    "    ('cvec', CountVectorizer(stop_words=stopwords.words('english'), preprocessor = url_preprocessor) ),\n",
    "    ('ss', StandardScaler(with_mean=False)),\n",
    "    ('knn', KNeighborsClassifier())\n",
    "])"
   ]
  },
  {
   "cell_type": "code",
   "execution_count": 21,
   "id": "aa0b1a41-4c74-458f-9357-3cbb80c1c4ff",
   "metadata": {},
   "outputs": [],
   "source": [
    "knn_pipe_params = {\n",
    "    'knn__n_neighbors':[3,5,7,9],\n",
    "    'knn__weights':['uniform','distance'],\n",
    "    \n",
    "    'cvec__max_features': list(range(1000,5001,1000)),\n",
    "    'cvec__min_df': [1,2],\n",
    "}"
   ]
  },
  {
   "cell_type": "code",
   "execution_count": 22,
   "id": "fe7cd953-9e45-49f8-b552-3650166d61aa",
   "metadata": {},
   "outputs": [],
   "source": [
    "knn_gs = GridSearchCV(knn_pipe, param_grid = knn_pipe_params, n_jobs=-1)"
   ]
  },
  {
   "cell_type": "code",
   "execution_count": 23,
   "id": "751a0f41-4cd7-44c7-91ff-caa7edcda393",
   "metadata": {},
   "outputs": [
    {
     "data": {
      "text/plain": [
       "GridSearchCV(estimator=Pipeline(steps=[('cvec',\n",
       "                                        CountVectorizer(preprocessor=<function url_preprocessor at 0x7f9cf8e40670>,\n",
       "                                                        stop_words=['i', 'me',\n",
       "                                                                    'my',\n",
       "                                                                    'myself',\n",
       "                                                                    'we', 'our',\n",
       "                                                                    'ours',\n",
       "                                                                    'ourselves',\n",
       "                                                                    'you',\n",
       "                                                                    \"you're\",\n",
       "                                                                    \"you've\",\n",
       "                                                                    \"you'll\",\n",
       "                                                                    \"you'd\",\n",
       "                                                                    'your',\n",
       "                                                                    'yours',\n",
       "                                                                    'yourself',\n",
       "                                                                    'yourselves',\n",
       "                                                                    'he', 'him',\n",
       "                                                                    'his',\n",
       "                                                                    'himself',\n",
       "                                                                    'she',\n",
       "                                                                    \"she's\",\n",
       "                                                                    'her',\n",
       "                                                                    'hers',\n",
       "                                                                    'herself',\n",
       "                                                                    'it',\n",
       "                                                                    \"it's\",\n",
       "                                                                    'its',\n",
       "                                                                    'itself', ...])),\n",
       "                                       ('ss', StandardScaler(with_mean=False)),\n",
       "                                       ('knn', KNeighborsClassifier())]),\n",
       "             n_jobs=-1,\n",
       "             param_grid={'cvec__max_features': [1000, 2000, 3000, 4000, 5000],\n",
       "                         'cvec__min_df': [1, 2],\n",
       "                         'knn__n_neighbors': [3, 5, 7, 9],\n",
       "                         'knn__weights': ['uniform', 'distance']})"
      ]
     },
     "execution_count": 23,
     "metadata": {},
     "output_type": "execute_result"
    }
   ],
   "source": [
    "knn_gs.fit(X, y)"
   ]
  },
  {
   "cell_type": "code",
   "execution_count": 24,
   "id": "97fd7e1f-bd78-484b-9d65-6452275b03bc",
   "metadata": {},
   "outputs": [
    {
     "data": {
      "text/plain": [
       "{'cvec__max_features': 1000,\n",
       " 'cvec__min_df': 2,\n",
       " 'knn__n_neighbors': 3,\n",
       " 'knn__weights': 'uniform'}"
      ]
     },
     "execution_count": 24,
     "metadata": {},
     "output_type": "execute_result"
    }
   ],
   "source": [
    "knn_gs.best_params_"
   ]
  },
  {
   "cell_type": "code",
   "execution_count": 25,
   "id": "72096fc6-4416-475e-9e35-5171234d7bde",
   "metadata": {},
   "outputs": [
    {
     "data": {
      "text/plain": [
       "0.763648190231532"
      ]
     },
     "execution_count": 25,
     "metadata": {},
     "output_type": "execute_result"
    }
   ],
   "source": [
    "knn_gs.best_score_"
   ]
  },
  {
   "cell_type": "markdown",
   "id": "091f7ef3-be43-4ced-9c7f-b823a75b7aca",
   "metadata": {},
   "source": [
    "So again we find that `min_df=2` is best.  So next time, we'll drop `min_df=3` from consideration, but we'll also try `min_df=.01` (i.e., keep only those words that appear in at least 1% of posts).\n",
    "\n",
    "This score is not nearly as good as the other models, so we won't bother with a more refined search."
   ]
  },
  {
   "cell_type": "markdown",
   "id": "5ad0bb2e-b933-4d6a-a2b3-ea5456fcdd86",
   "metadata": {},
   "source": [
    "# Random Forest"
   ]
  },
  {
   "cell_type": "code",
   "execution_count": 26,
   "id": "f896331f-b2cf-49aa-9e89-a16b84aef634",
   "metadata": {},
   "outputs": [],
   "source": [
    "rf_pipe = Pipeline([\n",
    "    ('cvec', CountVectorizer(stop_words=stopwords.words('english'), preprocessor = url_preprocessor) ),\n",
    "    ('rf', RandomForestClassifier(random_state=42))\n",
    "])"
   ]
  },
  {
   "cell_type": "code",
   "execution_count": 27,
   "id": "5005aefb-d6bb-46d9-9407-8ee981dbe227",
   "metadata": {},
   "outputs": [],
   "source": [
    "rf_pipe_params = {\n",
    "    'rf__n_estimators':[50,100,150],\n",
    "    'rf__max_depth':[None,5],\n",
    "    'rf__min_samples_split':[2,5,10],\n",
    "    'rf__ccp_alpha':[0,.01,.1],\n",
    "    \n",
    "    'cvec__max_features': list(range(1000,5001,1000)),\n",
    "    'cvec__min_df': [2,.01],\n",
    "}"
   ]
  },
  {
   "cell_type": "code",
   "execution_count": 28,
   "id": "8d967b2b-b0af-4885-aa86-5fab1c21ae83",
   "metadata": {},
   "outputs": [],
   "source": [
    "rf_gs = GridSearchCV(rf_pipe, param_grid = rf_pipe_params, n_jobs=-1)"
   ]
  },
  {
   "cell_type": "code",
   "execution_count": 29,
   "id": "2a95b95a-eb74-41d7-a52c-e9df0927b78f",
   "metadata": {},
   "outputs": [
    {
     "data": {
      "text/plain": [
       "GridSearchCV(estimator=Pipeline(steps=[('cvec',\n",
       "                                        CountVectorizer(preprocessor=<function url_preprocessor at 0x7f9cf8e40670>,\n",
       "                                                        stop_words=['i', 'me',\n",
       "                                                                    'my',\n",
       "                                                                    'myself',\n",
       "                                                                    'we', 'our',\n",
       "                                                                    'ours',\n",
       "                                                                    'ourselves',\n",
       "                                                                    'you',\n",
       "                                                                    \"you're\",\n",
       "                                                                    \"you've\",\n",
       "                                                                    \"you'll\",\n",
       "                                                                    \"you'd\",\n",
       "                                                                    'your',\n",
       "                                                                    'yours',\n",
       "                                                                    'yourself',\n",
       "                                                                    'yourselves',\n",
       "                                                                    'he', 'him',\n",
       "                                                                    'his',\n",
       "                                                                    'himself',\n",
       "                                                                    'she',\n",
       "                                                                    \"she's\",\n",
       "                                                                    'her',\n",
       "                                                                    'hers',\n",
       "                                                                    'herself',\n",
       "                                                                    'it',\n",
       "                                                                    \"it's\",\n",
       "                                                                    'its',\n",
       "                                                                    'itself', ...])),\n",
       "                                       ('rf',\n",
       "                                        RandomForestClassifier(random_state=42))]),\n",
       "             n_jobs=-1,\n",
       "             param_grid={'cvec__max_features': [1000, 2000, 3000, 4000, 5000],\n",
       "                         'cvec__min_df': [2, 0.01],\n",
       "                         'rf__ccp_alpha': [0, 0.01, 0.1],\n",
       "                         'rf__max_depth': [None, 5],\n",
       "                         'rf__min_samples_split': [2, 5, 10],\n",
       "                         'rf__n_estimators': [50, 100, 150]})"
      ]
     },
     "execution_count": 29,
     "metadata": {},
     "output_type": "execute_result"
    }
   ],
   "source": [
    "rf_gs.fit(X, y)"
   ]
  },
  {
   "cell_type": "code",
   "execution_count": 30,
   "id": "85d23f87-40cc-4857-be04-08f42b872f7a",
   "metadata": {},
   "outputs": [
    {
     "data": {
      "text/plain": [
       "{'cvec__max_features': 2000,\n",
       " 'cvec__min_df': 2,\n",
       " 'rf__ccp_alpha': 0,\n",
       " 'rf__max_depth': None,\n",
       " 'rf__min_samples_split': 10,\n",
       " 'rf__n_estimators': 150}"
      ]
     },
     "execution_count": 30,
     "metadata": {},
     "output_type": "execute_result"
    }
   ],
   "source": [
    "rf_gs.best_params_"
   ]
  },
  {
   "cell_type": "code",
   "execution_count": 31,
   "id": "751ef622-cb2a-469c-8b0b-2a1ea2d866f7",
   "metadata": {
    "tags": []
   },
   "outputs": [
    {
     "data": {
      "text/plain": [
       "0.9225290649804038"
      ]
     },
     "execution_count": 31,
     "metadata": {},
     "output_type": "execute_result"
    }
   ],
   "source": [
    "rf_gs.best_score_"
   ]
  },
  {
   "cell_type": "markdown",
   "id": "4e1def0e-1d56-4087-9576-0d525bc5cb1e",
   "metadata": {},
   "source": [
    "Again, this is a pretty good score.  And again we find that `min_df=2` seems to be working best."
   ]
  },
  {
   "cell_type": "markdown",
   "id": "195882f8-d240-4f61-8c72-ac8e55f0e70d",
   "metadata": {},
   "source": [
    "# Gradient Boosted Decision Trees"
   ]
  },
  {
   "cell_type": "code",
   "execution_count": 32,
   "id": "2aee6ed1-4611-40e0-944e-d2eb25d2707b",
   "metadata": {},
   "outputs": [],
   "source": [
    "boost_pipe = Pipeline([\n",
    "    ('cvec', CountVectorizer(stop_words=stopwords.words('english'), preprocessor = url_preprocessor) ),\n",
    "    ('ss', StandardScaler(with_mean=False)),\n",
    "    ('boost', GradientBoostingClassifier(random_state=42))\n",
    "])"
   ]
  },
  {
   "cell_type": "code",
   "execution_count": 33,
   "id": "e8229efc-b94f-4f19-b017-4d7c11281072",
   "metadata": {},
   "outputs": [],
   "source": [
    "boost_pipe_params = {\n",
    "    'boost__n_estimators': list(range(40,161,20)),\n",
    "    'boost__max_depth': [3,4],\n",
    "\n",
    "    \n",
    "    'cvec__max_features': [1000,2000,3000,4000,5000],\n",
    "    'cvec__min_df': [2],\n",
    "}"
   ]
  },
  {
   "cell_type": "code",
   "execution_count": 34,
   "id": "e4e2920c-9a5a-4d5e-8b08-718c050fd3f5",
   "metadata": {},
   "outputs": [],
   "source": [
    "boost_gs = GridSearchCV(boost_pipe, param_grid = boost_pipe_params, n_jobs=-1)"
   ]
  },
  {
   "cell_type": "code",
   "execution_count": 35,
   "id": "0d16c3e6-59f3-45e1-8e8b-e232a8d351a4",
   "metadata": {},
   "outputs": [
    {
     "data": {
      "text/plain": [
       "GridSearchCV(estimator=Pipeline(steps=[('cvec',\n",
       "                                        CountVectorizer(preprocessor=<function url_preprocessor at 0x7f9cf8e40670>,\n",
       "                                                        stop_words=['i', 'me',\n",
       "                                                                    'my',\n",
       "                                                                    'myself',\n",
       "                                                                    'we', 'our',\n",
       "                                                                    'ours',\n",
       "                                                                    'ourselves',\n",
       "                                                                    'you',\n",
       "                                                                    \"you're\",\n",
       "                                                                    \"you've\",\n",
       "                                                                    \"you'll\",\n",
       "                                                                    \"you'd\",\n",
       "                                                                    'your',\n",
       "                                                                    'yours',\n",
       "                                                                    'yourself',\n",
       "                                                                    'yourselves',\n",
       "                                                                    'he', 'him',\n",
       "                                                                    'his',\n",
       "                                                                    'himself',\n",
       "                                                                    'she',\n",
       "                                                                    \"she's\",\n",
       "                                                                    'her',\n",
       "                                                                    'hers',\n",
       "                                                                    'herself',\n",
       "                                                                    'it',\n",
       "                                                                    \"it's\",\n",
       "                                                                    'its',\n",
       "                                                                    'itself', ...])),\n",
       "                                       ('ss', StandardScaler(with_mean=False)),\n",
       "                                       ('boost',\n",
       "                                        GradientBoostingClassifier(random_state=42))]),\n",
       "             n_jobs=-1,\n",
       "             param_grid={'boost__max_depth': [3, 4],\n",
       "                         'boost__n_estimators': [40, 60, 80, 100, 120, 140,\n",
       "                                                 160],\n",
       "                         'cvec__max_features': [1000, 2000, 3000, 4000, 5000],\n",
       "                         'cvec__min_df': [2]})"
      ]
     },
     "execution_count": 35,
     "metadata": {},
     "output_type": "execute_result"
    }
   ],
   "source": [
    "boost_gs.fit(X, y)"
   ]
  },
  {
   "cell_type": "code",
   "execution_count": 36,
   "id": "855c8560-7fbd-4c6b-97e1-554a7c07210e",
   "metadata": {},
   "outputs": [
    {
     "data": {
      "text/plain": [
       "{'boost__max_depth': 4,\n",
       " 'boost__n_estimators': 160,\n",
       " 'cvec__max_features': 1000,\n",
       " 'cvec__min_df': 2}"
      ]
     },
     "execution_count": 36,
     "metadata": {},
     "output_type": "execute_result"
    }
   ],
   "source": [
    "boost_gs.best_params_"
   ]
  },
  {
   "cell_type": "code",
   "execution_count": 37,
   "id": "39502888-bfbd-47c0-af49-a4e4b4cb31c8",
   "metadata": {},
   "outputs": [
    {
     "data": {
      "text/plain": [
       "0.9087721898363139"
      ]
     },
     "execution_count": 37,
     "metadata": {},
     "output_type": "execute_result"
    }
   ],
   "source": [
    "boost_gs.best_score_"
   ]
  },
  {
   "cell_type": "markdown",
   "id": "0678495b-478c-4d42-83d9-6f958667a6e7",
   "metadata": {},
   "source": [
    "# Refining the models\n",
    "\n",
    "We'll refine the models in the reverse order from the order in which we originally trained them."
   ]
  },
  {
   "cell_type": "markdown",
   "id": "cea97061-0e9f-4454-bd1b-ea6cbd33b654",
   "metadata": {},
   "source": [
    "### Gradient Boosted Decision Trees"
   ]
  },
  {
   "cell_type": "code",
   "execution_count": 38,
   "id": "0f259aaa-4e41-44b0-a349-89f3fb4754f5",
   "metadata": {},
   "outputs": [],
   "source": [
    "#Adjusting learning rate before further refining\n",
    "boost_pipe_params0 = {\n",
    "    'boost__n_estimators': [50,100,150,200],\n",
    "    'boost__max_depth': [3,4,5],\n",
    "    'boost__learning_rate': np.logspace(-3,-1,8),\n",
    "    \n",
    "    'cvec__max_features': [500,1000,1500,2000],\n",
    "    'cvec__min_df': [2],\n",
    "}"
   ]
  },
  {
   "cell_type": "code",
   "execution_count": 39,
   "id": "ac7d3be6-0fa6-40b9-8b72-773e800dbab7",
   "metadata": {},
   "outputs": [],
   "source": [
    "boost_gs0 = GridSearchCV(boost_pipe, param_grid = boost_pipe_params0, n_jobs=-1)"
   ]
  },
  {
   "cell_type": "code",
   "execution_count": 40,
   "id": "61606bfa-b3ff-42a8-a112-51211cac6fec",
   "metadata": {},
   "outputs": [
    {
     "data": {
      "text/plain": [
       "GridSearchCV(estimator=Pipeline(steps=[('cvec',\n",
       "                                        CountVectorizer(preprocessor=<function url_preprocessor at 0x7f9cf8e40670>,\n",
       "                                                        stop_words=['i', 'me',\n",
       "                                                                    'my',\n",
       "                                                                    'myself',\n",
       "                                                                    'we', 'our',\n",
       "                                                                    'ours',\n",
       "                                                                    'ourselves',\n",
       "                                                                    'you',\n",
       "                                                                    \"you're\",\n",
       "                                                                    \"you've\",\n",
       "                                                                    \"you'll\",\n",
       "                                                                    \"you'd\",\n",
       "                                                                    'your',\n",
       "                                                                    'yours',\n",
       "                                                                    'yourself',\n",
       "                                                                    'yourselves',\n",
       "                                                                    'he', 'him',\n",
       "                                                                    'his',\n",
       "                                                                    'himself',\n",
       "                                                                    'she',\n",
       "                                                                    \"she's\",\n",
       "                                                                    'her',\n",
       "                                                                    'hers',\n",
       "                                                                    'herself',\n",
       "                                                                    'it',\n",
       "                                                                    \"it's\",\n",
       "                                                                    'its',\n",
       "                                                                    'its...\n",
       "                                       ('ss', StandardScaler(with_mean=False)),\n",
       "                                       ('boost',\n",
       "                                        GradientBoostingClassifier(random_state=42))]),\n",
       "             n_jobs=-1,\n",
       "             param_grid={'boost__learning_rate': array([0.001     , 0.0019307 , 0.00372759, 0.00719686, 0.01389495,\n",
       "       0.02682696, 0.05179475, 0.1       ]),\n",
       "                         'boost__max_depth': [3, 4, 5],\n",
       "                         'boost__n_estimators': [50, 100, 150, 200],\n",
       "                         'cvec__max_features': [500, 1000, 1500, 2000],\n",
       "                         'cvec__min_df': [2]})"
      ]
     },
     "execution_count": 40,
     "metadata": {},
     "output_type": "execute_result"
    }
   ],
   "source": [
    "boost_gs0.fit(X, y)"
   ]
  },
  {
   "cell_type": "code",
   "execution_count": 41,
   "id": "5f96295d-5669-44a3-9b35-4b5b47a819ef",
   "metadata": {},
   "outputs": [
    {
     "data": {
      "text/plain": [
       "{'boost__learning_rate': 0.1,\n",
       " 'boost__max_depth': 5,\n",
       " 'boost__n_estimators': 200,\n",
       " 'cvec__max_features': 1000,\n",
       " 'cvec__min_df': 2}"
      ]
     },
     "execution_count": 41,
     "metadata": {},
     "output_type": "execute_result"
    }
   ],
   "source": [
    "boost_gs0.best_params_"
   ]
  },
  {
   "cell_type": "code",
   "execution_count": 42,
   "id": "fb729305-8a03-4213-b3d5-51caaf2361ab",
   "metadata": {},
   "outputs": [
    {
     "data": {
      "text/plain": [
       "0.9139363699239207"
      ]
     },
     "execution_count": 42,
     "metadata": {},
     "output_type": "execute_result"
    }
   ],
   "source": [
    "boost_gs0.best_score_"
   ]
  },
  {
   "cell_type": "markdown",
   "id": "704dd77e-5321-4e64-a2d2-33fa8bf42c64",
   "metadata": {},
   "source": [
    "This model did somewhat better than the last one, but playing with the `learning_rate` did not help.  We'll use this information to look for a more refined model:"
   ]
  },
  {
   "cell_type": "markdown",
   "id": "7425babd-97d0-49c2-92de-19c9417b667d",
   "metadata": {},
   "source": [
    "#### Refining again"
   ]
  },
  {
   "cell_type": "code",
   "execution_count": 43,
   "id": "c50119bd-3fa8-4b48-8130-35170176a549",
   "metadata": {},
   "outputs": [],
   "source": [
    "#Adjusting learning rate before further refining\n",
    "boost_pipe_params1 = {\n",
    "    'boost__n_estimators': list(range(150,221,10)),\n",
    "    'boost__max_depth': [4,5,6,7],\n",
    "    \n",
    "    'cvec__max_features': [700,800,900,1000,1100,1200],\n",
    "    'cvec__min_df': [2],\n",
    "}"
   ]
  },
  {
   "cell_type": "code",
   "execution_count": 44,
   "id": "cb182d97-5aa2-41bd-bb34-ec2606acdc4d",
   "metadata": {},
   "outputs": [],
   "source": [
    "boost_gs1 = GridSearchCV(boost_pipe, param_grid = boost_pipe_params1, n_jobs=-1)"
   ]
  },
  {
   "cell_type": "code",
   "execution_count": 45,
   "id": "39ba6220-d128-4478-95bf-113b65f0abbd",
   "metadata": {},
   "outputs": [
    {
     "data": {
      "text/plain": [
       "GridSearchCV(estimator=Pipeline(steps=[('cvec',\n",
       "                                        CountVectorizer(preprocessor=<function url_preprocessor at 0x7f9cf8e40670>,\n",
       "                                                        stop_words=['i', 'me',\n",
       "                                                                    'my',\n",
       "                                                                    'myself',\n",
       "                                                                    'we', 'our',\n",
       "                                                                    'ours',\n",
       "                                                                    'ourselves',\n",
       "                                                                    'you',\n",
       "                                                                    \"you're\",\n",
       "                                                                    \"you've\",\n",
       "                                                                    \"you'll\",\n",
       "                                                                    \"you'd\",\n",
       "                                                                    'your',\n",
       "                                                                    'yours',\n",
       "                                                                    'yourself',\n",
       "                                                                    'yourselves',\n",
       "                                                                    'he', 'him',\n",
       "                                                                    'his',\n",
       "                                                                    'himself',\n",
       "                                                                    'she',\n",
       "                                                                    \"she's\",\n",
       "                                                                    'her',\n",
       "                                                                    'hers',\n",
       "                                                                    'herself',\n",
       "                                                                    'it',\n",
       "                                                                    \"it's\",\n",
       "                                                                    'its',\n",
       "                                                                    'itself', ...])),\n",
       "                                       ('ss', StandardScaler(with_mean=False)),\n",
       "                                       ('boost',\n",
       "                                        GradientBoostingClassifier(random_state=42))]),\n",
       "             n_jobs=-1,\n",
       "             param_grid={'boost__max_depth': [4, 5, 6, 7],\n",
       "                         'boost__n_estimators': [150, 160, 170, 180, 190, 200,\n",
       "                                                 210, 220],\n",
       "                         'cvec__max_features': [700, 800, 900, 1000, 1100,\n",
       "                                                1200],\n",
       "                         'cvec__min_df': [2]})"
      ]
     },
     "execution_count": 45,
     "metadata": {},
     "output_type": "execute_result"
    }
   ],
   "source": [
    "boost_gs1.fit(X, y)"
   ]
  },
  {
   "cell_type": "code",
   "execution_count": 46,
   "id": "9bb65ac3-ac98-4327-9ce6-c2f454fd292d",
   "metadata": {},
   "outputs": [
    {
     "data": {
      "text/plain": [
       "{'boost__max_depth': 5,\n",
       " 'boost__n_estimators': 220,\n",
       " 'cvec__max_features': 1000,\n",
       " 'cvec__min_df': 2}"
      ]
     },
     "execution_count": 46,
     "metadata": {},
     "output_type": "execute_result"
    }
   ],
   "source": [
    "boost_gs1.best_params_"
   ]
  },
  {
   "cell_type": "code",
   "execution_count": 47,
   "id": "a1a67fc7-f8a8-460b-bb7e-cc3c01870dee",
   "metadata": {},
   "outputs": [
    {
     "data": {
      "text/plain": [
       "0.9139380166650198"
      ]
     },
     "execution_count": 47,
     "metadata": {},
     "output_type": "execute_result"
    }
   ],
   "source": [
    "boost_gs1.best_score_"
   ]
  },
  {
   "cell_type": "markdown",
   "id": "ac0d2afc-557f-49a4-92d2-30903029e2bd",
   "metadata": {},
   "source": [
    "The improvement from the second round of refining was rather miniscule."
   ]
  },
  {
   "cell_type": "markdown",
   "id": "e3657a0e-c1d1-45c6-8930-c3655e7802d3",
   "metadata": {},
   "source": [
    "### Random Forest\n",
    "\n",
    "Let's see if we can do any better.  We'll try adding back bigrams this time, as well as adding in `min_samples_leaf`."
   ]
  },
  {
   "cell_type": "code",
   "execution_count": 48,
   "id": "8ff15562-8867-4514-b307-87f0d6a14ee1",
   "metadata": {},
   "outputs": [],
   "source": [
    "rf_pipe = Pipeline([\n",
    "    ('cvec', CountVectorizer(stop_words=stopwords.words('english'), preprocessor = url_preprocessor) ),\n",
    "    ('rf', RandomForestClassifier(random_state=42))\n",
    "])"
   ]
  },
  {
   "cell_type": "code",
   "execution_count": 49,
   "id": "67348630-fed9-491a-92c3-62c5363f730e",
   "metadata": {},
   "outputs": [],
   "source": [
    "rf_pipe_params1 = {\n",
    "    'rf__n_estimators':[100, 150, 200, 250],\n",
    "    'rf__max_depth':[None,7],\n",
    "    'rf__min_samples_split':[5,10],\n",
    "    'rf__min_samples_leaf':[1,2,5,10],\n",
    "    \n",
    "    'cvec__max_features': [2500,3000,3500],\n",
    "    'cvec__min_df': [2],\n",
    "    'cvec__ngram_range': [(1,1), (1,2)]\n",
    "}"
   ]
  },
  {
   "cell_type": "code",
   "execution_count": 50,
   "id": "4adae35f-514b-4024-a960-7fa7c8b2acb8",
   "metadata": {},
   "outputs": [],
   "source": [
    "rf_gs1 = GridSearchCV(rf_pipe, param_grid = rf_pipe_params1, n_jobs=-1)"
   ]
  },
  {
   "cell_type": "code",
   "execution_count": 51,
   "id": "9c86009f-d02d-406c-ba76-13c1cc2e4e69",
   "metadata": {},
   "outputs": [
    {
     "data": {
      "text/plain": [
       "GridSearchCV(estimator=Pipeline(steps=[('cvec',\n",
       "                                        CountVectorizer(preprocessor=<function url_preprocessor at 0x7f9cf8e40670>,\n",
       "                                                        stop_words=['i', 'me',\n",
       "                                                                    'my',\n",
       "                                                                    'myself',\n",
       "                                                                    'we', 'our',\n",
       "                                                                    'ours',\n",
       "                                                                    'ourselves',\n",
       "                                                                    'you',\n",
       "                                                                    \"you're\",\n",
       "                                                                    \"you've\",\n",
       "                                                                    \"you'll\",\n",
       "                                                                    \"you'd\",\n",
       "                                                                    'your',\n",
       "                                                                    'yours',\n",
       "                                                                    'yourself',\n",
       "                                                                    'yourselves',\n",
       "                                                                    'he', 'him',\n",
       "                                                                    'his',\n",
       "                                                                    'himself',\n",
       "                                                                    'she',\n",
       "                                                                    \"she's\",\n",
       "                                                                    'her',\n",
       "                                                                    'hers',\n",
       "                                                                    'herself',\n",
       "                                                                    'it',\n",
       "                                                                    \"it's\",\n",
       "                                                                    'its',\n",
       "                                                                    'itself', ...])),\n",
       "                                       ('rf',\n",
       "                                        RandomForestClassifier(random_state=42))]),\n",
       "             n_jobs=-1,\n",
       "             param_grid={'cvec__max_features': [2500, 3000, 3500],\n",
       "                         'cvec__min_df': [2],\n",
       "                         'cvec__ngram_range': [(1, 1), (1, 2)],\n",
       "                         'rf__max_depth': [None, 7],\n",
       "                         'rf__min_samples_leaf': [1, 2, 5, 10],\n",
       "                         'rf__min_samples_split': [5, 10],\n",
       "                         'rf__n_estimators': [100, 150, 200, 250]})"
      ]
     },
     "execution_count": 51,
     "metadata": {},
     "output_type": "execute_result"
    }
   ],
   "source": [
    "rf_gs1.fit(X, y)"
   ]
  },
  {
   "cell_type": "code",
   "execution_count": 52,
   "id": "ab581b23-f912-4fa2-9482-17af8a9b28f6",
   "metadata": {},
   "outputs": [
    {
     "data": {
      "text/plain": [
       "{'cvec__max_features': 3000,\n",
       " 'cvec__min_df': 2,\n",
       " 'cvec__ngram_range': (1, 1),\n",
       " 'rf__max_depth': None,\n",
       " 'rf__min_samples_leaf': 1,\n",
       " 'rf__min_samples_split': 10,\n",
       " 'rf__n_estimators': 150}"
      ]
     },
     "execution_count": 52,
     "metadata": {},
     "output_type": "execute_result"
    }
   ],
   "source": [
    "rf_gs1.best_params_"
   ]
  },
  {
   "cell_type": "code",
   "execution_count": 53,
   "id": "d531f5f8-8228-4b3d-a200-f46826bc4c46",
   "metadata": {},
   "outputs": [
    {
     "data": {
      "text/plain": [
       "0.9225241247571058"
      ]
     },
     "execution_count": 53,
     "metadata": {},
     "output_type": "execute_result"
    }
   ],
   "source": [
    "rf_gs1.best_score_"
   ]
  },
  {
   "cell_type": "markdown",
   "id": "371da35f-eff4-4106-ac3b-09195151e387",
   "metadata": {},
   "source": [
    "This more refined search didn't improve the score all that much."
   ]
  },
  {
   "cell_type": "markdown",
   "id": "7b7f1e9f-1342-45f8-9c0f-23d7ae0fb491",
   "metadata": {},
   "source": [
    "### Random Forest Feature Importances"
   ]
  },
  {
   "cell_type": "code",
   "execution_count": 54,
   "id": "71a0b255-7591-42bf-9184-b4762a011a9a",
   "metadata": {},
   "outputs": [
    {
     "data": {
      "text/html": [
       "<div>\n",
       "<style scoped>\n",
       "    .dataframe tbody tr th:only-of-type {\n",
       "        vertical-align: middle;\n",
       "    }\n",
       "\n",
       "    .dataframe tbody tr th {\n",
       "        vertical-align: top;\n",
       "    }\n",
       "\n",
       "    .dataframe thead th {\n",
       "        text-align: right;\n",
       "    }\n",
       "</style>\n",
       "<table border=\"1\" class=\"dataframe\">\n",
       "  <thead>\n",
       "    <tr style=\"text-align: right;\">\n",
       "      <th></th>\n",
       "      <th>0</th>\n",
       "    </tr>\n",
       "  </thead>\n",
       "  <tbody>\n",
       "    <tr>\n",
       "      <th>piece</th>\n",
       "      <td>0.053739</td>\n",
       "    </tr>\n",
       "    <tr>\n",
       "      <th>score</th>\n",
       "      <td>0.052374</td>\n",
       "    </tr>\n",
       "    <tr>\n",
       "      <th>googlelink</th>\n",
       "      <td>0.034010</td>\n",
       "    </tr>\n",
       "    <tr>\n",
       "      <th>composition</th>\n",
       "      <td>0.028973</td>\n",
       "    </tr>\n",
       "    <tr>\n",
       "      <th>unknownlink</th>\n",
       "      <td>0.028644</td>\n",
       "    </tr>\n",
       "    <tr>\n",
       "      <th>...</th>\n",
       "      <td>...</td>\n",
       "    </tr>\n",
       "    <tr>\n",
       "      <th>developing</th>\n",
       "      <td>0.000000</td>\n",
       "    </tr>\n",
       "    <tr>\n",
       "      <th>exposition</th>\n",
       "      <td>0.000000</td>\n",
       "    </tr>\n",
       "    <tr>\n",
       "      <th>desk</th>\n",
       "      <td>0.000000</td>\n",
       "    </tr>\n",
       "    <tr>\n",
       "      <th>gmail</th>\n",
       "      <td>0.000000</td>\n",
       "    </tr>\n",
       "    <tr>\n",
       "      <th>balanced</th>\n",
       "      <td>0.000000</td>\n",
       "    </tr>\n",
       "  </tbody>\n",
       "</table>\n",
       "<p>3000 rows × 1 columns</p>\n",
       "</div>"
      ],
      "text/plain": [
       "                    0\n",
       "piece        0.053739\n",
       "score        0.052374\n",
       "googlelink   0.034010\n",
       "composition  0.028973\n",
       "unknownlink  0.028644\n",
       "...               ...\n",
       "developing   0.000000\n",
       "exposition   0.000000\n",
       "desk         0.000000\n",
       "gmail        0.000000\n",
       "balanced     0.000000\n",
       "\n",
       "[3000 rows x 1 columns]"
      ]
     },
     "execution_count": 54,
     "metadata": {},
     "output_type": "execute_result"
    }
   ],
   "source": [
    "importances = rf_gs1.best_estimator_.named_steps['rf'].feature_importances_\n",
    "word_names = rf_gs1.best_estimator_.named_steps['cvec'].get_feature_names_out()\n",
    "\n",
    "importances_df = pd.DataFrame(importances, index=word_names)\n",
    "importances_df = importances_df.sort_values(0, ascending=False)\n",
    "importances_df"
   ]
  },
  {
   "cell_type": "code",
   "execution_count": 55,
   "id": "ba94aedc-2969-4cb7-a5a1-1b1c7e27ba53",
   "metadata": {},
   "outputs": [
    {
     "data": {
      "image/png": "[encoded data removed]",
      "text/plain": [
       "<Figure size 600x600 with 1 Axes>"
      ]
     },
     "metadata": {},
     "output_type": "display_data"
    }
   ],
   "source": [
    "plt.figure(figsize=(6,6));\n",
    "plt.barh(importances_df.iloc[0:10,0].index, importances_df.iloc[0:10,0]);\n",
    "plt.xlabel('Feature Importance (out of 3500 features)');\n",
    "plt.ylabel('Feature');\n",
    "plt.title('Word Importances in Best Random Forest Model')\n",
    "\n",
    "plt.axvline(x = 1/3500, color = 'r', label = f'Average Feature Importance={np.round(1/3500, 6)}');\n",
    "plt.legend();\n",
    "plt.tight_layout();\n",
    "plt.savefig('../images/feature_importances.png')"
   ]
  },
  {
   "cell_type": "markdown",
   "id": "76eb71b0-2405-446e-9d50-d41304b4385a",
   "metadata": {},
   "source": [
    "Notice that the words \"composition,\" \"composer,\" and \"composing\" all have the same root.  One might therefore suggest that preprocessing the texts by stemming/lemmatizing their words could improve performance.  Our EDA suggests that this is not likely to be the case.  However, as our gridsearches indicate, include the `stem_processor` (alongside the `url_preprocessor`) actually makes performance somewhat worse overall."
   ]
  },
  {
   "cell_type": "markdown",
   "id": "0167bbb4-f584-43b2-9979-d6a3b7014021",
   "metadata": {},
   "source": [
    "### Logistic Regression"
   ]
  },
  {
   "cell_type": "code",
   "execution_count": 56,
   "id": "cb4d6484-0365-493a-adae-be12b49dafe1",
   "metadata": {},
   "outputs": [],
   "source": [
    "lr_pipe = Pipeline([\n",
    "    ('cvec', CountVectorizer(stop_words=stopwords.words('english'), preprocessor = url_preprocessor) ),\n",
    "    ('ss',StandardScaler(with_mean=False)),\n",
    "    ('lr', LogisticRegression())\n",
    "])"
   ]
  },
  {
   "cell_type": "code",
   "execution_count": 57,
   "id": "7ad9e6f3-38a3-4fe1-80a6-659b1e336235",
   "metadata": {},
   "outputs": [],
   "source": [
    "lr_pipe_params1 = {\n",
    "    'lr__C' : np.logspace(-3,2,20),\n",
    "\n",
    "    'cvec__max_features': [250, 500, 750, 1000, 1250, 1500, 1750, 2000],\n",
    "    'cvec__min_df': [2],\n",
    "    'cvec__ngram_range': [(1, 1), (1, 2)]\n",
    "}"
   ]
  },
  {
   "cell_type": "code",
   "execution_count": 58,
   "id": "938ba487-78df-4c72-8baf-25eae72ccee1",
   "metadata": {},
   "outputs": [],
   "source": [
    "lr_gs1 = GridSearchCV(lr_pipe, lr_pipe_params1, n_jobs=-1)"
   ]
  },
  {
   "cell_type": "code",
   "execution_count": 59,
   "id": "e211c664-be64-4566-9d7b-d5919a556337",
   "metadata": {},
   "outputs": [
    {
     "data": {
      "text/plain": [
       "GridSearchCV(estimator=Pipeline(steps=[('cvec',\n",
       "                                        CountVectorizer(preprocessor=<function url_preprocessor at 0x7f9cf8e40670>,\n",
       "                                                        stop_words=['i', 'me',\n",
       "                                                                    'my',\n",
       "                                                                    'myself',\n",
       "                                                                    'we', 'our',\n",
       "                                                                    'ours',\n",
       "                                                                    'ourselves',\n",
       "                                                                    'you',\n",
       "                                                                    \"you're\",\n",
       "                                                                    \"you've\",\n",
       "                                                                    \"you'll\",\n",
       "                                                                    \"you'd\",\n",
       "                                                                    'your',\n",
       "                                                                    'yours',\n",
       "                                                                    'yourself',\n",
       "                                                                    'yourselves',\n",
       "                                                                    'he', 'him',\n",
       "                                                                    'his',\n",
       "                                                                    'himself',\n",
       "                                                                    'she',\n",
       "                                                                    \"she's\",\n",
       "                                                                    'her',\n",
       "                                                                    'hers',\n",
       "                                                                    'herself',\n",
       "                                                                    'it',\n",
       "                                                                    \"it's\",\n",
       "                                                                    'its',\n",
       "                                                                    'its...\n",
       "                         'cvec__ngram_range': [(1, 1), (1, 2)],\n",
       "                         'lr__C': array([1.00000000e-03, 1.83298071e-03, 3.35981829e-03, 6.15848211e-03,\n",
       "       1.12883789e-02, 2.06913808e-02, 3.79269019e-02, 6.95192796e-02,\n",
       "       1.27427499e-01, 2.33572147e-01, 4.28133240e-01, 7.84759970e-01,\n",
       "       1.43844989e+00, 2.63665090e+00, 4.83293024e+00, 8.85866790e+00,\n",
       "       1.62377674e+01, 2.97635144e+01, 5.45559478e+01, 1.00000000e+02])})"
      ]
     },
     "execution_count": 59,
     "metadata": {},
     "output_type": "execute_result"
    }
   ],
   "source": [
    "lr_gs1.fit(X,y)"
   ]
  },
  {
   "cell_type": "code",
   "execution_count": 60,
   "id": "366aa47c-2074-4758-a2be-ac88e3c7014f",
   "metadata": {},
   "outputs": [
    {
     "data": {
      "text/plain": [
       "{'cvec__max_features': 1750,\n",
       " 'cvec__min_df': 2,\n",
       " 'cvec__ngram_range': (1, 1),\n",
       " 'lr__C': 0.006158482110660267}"
      ]
     },
     "execution_count": 60,
     "metadata": {},
     "output_type": "execute_result"
    }
   ],
   "source": [
    "lr_gs1.best_params_"
   ]
  },
  {
   "cell_type": "code",
   "execution_count": 61,
   "id": "72f8c26f-1b18-49d0-9b2a-1455ceb02a71",
   "metadata": {},
   "outputs": [
    {
     "data": {
      "text/plain": [
       "0.9110743338932252"
      ]
     },
     "execution_count": 61,
     "metadata": {},
     "output_type": "execute_result"
    }
   ],
   "source": [
    "lr_gs1.best_score_"
   ]
  },
  {
   "cell_type": "markdown",
   "id": "64df6bd7-5b76-4d70-bd8d-fba087d44931",
   "metadata": {},
   "source": [
    "Again, the more refined search did not improve the accuracy score much."
   ]
  },
  {
   "cell_type": "markdown",
   "id": "0c490fbd-c8fc-4a36-a3da-82b4769168a4",
   "metadata": {},
   "source": [
    "### Word importances via logistic regression coefficients"
   ]
  },
  {
   "cell_type": "code",
   "execution_count": 62,
   "id": "1e9f765a-15f0-4e72-92a5-60ae21ec6a12",
   "metadata": {},
   "outputs": [
    {
     "data": {
      "text/html": [
       "<div>\n",
       "<style scoped>\n",
       "    .dataframe tbody tr th:only-of-type {\n",
       "        vertical-align: middle;\n",
       "    }\n",
       "\n",
       "    .dataframe tbody tr th {\n",
       "        vertical-align: top;\n",
       "    }\n",
       "\n",
       "    .dataframe thead th {\n",
       "        text-align: right;\n",
       "    }\n",
       "</style>\n",
       "<table border=\"1\" class=\"dataframe\">\n",
       "  <thead>\n",
       "    <tr style=\"text-align: right;\">\n",
       "      <th></th>\n",
       "      <th>0</th>\n",
       "    </tr>\n",
       "  </thead>\n",
       "  <tbody>\n",
       "    <tr>\n",
       "      <th>production</th>\n",
       "      <td>0.151330</td>\n",
       "    </tr>\n",
       "    <tr>\n",
       "      <th>song</th>\n",
       "      <td>0.114855</td>\n",
       "    </tr>\n",
       "    <tr>\n",
       "      <th>producing</th>\n",
       "      <td>0.107526</td>\n",
       "    </tr>\n",
       "    <tr>\n",
       "      <th>vocals</th>\n",
       "      <td>0.099993</td>\n",
       "    </tr>\n",
       "    <tr>\n",
       "      <th>sound</th>\n",
       "      <td>0.097368</td>\n",
       "    </tr>\n",
       "    <tr>\n",
       "      <th>effect</th>\n",
       "      <td>0.097290</td>\n",
       "    </tr>\n",
       "    <tr>\n",
       "      <th>producers</th>\n",
       "      <td>0.095106</td>\n",
       "    </tr>\n",
       "    <tr>\n",
       "      <th>beats</th>\n",
       "      <td>0.093999</td>\n",
       "    </tr>\n",
       "    <tr>\n",
       "      <th>download</th>\n",
       "      <td>0.091761</td>\n",
       "    </tr>\n",
       "    <tr>\n",
       "      <th>drum</th>\n",
       "      <td>0.090402</td>\n",
       "    </tr>\n",
       "    <tr>\n",
       "      <th>beat</th>\n",
       "      <td>0.086702</td>\n",
       "    </tr>\n",
       "    <tr>\n",
       "      <th>looking</th>\n",
       "      <td>0.084566</td>\n",
       "    </tr>\n",
       "    <tr>\n",
       "      <th>ableton</th>\n",
       "      <td>0.082141</td>\n",
       "    </tr>\n",
       "    <tr>\n",
       "      <th>vocal</th>\n",
       "      <td>0.081645</td>\n",
       "    </tr>\n",
       "    <tr>\n",
       "      <th>fl</th>\n",
       "      <td>0.079774</td>\n",
       "    </tr>\n",
       "    <tr>\n",
       "      <th>produce</th>\n",
       "      <td>0.079770</td>\n",
       "    </tr>\n",
       "    <tr>\n",
       "      <th>samples</th>\n",
       "      <td>0.077550</td>\n",
       "    </tr>\n",
       "    <tr>\n",
       "      <th>plugins</th>\n",
       "      <td>0.075314</td>\n",
       "    </tr>\n",
       "    <tr>\n",
       "      <th>studio</th>\n",
       "      <td>0.074189</td>\n",
       "    </tr>\n",
       "    <tr>\n",
       "      <th>2023</th>\n",
       "      <td>0.073301</td>\n",
       "    </tr>\n",
       "    <tr>\n",
       "      <th>home</th>\n",
       "      <td>0.071550</td>\n",
       "    </tr>\n",
       "    <tr>\n",
       "      <th>achieve</th>\n",
       "      <td>0.070101</td>\n",
       "    </tr>\n",
       "    <tr>\n",
       "      <th>synth</th>\n",
       "      <td>0.070088</td>\n",
       "    </tr>\n",
       "    <tr>\n",
       "      <th>type</th>\n",
       "      <td>0.069316</td>\n",
       "    </tr>\n",
       "    <tr>\n",
       "      <th>sample</th>\n",
       "      <td>0.069197</td>\n",
       "    </tr>\n",
       "  </tbody>\n",
       "</table>\n",
       "</div>"
      ],
      "text/plain": [
       "                   0\n",
       "production  0.151330\n",
       "song        0.114855\n",
       "producing   0.107526\n",
       "vocals      0.099993\n",
       "sound       0.097368\n",
       "effect      0.097290\n",
       "producers   0.095106\n",
       "beats       0.093999\n",
       "download    0.091761\n",
       "drum        0.090402\n",
       "beat        0.086702\n",
       "looking     0.084566\n",
       "ableton     0.082141\n",
       "vocal       0.081645\n",
       "fl          0.079774\n",
       "produce     0.079770\n",
       "samples     0.077550\n",
       "plugins     0.075314\n",
       "studio      0.074189\n",
       "2023        0.073301\n",
       "home        0.071550\n",
       "achieve     0.070101\n",
       "synth       0.070088\n",
       "type        0.069316\n",
       "sample      0.069197"
      ]
     },
     "execution_count": 62,
     "metadata": {},
     "output_type": "execute_result"
    }
   ],
   "source": [
    "coefs = lr_gs1.best_estimator_.named_steps['lr'].coef_\n",
    "var_names = lr_gs1.best_estimator_.named_steps['cvec'].get_feature_names_out()\n",
    "\n",
    "coefs_df = pd.DataFrame(coefs[0], index=var_names)\n",
    "coefs_df = coefs_df.sort_values(0, ascending=False)\n",
    "\n",
    "#Examine the 25 features that most strongly indicate \"Producers\"\n",
    "coefs_df.head(25)"
   ]
  },
  {
   "cell_type": "markdown",
   "id": "d9647f81-081c-439c-a30d-7e2c3602e1de",
   "metadata": {},
   "source": [
    "The words at the top of this list are the ones that the logistic regression \"learned\" are the strongest indicators of a post having come from the \"Producers\" subreddit (holding constant all other words in the post).  On the flip side, here are the words that it learned to be the strongest indicators of the \"Composers\" subreddit:"
   ]
  },
  {
   "cell_type": "code",
   "execution_count": 63,
   "id": "4f076135-efad-4f5a-a3d0-9006b056fd36",
   "metadata": {},
   "outputs": [
    {
     "data": {
      "text/html": [
       "<div>\n",
       "<style scoped>\n",
       "    .dataframe tbody tr th:only-of-type {\n",
       "        vertical-align: middle;\n",
       "    }\n",
       "\n",
       "    .dataframe tbody tr th {\n",
       "        vertical-align: top;\n",
       "    }\n",
       "\n",
       "    .dataframe thead th {\n",
       "        text-align: right;\n",
       "    }\n",
       "</style>\n",
       "<table border=\"1\" class=\"dataframe\">\n",
       "  <thead>\n",
       "    <tr style=\"text-align: right;\">\n",
       "      <th></th>\n",
       "      <th>0</th>\n",
       "    </tr>\n",
       "  </thead>\n",
       "  <tbody>\n",
       "    <tr>\n",
       "      <th>score</th>\n",
       "      <td>-0.243516</td>\n",
       "    </tr>\n",
       "    <tr>\n",
       "      <th>unknownlink</th>\n",
       "      <td>-0.230798</td>\n",
       "    </tr>\n",
       "    <tr>\n",
       "      <th>googlelink</th>\n",
       "      <td>-0.190236</td>\n",
       "    </tr>\n",
       "    <tr>\n",
       "      <th>youtubelink</th>\n",
       "      <td>-0.187758</td>\n",
       "    </tr>\n",
       "    <tr>\n",
       "      <th>piece</th>\n",
       "      <td>-0.186329</td>\n",
       "    </tr>\n",
       "    <tr>\n",
       "      <th>composition</th>\n",
       "      <td>-0.184772</td>\n",
       "    </tr>\n",
       "    <tr>\n",
       "      <th>composing</th>\n",
       "      <td>-0.169663</td>\n",
       "    </tr>\n",
       "    <tr>\n",
       "      <th>piano</th>\n",
       "      <td>-0.128446</td>\n",
       "    </tr>\n",
       "    <tr>\n",
       "      <th>composer</th>\n",
       "      <td>-0.126108</td>\n",
       "    </tr>\n",
       "    <tr>\n",
       "      <th>feedback</th>\n",
       "      <td>-0.123903</td>\n",
       "    </tr>\n",
       "    <tr>\n",
       "      <th>compose</th>\n",
       "      <td>-0.112985</td>\n",
       "    </tr>\n",
       "    <tr>\n",
       "      <th>scores</th>\n",
       "      <td>-0.110807</td>\n",
       "    </tr>\n",
       "    <tr>\n",
       "      <th>sheet</th>\n",
       "      <td>-0.109433</td>\n",
       "    </tr>\n",
       "    <tr>\n",
       "      <th>musescore</th>\n",
       "      <td>-0.107384</td>\n",
       "    </tr>\n",
       "    <tr>\n",
       "      <th>writing</th>\n",
       "      <td>-0.106038</td>\n",
       "    </tr>\n",
       "    <tr>\n",
       "      <th>short</th>\n",
       "      <td>-0.105387</td>\n",
       "    </tr>\n",
       "    <tr>\n",
       "      <th>first</th>\n",
       "      <td>-0.104272</td>\n",
       "    </tr>\n",
       "    <tr>\n",
       "      <th>noteflightlink</th>\n",
       "      <td>-0.102402</td>\n",
       "    </tr>\n",
       "    <tr>\n",
       "      <th>wrote</th>\n",
       "      <td>-0.101575</td>\n",
       "    </tr>\n",
       "    <tr>\n",
       "      <th>orchestra</th>\n",
       "      <td>-0.100801</td>\n",
       "    </tr>\n",
       "    <tr>\n",
       "      <th>write</th>\n",
       "      <td>-0.098737</td>\n",
       "    </tr>\n",
       "    <tr>\n",
       "      <th>written</th>\n",
       "      <td>-0.090665</td>\n",
       "    </tr>\n",
       "    <tr>\n",
       "      <th>pieces</th>\n",
       "      <td>-0.088267</td>\n",
       "    </tr>\n",
       "    <tr>\n",
       "      <th>film</th>\n",
       "      <td>-0.088204</td>\n",
       "    </tr>\n",
       "    <tr>\n",
       "      <th>composed</th>\n",
       "      <td>-0.086560</td>\n",
       "    </tr>\n",
       "  </tbody>\n",
       "</table>\n",
       "</div>"
      ],
      "text/plain": [
       "                       0\n",
       "score          -0.243516\n",
       "unknownlink    -0.230798\n",
       "googlelink     -0.190236\n",
       "youtubelink    -0.187758\n",
       "piece          -0.186329\n",
       "composition    -0.184772\n",
       "composing      -0.169663\n",
       "piano          -0.128446\n",
       "composer       -0.126108\n",
       "feedback       -0.123903\n",
       "compose        -0.112985\n",
       "scores         -0.110807\n",
       "sheet          -0.109433\n",
       "musescore      -0.107384\n",
       "writing        -0.106038\n",
       "short          -0.105387\n",
       "first          -0.104272\n",
       "noteflightlink -0.102402\n",
       "wrote          -0.101575\n",
       "orchestra      -0.100801\n",
       "write          -0.098737\n",
       "written        -0.090665\n",
       "pieces         -0.088267\n",
       "film           -0.088204\n",
       "composed       -0.086560"
      ]
     },
     "execution_count": 63,
     "metadata": {},
     "output_type": "execute_result"
    }
   ],
   "source": [
    "#Examine the 25 features that most strongly indicate \"Composers\"\n",
    "coefs_df.tail(25).sort_values(0)"
   ]
  },
  {
   "cell_type": "markdown",
   "id": "62f80ede-58c9-4739-b25d-db83e4b12fce",
   "metadata": {},
   "source": [
    "It's interesting to note that *the most common types of links* all appear to be very strong indicators of the \"Composers\" subreddit.  I hypothesize that this is because our sample of the \"Producers\" subreddit had over 200 posts that had empty body text (perhaps because it was deleted by a mod) while the \"Composers\" subreddit had none with empty body text.  Since a large fraction of posts contain links to Youtube, Google, or some other website in their body text (but none do in their title), this might make the presence of *any link* be a strong indicator of \"having body text,\" which in turn is a strong indicator of being from the Composers subreddit.\n",
    "\n",
    "Or, there might simply be cultural differences between the two subreddits that make these links more likely among Composers."
   ]
  },
  {
   "cell_type": "markdown",
   "id": "8b4770f6-7b84-4dd8-8439-4592e37aa25d",
   "metadata": {},
   "source": [
    "## Naive Bayes"
   ]
  },
  {
   "cell_type": "code",
   "execution_count": 64,
   "id": "7538da68-ab4b-4b10-b4ea-11275defcffb",
   "metadata": {},
   "outputs": [],
   "source": [
    "nb_pipe = Pipeline([\n",
    "    ('cvec', CountVectorizer(stop_words=stopwords.words('english'), preprocessor = url_preprocessor) ),\n",
    "    ('nb', MultinomialNB())\n",
    "])"
   ]
  },
  {
   "cell_type": "code",
   "execution_count": 65,
   "id": "f92e5c11-6223-48c0-8a7b-47efef17e733",
   "metadata": {},
   "outputs": [],
   "source": [
    "nb_pipe_params1 = {\n",
    "    'nb__alpha': np.logspace(-2,2,9),\n",
    "    \n",
    "    'cvec__max_features': list(range(3250,4751,250)),\n",
    "    'cvec__min_df': [2],\n",
    "    'cvec__ngram_range': [(1, 1), (1, 2)]\n",
    "}"
   ]
  },
  {
   "cell_type": "code",
   "execution_count": 66,
   "id": "f942be8d-a051-47fb-ae5f-cdf60181f1d2",
   "metadata": {},
   "outputs": [],
   "source": [
    "nb_gs1 = GridSearchCV(nb_pipe, param_grid = nb_pipe_params1, n_jobs=-1)"
   ]
  },
  {
   "cell_type": "code",
   "execution_count": 67,
   "id": "59817033-c3bb-4965-b33d-e8bd6a74a219",
   "metadata": {},
   "outputs": [
    {
     "data": {
      "text/plain": [
       "GridSearchCV(estimator=Pipeline(steps=[('cvec',\n",
       "                                        CountVectorizer(preprocessor=<function url_preprocessor at 0x7f9cf8e40670>,\n",
       "                                                        stop_words=['i', 'me',\n",
       "                                                                    'my',\n",
       "                                                                    'myself',\n",
       "                                                                    'we', 'our',\n",
       "                                                                    'ours',\n",
       "                                                                    'ourselves',\n",
       "                                                                    'you',\n",
       "                                                                    \"you're\",\n",
       "                                                                    \"you've\",\n",
       "                                                                    \"you'll\",\n",
       "                                                                    \"you'd\",\n",
       "                                                                    'your',\n",
       "                                                                    'yours',\n",
       "                                                                    'yourself',\n",
       "                                                                    'yourselves',\n",
       "                                                                    'he', 'him',\n",
       "                                                                    'his',\n",
       "                                                                    'himself',\n",
       "                                                                    'she',\n",
       "                                                                    \"she's\",\n",
       "                                                                    'her',\n",
       "                                                                    'hers',\n",
       "                                                                    'herself',\n",
       "                                                                    'it',\n",
       "                                                                    \"it's\",\n",
       "                                                                    'its',\n",
       "                                                                    'itself', ...])),\n",
       "                                       ('nb', MultinomialNB())]),\n",
       "             n_jobs=-1,\n",
       "             param_grid={'cvec__max_features': [3250, 3500, 3750, 4000, 4250,\n",
       "                                                4500, 4750],\n",
       "                         'cvec__min_df': [2],\n",
       "                         'cvec__ngram_range': [(1, 1), (1, 2)],\n",
       "                         'nb__alpha': array([1.00000000e-02, 3.16227766e-02, 1.00000000e-01, 3.16227766e-01,\n",
       "       1.00000000e+00, 3.16227766e+00, 1.00000000e+01, 3.16227766e+01,\n",
       "       1.00000000e+02])})"
      ]
     },
     "execution_count": 67,
     "metadata": {},
     "output_type": "execute_result"
    }
   ],
   "source": [
    "nb_gs1.fit(X, y)"
   ]
  },
  {
   "cell_type": "code",
   "execution_count": 68,
   "id": "8cb88356-1f05-4610-af10-a179b9dbe9e8",
   "metadata": {},
   "outputs": [
    {
     "data": {
      "text/plain": [
       "{'cvec__max_features': 3750,\n",
       " 'cvec__min_df': 2,\n",
       " 'cvec__ngram_range': (1, 1),\n",
       " 'nb__alpha': 1.0}"
      ]
     },
     "execution_count": 68,
     "metadata": {},
     "output_type": "execute_result"
    }
   ],
   "source": [
    "#Examine best hyperparameters\n",
    "nb_gs1.best_params_"
   ]
  },
  {
   "cell_type": "code",
   "execution_count": 69,
   "id": "d7149bd4-d2de-483e-9da8-d691dcb4c36f",
   "metadata": {},
   "outputs": [
    {
     "data": {
      "text/plain": [
       "0.9363106412409842"
      ]
     },
     "execution_count": 69,
     "metadata": {},
     "output_type": "execute_result"
    }
   ],
   "source": [
    "nb_gs1.best_score_"
   ]
  },
  {
   "cell_type": "markdown",
   "id": "0cd7f51e-bd26-4e91-af85-f3bbb0f27b76",
   "metadata": {},
   "source": [
    "Again, the improvement is rather small."
   ]
  },
  {
   "cell_type": "markdown",
   "id": "ae371f13-f598-49ba-986d-94daf5ea3f37",
   "metadata": {},
   "source": [
    "# Summary of best models trained on titles + body text\n",
    "\n",
    "So far, to avoid data leakage, we haven't touched the test data.  But to summarize our progress so far, we'll make a table of the crossval accuracy scores and test data accuracy scores of the best models so far."
   ]
  },
  {
   "cell_type": "code",
   "execution_count": 70,
   "id": "f93bde03-6eb2-4d2e-b98b-cc7264b5c902",
   "metadata": {},
   "outputs": [
    {
     "data": {
      "text/html": [
       "<div>\n",
       "<style scoped>\n",
       "    .dataframe tbody tr th:only-of-type {\n",
       "        vertical-align: middle;\n",
       "    }\n",
       "\n",
       "    .dataframe tbody tr th {\n",
       "        vertical-align: top;\n",
       "    }\n",
       "\n",
       "    .dataframe thead th {\n",
       "        text-align: right;\n",
       "    }\n",
       "</style>\n",
       "<table border=\"1\" class=\"dataframe\">\n",
       "  <thead>\n",
       "    <tr style=\"text-align: right;\">\n",
       "      <th></th>\n",
       "      <th>Crossval Score</th>\n",
       "      <th>Test Data Score</th>\n",
       "    </tr>\n",
       "  </thead>\n",
       "  <tbody>\n",
       "    <tr>\n",
       "      <th>Naive Bayes</th>\n",
       "      <td>0.936311</td>\n",
       "      <td>0.917526</td>\n",
       "    </tr>\n",
       "    <tr>\n",
       "      <th>Random Forest</th>\n",
       "      <td>0.922524</td>\n",
       "      <td>0.914089</td>\n",
       "    </tr>\n",
       "    <tr>\n",
       "      <th>Gradient Boost</th>\n",
       "      <td>0.913938</td>\n",
       "      <td>0.908935</td>\n",
       "    </tr>\n",
       "    <tr>\n",
       "      <th>Logistic Regression</th>\n",
       "      <td>0.911074</td>\n",
       "      <td>0.903780</td>\n",
       "    </tr>\n",
       "  </tbody>\n",
       "</table>\n",
       "</div>"
      ],
      "text/plain": [
       "                     Crossval Score  Test Data Score\n",
       "Naive Bayes                0.936311         0.917526\n",
       "Random Forest              0.922524         0.914089\n",
       "Gradient Boost             0.913938         0.908935\n",
       "Logistic Regression        0.911074         0.903780"
      ]
     },
     "execution_count": 70,
     "metadata": {},
     "output_type": "execute_result"
    }
   ],
   "source": [
    "names_dict = {'nb_gs1': 'Naive Bayes',\n",
    "              'rf_gs1': 'Random Forest',\n",
    "              'lr_gs1': 'Logistic Regression',\n",
    "              'boost_gs1':'Gradient Boost'}\n",
    "\n",
    "X_test = val_df['post']\n",
    "y_test = val_df['subreddit']\n",
    "\n",
    "results_dict = {}\n",
    "for est in names_dict.keys():\n",
    "    results_dict[names_dict[est]] = {\n",
    "     'Crossval Score': locals()[est].best_score_,\n",
    "     'Test Data Score': locals()[est].score(X_test, y_test)\n",
    "    }\n",
    "    \n",
    "results_df = pd.DataFrame(results_dict).T\n",
    "results_df.sort_values('Crossval Score', ascending=False)"
   ]
  },
  {
   "cell_type": "markdown",
   "id": "804d1cbf-8f6e-4204-bc97-4c9fe849aee3",
   "metadata": {},
   "source": [
    "These models have performed rather well.  But would a stacked model, which combines their predictions, improve results even further?"
   ]
  },
  {
   "cell_type": "markdown",
   "id": "15967d4c-fa5b-4ef7-804b-fa6209933da8",
   "metadata": {},
   "source": [
    "## Stacked Model"
   ]
  },
  {
   "cell_type": "code",
   "execution_count": 71,
   "id": "76c56604-7255-4b82-ad88-8c380ec54548",
   "metadata": {},
   "outputs": [
    {
     "data": {
      "text/plain": [
       "dict_keys(['nb_gs1', 'rf_gs1', 'lr_gs1', 'boost_gs1'])"
      ]
     },
     "execution_count": 71,
     "metadata": {},
     "output_type": "execute_result"
    }
   ],
   "source": [
    "names_dict.keys()"
   ]
  },
  {
   "cell_type": "code",
   "execution_count": 72,
   "id": "3814b32c-5ccc-42b7-94fb-8d75e83be869",
   "metadata": {},
   "outputs": [
    {
     "data": {
      "text/plain": [
       "Pipeline(steps=[('cvec',\n",
       "                 CountVectorizer(max_features=3750, min_df=2,\n",
       "                                 preprocessor=<function url_preprocessor at 0x7f9cf8e40670>,\n",
       "                                 stop_words=['i', 'me', 'my', 'myself', 'we',\n",
       "                                             'our', 'ours', 'ourselves', 'you',\n",
       "                                             \"you're\", \"you've\", \"you'll\",\n",
       "                                             \"you'd\", 'your', 'yours',\n",
       "                                             'yourself', 'yourselves', 'he',\n",
       "                                             'him', 'his', 'himself', 'she',\n",
       "                                             \"she's\", 'her', 'hers', 'herself',\n",
       "                                             'it', \"it's\", 'its', 'itself', ...])),\n",
       "                ('nb', MultinomialNB())])"
      ]
     },
     "execution_count": 72,
     "metadata": {},
     "output_type": "execute_result"
    }
   ],
   "source": [
    "locals()['nb_gs1'].best_estimator_"
   ]
  },
  {
   "cell_type": "code",
   "execution_count": 73,
   "id": "06a5e75f-396d-4e58-8b42-f4219d2a54c3",
   "metadata": {},
   "outputs": [
    {
     "name": "stdout",
     "output_type": "stream",
     "text": [
      "['nb_gs1', 'rf_gs1', 'lr_gs1', 'boost_gs1']\n"
     ]
    }
   ],
   "source": [
    "print(list(names_dict.keys()))"
   ]
  },
  {
   "cell_type": "code",
   "execution_count": 74,
   "id": "6c43f5b3-b748-414b-9cc8-96f3d3d34ee2",
   "metadata": {},
   "outputs": [],
   "source": [
    "#The following list comprehension won't work, as locals() is local to the most local scope (which is only the list comp here):\n",
    "#level1_estimators = [ (name, locals()[name].best_estimator_) for name in names_dict.keys()]\n",
    "\n",
    "level1_estimators = []\n",
    "for name in names_dict.keys():\n",
    "    level1_estimators.append((name, locals()[name].best_estimator_))\n",
    "\n",
    "stacked_model = StackingClassifier(estimators=level1_estimators,\n",
    "                                 final_estimator=LogisticRegression(penalty='none'))"
   ]
  },
  {
   "cell_type": "code",
   "execution_count": 75,
   "id": "fc2d3f3b-8e31-4b80-bf52-806bc3819bdb",
   "metadata": {},
   "outputs": [],
   "source": [
    "cvs = cross_val_score(stacked_model, X, y)"
   ]
  },
  {
   "cell_type": "code",
   "execution_count": 76,
   "id": "8fc9ed30-a8e6-4678-b3c5-d96e10d224ed",
   "metadata": {},
   "outputs": [
    {
     "data": {
      "text/plain": [
       "StackingClassifier(estimators=[('nb_gs1',\n",
       "                                Pipeline(steps=[('cvec',\n",
       "                                                 CountVectorizer(max_features=3750,\n",
       "                                                                 min_df=2,\n",
       "                                                                 preprocessor=<function url_preprocessor at 0x7f9cf8e40670>,\n",
       "                                                                 stop_words=['i',\n",
       "                                                                             'me',\n",
       "                                                                             'my',\n",
       "                                                                             'myself',\n",
       "                                                                             'we',\n",
       "                                                                             'our',\n",
       "                                                                             'ours',\n",
       "                                                                             'ourselves',\n",
       "                                                                             'you',\n",
       "                                                                             \"you're\",\n",
       "                                                                             \"you've\",\n",
       "                                                                             \"you'll\",\n",
       "                                                                             \"you'd\",\n",
       "                                                                             'your',\n",
       "                                                                             'yours',\n",
       "                                                                             'yourself',\n",
       "                                                                             'yourselves',\n",
       "                                                                             'he',\n",
       "                                                                             'him',\n",
       "                                                                             'his',\n",
       "                                                                             'himself',\n",
       "                                                                             'she',\n",
       "                                                                             \"she's\",...\n",
       "                                                                             'you',\n",
       "                                                                             \"you're\",\n",
       "                                                                             \"you've\",\n",
       "                                                                             \"you'll\",\n",
       "                                                                             \"you'd\",\n",
       "                                                                             'your',\n",
       "                                                                             'yours',\n",
       "                                                                             'yourself',\n",
       "                                                                             'yourselves',\n",
       "                                                                             'he',\n",
       "                                                                             'him',\n",
       "                                                                             'his',\n",
       "                                                                             'himself',\n",
       "                                                                             'she',\n",
       "                                                                             \"she's\",\n",
       "                                                                             'her',\n",
       "                                                                             'hers',\n",
       "                                                                             'herself',\n",
       "                                                                             'it',\n",
       "                                                                             \"it's\",\n",
       "                                                                             'its',\n",
       "                                                                             'itself', ...])),\n",
       "                                                ('ss',\n",
       "                                                 StandardScaler(with_mean=False)),\n",
       "                                                ('boost',\n",
       "                                                 GradientBoostingClassifier(max_depth=5,\n",
       "                                                                            n_estimators=220,\n",
       "                                                                            random_state=42))]))],\n",
       "                   final_estimator=LogisticRegression(penalty='none'))"
      ]
     },
     "execution_count": 76,
     "metadata": {},
     "output_type": "execute_result"
    }
   ],
   "source": [
    "stacked_model.fit(X,y)"
   ]
  },
  {
   "cell_type": "code",
   "execution_count": 77,
   "id": "9dd9bbe9-37e0-45be-8b2d-c167b953bf50",
   "metadata": {},
   "outputs": [
    {
     "data": {
      "text/html": [
       "<div>\n",
       "<style scoped>\n",
       "    .dataframe tbody tr th:only-of-type {\n",
       "        vertical-align: middle;\n",
       "    }\n",
       "\n",
       "    .dataframe tbody tr th {\n",
       "        vertical-align: top;\n",
       "    }\n",
       "\n",
       "    .dataframe thead th {\n",
       "        text-align: right;\n",
       "    }\n",
       "</style>\n",
       "<table border=\"1\" class=\"dataframe\">\n",
       "  <thead>\n",
       "    <tr style=\"text-align: right;\">\n",
       "      <th></th>\n",
       "      <th>Crossval Score</th>\n",
       "      <th>Test Data Score</th>\n",
       "    </tr>\n",
       "  </thead>\n",
       "  <tbody>\n",
       "    <tr>\n",
       "      <th>Stacked Model</th>\n",
       "      <td>0.940325</td>\n",
       "      <td>0.929553</td>\n",
       "    </tr>\n",
       "    <tr>\n",
       "      <th>Naive Bayes</th>\n",
       "      <td>0.936311</td>\n",
       "      <td>0.917526</td>\n",
       "    </tr>\n",
       "    <tr>\n",
       "      <th>Random Forest</th>\n",
       "      <td>0.922524</td>\n",
       "      <td>0.914089</td>\n",
       "    </tr>\n",
       "    <tr>\n",
       "      <th>Gradient Boost</th>\n",
       "      <td>0.913938</td>\n",
       "      <td>0.908935</td>\n",
       "    </tr>\n",
       "    <tr>\n",
       "      <th>Logistic Regression</th>\n",
       "      <td>0.911074</td>\n",
       "      <td>0.903780</td>\n",
       "    </tr>\n",
       "  </tbody>\n",
       "</table>\n",
       "</div>"
      ],
      "text/plain": [
       "                     Crossval Score  Test Data Score\n",
       "Stacked Model              0.940325         0.929553\n",
       "Naive Bayes                0.936311         0.917526\n",
       "Random Forest              0.922524         0.914089\n",
       "Gradient Boost             0.913938         0.908935\n",
       "Logistic Regression        0.911074         0.903780"
      ]
     },
     "execution_count": 77,
     "metadata": {},
     "output_type": "execute_result"
    }
   ],
   "source": [
    "results_dict['Stacked Model'] = {\n",
    "     'Crossval Score': cvs.mean(),\n",
    "     'Test Data Score': stacked_model.score(X_test, y_test)\n",
    "    }\n",
    "\n",
    "results_df = pd.DataFrame(results_dict).T\n",
    "results_df.sort_values('Crossval Score', ascending=False)"
   ]
  },
  {
   "cell_type": "markdown",
   "id": "e8dc1a2d-8004-4829-94bc-9359ee49a6ca",
   "metadata": {},
   "source": [
    "So the stacked model achieves a noticeably higher accuracy score on the training and test data!\n",
    "\n",
    "We are now done tuning our main models.  Later in this notebook, we explore the confusion matrices of these models and look at some of the posts that the Stacked Model misclassified.  But for now, we explore whether some of the assumptions that have held true for all of our modeling so far are in fact optimal.  We begin by trying to train a model on only the *titles* of posts rather than the titles plus body texts."
   ]
  },
  {
   "cell_type": "markdown",
   "id": "d7cc077b-2ea0-4c79-8125-1c4d4068e7e7",
   "metadata": {},
   "source": [
    "# Other Ideas 1: Training on Titles Only"
   ]
  },
  {
   "cell_type": "markdown",
   "id": "5f0ed7d3-806b-42be-93b3-071e84b2198d",
   "metadata": {},
   "source": [
    "For comparison, we'll train a Naive Bayes model on only the *titles* of the posts."
   ]
  },
  {
   "cell_type": "code",
   "execution_count": 78,
   "id": "44c7c8ac-b29e-401a-9563-1c9b2df4460b",
   "metadata": {},
   "outputs": [],
   "source": [
    "X_title = df['title']"
   ]
  },
  {
   "cell_type": "code",
   "execution_count": 79,
   "id": "194b1358-6a6c-4847-9da1-f2833e8d4ce6",
   "metadata": {},
   "outputs": [],
   "source": [
    "nb_title_pipe = Pipeline([\n",
    "    ('cvec', CountVectorizer(stop_words=stopwords.words('english'), preprocessor = url_preprocessor) ),\n",
    "    ('nb', MultinomialNB())\n",
    "])"
   ]
  },
  {
   "cell_type": "code",
   "execution_count": 80,
   "id": "05c4ff35-94a2-41d3-b550-cd66d0ae09ed",
   "metadata": {},
   "outputs": [],
   "source": [
    "nb_title_pipe_params = {\n",
    "    'cvec__max_features': list(range(500,5001,500)),\n",
    "    'cvec__min_df': [2, .1],\n",
    "    'cvec__max_df': [.95, .9],\n",
    "    'cvec__ngram_range': [(1, 1), (1, 2)]\n",
    "}"
   ]
  },
  {
   "cell_type": "code",
   "execution_count": 81,
   "id": "61310b88-ce93-4006-9156-3865c4984a35",
   "metadata": {},
   "outputs": [],
   "source": [
    "nb_title_gs = GridSearchCV(nb_title_pipe, param_grid = nb_title_pipe_params, n_jobs=-1)"
   ]
  },
  {
   "cell_type": "code",
   "execution_count": 82,
   "id": "23d30c71-9b19-4f40-b18d-30da30a7a756",
   "metadata": {},
   "outputs": [
    {
     "data": {
      "text/plain": [
       "GridSearchCV(estimator=Pipeline(steps=[('cvec',\n",
       "                                        CountVectorizer(preprocessor=<function url_preprocessor at 0x7f9cf8e40670>,\n",
       "                                                        stop_words=['i', 'me',\n",
       "                                                                    'my',\n",
       "                                                                    'myself',\n",
       "                                                                    'we', 'our',\n",
       "                                                                    'ours',\n",
       "                                                                    'ourselves',\n",
       "                                                                    'you',\n",
       "                                                                    \"you're\",\n",
       "                                                                    \"you've\",\n",
       "                                                                    \"you'll\",\n",
       "                                                                    \"you'd\",\n",
       "                                                                    'your',\n",
       "                                                                    'yours',\n",
       "                                                                    'yourself',\n",
       "                                                                    'yourselves',\n",
       "                                                                    'he', 'him',\n",
       "                                                                    'his',\n",
       "                                                                    'himself',\n",
       "                                                                    'she',\n",
       "                                                                    \"she's\",\n",
       "                                                                    'her',\n",
       "                                                                    'hers',\n",
       "                                                                    'herself',\n",
       "                                                                    'it',\n",
       "                                                                    \"it's\",\n",
       "                                                                    'its',\n",
       "                                                                    'itself', ...])),\n",
       "                                       ('nb', MultinomialNB())]),\n",
       "             n_jobs=-1,\n",
       "             param_grid={'cvec__max_df': [0.95, 0.9],\n",
       "                         'cvec__max_features': [500, 1000, 1500, 2000, 2500,\n",
       "                                                3000, 3500, 4000, 4500, 5000],\n",
       "                         'cvec__min_df': [2, 0.1],\n",
       "                         'cvec__ngram_range': [(1, 1), (1, 2)]})"
      ]
     },
     "execution_count": 82,
     "metadata": {},
     "output_type": "execute_result"
    }
   ],
   "source": [
    "nb_title_gs.fit(X_title, y)"
   ]
  },
  {
   "cell_type": "code",
   "execution_count": 83,
   "id": "fb1a21b1-abb4-4172-964c-52ba9f031a3a",
   "metadata": {},
   "outputs": [
    {
     "data": {
      "text/plain": [
       "{'cvec__max_df': 0.95,\n",
       " 'cvec__max_features': 1500,\n",
       " 'cvec__min_df': 2,\n",
       " 'cvec__ngram_range': (1, 1)}"
      ]
     },
     "execution_count": 83,
     "metadata": {},
     "output_type": "execute_result"
    }
   ],
   "source": [
    "#Examine best hyperparameters\n",
    "nb_title_gs.best_params_"
   ]
  },
  {
   "cell_type": "code",
   "execution_count": 84,
   "id": "00730e26-babd-46f5-b2e8-b7b57964edca",
   "metadata": {},
   "outputs": [
    {
     "data": {
      "text/plain": [
       "0.8468283766426243"
      ]
     },
     "execution_count": 84,
     "metadata": {},
     "output_type": "execute_result"
    }
   ],
   "source": [
    "#Cross-val score\n",
    "nb_title_gs.best_score_"
   ]
  },
  {
   "cell_type": "code",
   "execution_count": 85,
   "id": "bde04283-b7b4-4de0-bfe5-20933b8e428d",
   "metadata": {},
   "outputs": [
    {
     "data": {
      "text/plain": [
       "0.8642611683848798"
      ]
     },
     "execution_count": 85,
     "metadata": {},
     "output_type": "execute_result"
    }
   ],
   "source": [
    "#Test score\n",
    "X_test_title = val_df['title']\n",
    "nb_title_gs.score(X_test_title, y_test)"
   ]
  },
  {
   "cell_type": "markdown",
   "id": "4712f198-f725-4aaa-ad8c-57e14e8b3f71",
   "metadata": {},
   "source": [
    "These are pretty good crossval and test data accuracy scores for training on just the titles!  However, the scores are much better when we train the models on the titles *and* the body texts of posts."
   ]
  },
  {
   "cell_type": "markdown",
   "id": "c69fc29f-be40-403d-809b-406431f2df51",
   "metadata": {},
   "source": [
    "# Other Ideas 2: Including Word Counts"
   ]
  },
  {
   "cell_type": "markdown",
   "id": "81f972ba-bd98-4784-b8f4-7e00c7ae414d",
   "metadata": {},
   "source": [
    "Do our models perform better if we give them the title and body text word counts as features?"
   ]
  },
  {
   "cell_type": "code",
   "execution_count": 86,
   "id": "22ba0ca2-ed17-4e8b-870a-85acbbfee427",
   "metadata": {},
   "outputs": [
    {
     "data": {
      "text/html": [
       "<div>\n",
       "<style scoped>\n",
       "    .dataframe tbody tr th:only-of-type {\n",
       "        vertical-align: middle;\n",
       "    }\n",
       "\n",
       "    .dataframe tbody tr th {\n",
       "        vertical-align: top;\n",
       "    }\n",
       "\n",
       "    .dataframe thead th {\n",
       "        text-align: right;\n",
       "    }\n",
       "</style>\n",
       "<table border=\"1\" class=\"dataframe\">\n",
       "  <thead>\n",
       "    <tr style=\"text-align: right;\">\n",
       "      <th></th>\n",
       "      <th>post</th>\n",
       "      <th>title_words</th>\n",
       "      <th>text_words</th>\n",
       "    </tr>\n",
       "    <tr>\n",
       "      <th>id</th>\n",
       "      <th></th>\n",
       "      <th></th>\n",
       "      <th></th>\n",
       "    </tr>\n",
       "  </thead>\n",
       "  <tbody>\n",
       "    <tr>\n",
       "      <th>103osx2</th>\n",
       "      <td>halftime vs gross beat is there any audible di...</td>\n",
       "      <td>4</td>\n",
       "      <td>30</td>\n",
       "    </tr>\n",
       "    <tr>\n",
       "      <th>zoda66</th>\n",
       "      <td>First Composition, what do you think ? Hi. I'm...</td>\n",
       "      <td>8</td>\n",
       "      <td>68</td>\n",
       "    </tr>\n",
       "  </tbody>\n",
       "</table>\n",
       "</div>"
      ],
      "text/plain": [
       "                                                      post  title_words  \\\n",
       "id                                                                        \n",
       "103osx2  halftime vs gross beat is there any audible di...            4   \n",
       "zoda66   First Composition, what do you think ? Hi. I'm...            8   \n",
       "\n",
       "         text_words  \n",
       "id                   \n",
       "103osx2          30  \n",
       "zoda66           68  "
      ]
     },
     "execution_count": 86,
     "metadata": {},
     "output_type": "execute_result"
    }
   ],
   "source": [
    "X_words = df[['post','title_words','text_words']]\n",
    "X_test_words = val_df[['post','title_words','text_words']]\n",
    "X_words.head(2)"
   ]
  },
  {
   "cell_type": "markdown",
   "id": "141d9996-ab91-4e6c-9443-de95b3eb5c61",
   "metadata": {},
   "source": [
    "### Naive Bayes with Word Counts"
   ]
  },
  {
   "cell_type": "code",
   "execution_count": 87,
   "id": "700c615f-4e8f-4412-8aab-b9f40994c9b7",
   "metadata": {},
   "outputs": [],
   "source": [
    "#Count vectorize only the 'post' column\n",
    "counter = ColumnTransformer(\n",
    " transformers=[\n",
    "     ('cvec', CountVectorizer(stop_words=stopwords.words('english'), preprocessor = url_preprocessor),  'post'),\n",
    " ],\n",
    "    remainder='passthrough'\n",
    ")"
   ]
  },
  {
   "cell_type": "code",
   "execution_count": 88,
   "id": "cfbd28dd-95e3-456e-b585-abbd78183db2",
   "metadata": {},
   "outputs": [],
   "source": [
    "nb_words_pipe = Pipeline([\n",
    "    ('count', counter),\n",
    "    ('nb', MultinomialNB())\n",
    "])"
   ]
  },
  {
   "cell_type": "code",
   "execution_count": 89,
   "id": "69464ebc-7567-4f13-a1f3-9d4c0f67c573",
   "metadata": {},
   "outputs": [],
   "source": [
    "nb_words_pipe_params = {\n",
    "    'count__cvec__max_features': list(range(500,5001,500)),\n",
    "    'count__cvec__min_df': [2, .1],\n",
    "    'count__cvec__max_df': [.95, .9],\n",
    "    'count__cvec__ngram_range': [(1, 1), (1, 2)]\n",
    "}"
   ]
  },
  {
   "cell_type": "code",
   "execution_count": 90,
   "id": "915f6b5f-debe-47e0-a686-5150d6288f2e",
   "metadata": {},
   "outputs": [],
   "source": [
    "nb_words_gs = GridSearchCV(nb_words_pipe, param_grid = nb_words_pipe_params, n_jobs=-1)"
   ]
  },
  {
   "cell_type": "code",
   "execution_count": 91,
   "id": "7d9fe6fe-d33c-4ae1-8bc6-e358bc843eed",
   "metadata": {},
   "outputs": [
    {
     "data": {
      "text/plain": [
       "GridSearchCV(estimator=Pipeline(steps=[('count',\n",
       "                                        ColumnTransformer(remainder='passthrough',\n",
       "                                                          transformers=[('cvec',\n",
       "                                                                         CountVectorizer(preprocessor=<function url_preprocessor at 0x7f9cf8e40670>,\n",
       "                                                                                         stop_words=['i',\n",
       "                                                                                                     'me',\n",
       "                                                                                                     'my',\n",
       "                                                                                                     'myself',\n",
       "                                                                                                     'we',\n",
       "                                                                                                     'our',\n",
       "                                                                                                     'ours',\n",
       "                                                                                                     'ourselves',\n",
       "                                                                                                     'you',\n",
       "                                                                                                     \"you're\",\n",
       "                                                                                                     \"you've\",\n",
       "                                                                                                     \"you'll\",\n",
       "                                                                                                     \"you'd\",\n",
       "                                                                                                     'your',\n",
       "                                                                                                     'yours',\n",
       "                                                                                                     'yourself',\n",
       "                                                                                                     'yourselves',\n",
       "                                                                                                     'he',\n",
       "                                                                                                     'him',\n",
       "                                                                                                     'his',\n",
       "                                                                                                     'himself',\n",
       "                                                                                                     'she',\n",
       "                                                                                                     \"she's\",\n",
       "                                                                                                     'her',\n",
       "                                                                                                     'hers',\n",
       "                                                                                                     'herself',\n",
       "                                                                                                     'it',\n",
       "                                                                                                     \"it's\",\n",
       "                                                                                                     'its',\n",
       "                                                                                                     'itself', ...]),\n",
       "                                                                         'post')])),\n",
       "                                       ('nb', MultinomialNB())]),\n",
       "             n_jobs=-1,\n",
       "             param_grid={'count__cvec__max_df': [0.95, 0.9],\n",
       "                         'count__cvec__max_features': [500, 1000, 1500, 2000,\n",
       "                                                       2500, 3000, 3500, 4000,\n",
       "                                                       4500, 5000],\n",
       "                         'count__cvec__min_df': [2, 0.1],\n",
       "                         'count__cvec__ngram_range': [(1, 1), (1, 2)]})"
      ]
     },
     "execution_count": 91,
     "metadata": {},
     "output_type": "execute_result"
    }
   ],
   "source": [
    "nb_words_gs.fit(X_words, y)"
   ]
  },
  {
   "cell_type": "code",
   "execution_count": 92,
   "id": "1902098d-4698-4189-aaf3-cfa193828eac",
   "metadata": {},
   "outputs": [
    {
     "data": {
      "text/plain": [
       "{'count__cvec__max_df': 0.95,\n",
       " 'count__cvec__max_features': 5000,\n",
       " 'count__cvec__min_df': 2,\n",
       " 'count__cvec__ngram_range': (1, 2)}"
      ]
     },
     "execution_count": 92,
     "metadata": {},
     "output_type": "execute_result"
    }
   ],
   "source": [
    "#Examine best hyperparameters\n",
    "nb_words_gs.best_params_"
   ]
  },
  {
   "cell_type": "code",
   "execution_count": 93,
   "id": "7c66b02c-8e8e-47ab-a270-c96acab4c5bf",
   "metadata": {},
   "outputs": [
    {
     "data": {
      "text/plain": [
       "0.9259938082534663"
      ]
     },
     "execution_count": 93,
     "metadata": {},
     "output_type": "execute_result"
    }
   ],
   "source": [
    "#Cross-val score\n",
    "nb_words_gs.best_score_"
   ]
  },
  {
   "cell_type": "code",
   "execution_count": 94,
   "id": "3decf7a8-2368-400c-9687-a37886cee56b",
   "metadata": {},
   "outputs": [
    {
     "data": {
      "text/plain": [
       "0.9278350515463918"
      ]
     },
     "execution_count": 94,
     "metadata": {},
     "output_type": "execute_result"
    }
   ],
   "source": [
    "#Test score\n",
    "nb_words_gs.score(X_test_words, y_test)"
   ]
  },
  {
   "cell_type": "markdown",
   "id": "159421d4-5d88-4019-9178-bb8f1ad1c8c6",
   "metadata": {},
   "source": [
    "So the Naive Bayes model does not perform quite as well when we directly include word counts as it does when we do not.  Is the same true for the Random Forest model (our next-best performer overall)?"
   ]
  },
  {
   "cell_type": "markdown",
   "id": "7da9b1ae-e8b3-45db-a805-a4b81591c284",
   "metadata": {},
   "source": [
    "### Random Forest with Word Counts"
   ]
  },
  {
   "cell_type": "code",
   "execution_count": 95,
   "id": "2cc5d3e7-4aca-4230-b9bb-52e93e1a1f65",
   "metadata": {},
   "outputs": [],
   "source": [
    "rf_words_pipe = Pipeline([\n",
    "    ('count', counter),\n",
    "    ('rf', RandomForestClassifier(random_state=42))\n",
    "])"
   ]
  },
  {
   "cell_type": "code",
   "execution_count": 96,
   "id": "b3996f73-39c2-4a60-ab95-9bcb9586f33b",
   "metadata": {},
   "outputs": [],
   "source": [
    "#Use the same hyperparameters as the first Random Forest gridsearch we tried\n",
    "rf_words_pipe_params = {\n",
    "    'rf__n_estimators':[50,100,150],\n",
    "    'rf__max_depth':[None,5],\n",
    "    'rf__min_samples_split':[2,5,10],\n",
    "    'rf__ccp_alpha':[0,.01,.1],\n",
    "    \n",
    "    'count__cvec__max_features': list(range(1000,5001,1000)),\n",
    "    'count__cvec__min_df': [2,.01],\n",
    "}"
   ]
  },
  {
   "cell_type": "code",
   "execution_count": 97,
   "id": "def73586-3999-4e71-b900-dd6539f4b115",
   "metadata": {},
   "outputs": [],
   "source": [
    "rf_words_gs = GridSearchCV(rf_words_pipe, param_grid = rf_words_pipe_params, n_jobs=-1)"
   ]
  },
  {
   "cell_type": "code",
   "execution_count": 98,
   "id": "5b80c156-f9ca-4b6f-9db9-89072bb794ee",
   "metadata": {},
   "outputs": [
    {
     "data": {
      "text/plain": [
       "GridSearchCV(estimator=Pipeline(steps=[('count',\n",
       "                                        ColumnTransformer(remainder='passthrough',\n",
       "                                                          transformers=[('cvec',\n",
       "                                                                         CountVectorizer(preprocessor=<function url_preprocessor at 0x7f9cf8e40670>,\n",
       "                                                                                         stop_words=['i',\n",
       "                                                                                                     'me',\n",
       "                                                                                                     'my',\n",
       "                                                                                                     'myself',\n",
       "                                                                                                     'we',\n",
       "                                                                                                     'our',\n",
       "                                                                                                     'ours',\n",
       "                                                                                                     'ourselves',\n",
       "                                                                                                     'you',\n",
       "                                                                                                     \"you're\",\n",
       "                                                                                                     \"you've\",\n",
       "                                                                                                     \"you'll\",\n",
       "                                                                                                     \"you'd\",\n",
       "                                                                                                     'your',\n",
       "                                                                                                     'yours',\n",
       "                                                                                                     'yourself',\n",
       "                                                                                                     'yourselves',\n",
       "                                                                                                     'he',\n",
       "                                                                                                     'him',\n",
       "                                                                                                     'his',\n",
       "                                                                                                     'him...\n",
       "                                                                                                     \"she's\",\n",
       "                                                                                                     'her',\n",
       "                                                                                                     'hers',\n",
       "                                                                                                     'herself',\n",
       "                                                                                                     'it',\n",
       "                                                                                                     \"it's\",\n",
       "                                                                                                     'its',\n",
       "                                                                                                     'itself', ...]),\n",
       "                                                                         'post')])),\n",
       "                                       ('rf',\n",
       "                                        RandomForestClassifier(random_state=42))]),\n",
       "             n_jobs=-1,\n",
       "             param_grid={'count__cvec__max_features': [1000, 2000, 3000, 4000,\n",
       "                                                       5000],\n",
       "                         'count__cvec__min_df': [2, 0.01],\n",
       "                         'rf__ccp_alpha': [0, 0.01, 0.1],\n",
       "                         'rf__max_depth': [None, 5],\n",
       "                         'rf__min_samples_split': [2, 5, 10],\n",
       "                         'rf__n_estimators': [50, 100, 150]})"
      ]
     },
     "execution_count": 98,
     "metadata": {},
     "output_type": "execute_result"
    }
   ],
   "source": [
    "rf_words_gs.fit(X_words, y)"
   ]
  },
  {
   "cell_type": "code",
   "execution_count": 99,
   "id": "a41e7bda-24c0-451b-a30b-e16585f4ebc4",
   "metadata": {},
   "outputs": [
    {
     "data": {
      "text/plain": [
       "{'count__cvec__max_features': 5000,\n",
       " 'count__cvec__min_df': 2,\n",
       " 'rf__ccp_alpha': 0,\n",
       " 'rf__max_depth': None,\n",
       " 'rf__min_samples_split': 2,\n",
       " 'rf__n_estimators': 150}"
      ]
     },
     "execution_count": 99,
     "metadata": {},
     "output_type": "execute_result"
    }
   ],
   "source": [
    "rf_words_gs.best_params_"
   ]
  },
  {
   "cell_type": "code",
   "execution_count": 100,
   "id": "dbdacb2b-e96f-4030-a6b0-3a10ddd05670",
   "metadata": {
    "tags": []
   },
   "outputs": [
    {
     "data": {
      "text/plain": [
       "0.9213895201396436"
      ]
     },
     "execution_count": 100,
     "metadata": {},
     "output_type": "execute_result"
    }
   ],
   "source": [
    "rf_words_gs.best_score_"
   ]
  },
  {
   "cell_type": "code",
   "execution_count": 101,
   "id": "99200830-7692-49f8-ba14-6496882415bd",
   "metadata": {},
   "outputs": [
    {
     "data": {
      "text/plain": [
       "0.9243986254295533"
      ]
     },
     "execution_count": 101,
     "metadata": {},
     "output_type": "execute_result"
    }
   ],
   "source": [
    "rf_words_gs.score(X_test_words, y_test)"
   ]
  },
  {
   "cell_type": "markdown",
   "id": "e6bb14b7-b1ba-4a3e-affa-b2c0a2e4b748",
   "metadata": {},
   "source": [
    "So just like with the Naive Bayes model, adding in word counts did not improve the scores."
   ]
  },
  {
   "cell_type": "markdown",
   "id": "13c01057-e080-497e-83e9-dea710d672a8",
   "metadata": {},
   "source": [
    "# Other Ideas 3: No stopwords"
   ]
  },
  {
   "cell_type": "markdown",
   "id": "7ff2e4f6-8c5c-4565-a126-e11bd4d3ab06",
   "metadata": {},
   "source": [
    "Does *not removing stopwords* perhaps help performance?  How about if we allow bigrams?"
   ]
  },
  {
   "cell_type": "code",
   "execution_count": 102,
   "id": "67a7f4c6-ed7e-42d4-b771-dd9bb339260d",
   "metadata": {},
   "outputs": [],
   "source": [
    "nb_nostop_pipe = Pipeline([\n",
    "    ('cvec', CountVectorizer(preprocessor=url_preprocessor)),\n",
    "    ('nb', MultinomialNB())\n",
    "])"
   ]
  },
  {
   "cell_type": "code",
   "execution_count": 103,
   "id": "e0026154-b7e8-451d-a7a8-bffadc730a18",
   "metadata": {},
   "outputs": [],
   "source": [
    "nb_nostop_pipe_params = {\n",
    "    'cvec__max_features': list(range(1000,5001,1000)),\n",
    "    'cvec__min_df': [2],\n",
    "    'cvec__max_df': [.95, .9],\n",
    "    'cvec__ngram_range': [(1, 1), (1, 2)]\n",
    "}"
   ]
  },
  {
   "cell_type": "code",
   "execution_count": 104,
   "id": "9a34fe21-6592-4cc8-a433-579c6fa071a7",
   "metadata": {},
   "outputs": [],
   "source": [
    "nb_nostop_gs = GridSearchCV(nb_nostop_pipe, param_grid = nb_nostop_pipe_params, n_jobs=-1)"
   ]
  },
  {
   "cell_type": "code",
   "execution_count": 105,
   "id": "be30f24a-1289-4ad8-b4ae-0adf6a79a300",
   "metadata": {},
   "outputs": [
    {
     "data": {
      "text/plain": [
       "GridSearchCV(estimator=Pipeline(steps=[('cvec',\n",
       "                                        CountVectorizer(preprocessor=<function url_preprocessor at 0x7f9cf8e40670>)),\n",
       "                                       ('nb', MultinomialNB())]),\n",
       "             n_jobs=-1,\n",
       "             param_grid={'cvec__max_df': [0.95, 0.9],\n",
       "                         'cvec__max_features': [1000, 2000, 3000, 4000, 5000],\n",
       "                         'cvec__min_df': [2],\n",
       "                         'cvec__ngram_range': [(1, 1), (1, 2)]})"
      ]
     },
     "execution_count": 105,
     "metadata": {},
     "output_type": "execute_result"
    }
   ],
   "source": [
    "nb_nostop_gs.fit(X, y)"
   ]
  },
  {
   "cell_type": "code",
   "execution_count": 106,
   "id": "e75edd0b-e88d-4941-a96c-2ab76620ec92",
   "metadata": {},
   "outputs": [
    {
     "data": {
      "text/plain": [
       "{'cvec__max_df': 0.95,\n",
       " 'cvec__max_features': 4000,\n",
       " 'cvec__min_df': 2,\n",
       " 'cvec__ngram_range': (1, 1)}"
      ]
     },
     "execution_count": 106,
     "metadata": {},
     "output_type": "execute_result"
    }
   ],
   "source": [
    "#Examine best hyperparameters\n",
    "nb_nostop_gs.best_params_"
   ]
  },
  {
   "cell_type": "code",
   "execution_count": 107,
   "id": "4d75090d-a5ec-40fb-ba6c-f9e5579f2cec",
   "metadata": {},
   "outputs": [
    {
     "data": {
      "text/plain": [
       "0.9294289101867405"
      ]
     },
     "execution_count": 107,
     "metadata": {},
     "output_type": "execute_result"
    }
   ],
   "source": [
    "#Crossval score\n",
    "nb_nostop_gs.best_score_"
   ]
  },
  {
   "cell_type": "code",
   "execution_count": 108,
   "id": "8ef5b442-efc0-43cc-80fc-932f648b2e02",
   "metadata": {},
   "outputs": [
    {
     "data": {
      "text/plain": [
       "0.915807560137457"
      ]
     },
     "execution_count": 108,
     "metadata": {},
     "output_type": "execute_result"
    }
   ],
   "source": [
    "#Test score\n",
    "nb_nostop_gs.score(X_test, y_test)"
   ]
  },
  {
   "cell_type": "markdown",
   "id": "edb19dc6-c109-43db-8ed4-0d33056f9bbb",
   "metadata": {},
   "source": [
    "So *not removing stopwords* somewhat hurts performance, whether or not we allow bigrams."
   ]
  },
  {
   "cell_type": "markdown",
   "id": "16d516d9-485f-44d1-8c53-4d64b424c2a5",
   "metadata": {},
   "source": [
    "# Other ideas 4: No URL preprocessing"
   ]
  },
  {
   "cell_type": "markdown",
   "id": "c85efb95-669b-4467-b412-80c7d5c43d81",
   "metadata": {},
   "source": [
    "Does leaving URLs as they are, and not preprocessing them into strings like 'youtubelink', improve performance?"
   ]
  },
  {
   "cell_type": "code",
   "execution_count": 109,
   "id": "ac378a00-8f72-42b1-9d23-62665c51358f",
   "metadata": {},
   "outputs": [],
   "source": [
    "nb_nourls_pipe = Pipeline([\n",
    "    ('cvec', CountVectorizer(stop_words=stopwords.words('english'))),\n",
    "    ('nb', MultinomialNB())\n",
    "])"
   ]
  },
  {
   "cell_type": "code",
   "execution_count": 110,
   "id": "0aceda7a-964e-49b2-ac04-e6d679f9054b",
   "metadata": {},
   "outputs": [],
   "source": [
    "nb_nourls_pipe_params = {\n",
    "    'cvec__max_features': list(range(1000,5001,1000)),\n",
    "    'cvec__min_df': [2],\n",
    "    'cvec__max_df': [.95, .9],\n",
    "    'cvec__ngram_range': [(1, 1), (1, 2)]\n",
    "}"
   ]
  },
  {
   "cell_type": "code",
   "execution_count": 111,
   "id": "26ada483-2bec-4f1e-bc7e-8ac891dbf61f",
   "metadata": {},
   "outputs": [],
   "source": [
    "nb_nourls_gs = GridSearchCV(nb_nourls_pipe, param_grid = nb_nourls_pipe_params, n_jobs=-1)"
   ]
  },
  {
   "cell_type": "code",
   "execution_count": 112,
   "id": "0e915262-4360-413f-a530-a88e9a92f213",
   "metadata": {},
   "outputs": [
    {
     "data": {
      "text/plain": [
       "GridSearchCV(estimator=Pipeline(steps=[('cvec',\n",
       "                                        CountVectorizer(stop_words=['i', 'me',\n",
       "                                                                    'my',\n",
       "                                                                    'myself',\n",
       "                                                                    'we', 'our',\n",
       "                                                                    'ours',\n",
       "                                                                    'ourselves',\n",
       "                                                                    'you',\n",
       "                                                                    \"you're\",\n",
       "                                                                    \"you've\",\n",
       "                                                                    \"you'll\",\n",
       "                                                                    \"you'd\",\n",
       "                                                                    'your',\n",
       "                                                                    'yours',\n",
       "                                                                    'yourself',\n",
       "                                                                    'yourselves',\n",
       "                                                                    'he', 'him',\n",
       "                                                                    'his',\n",
       "                                                                    'himself',\n",
       "                                                                    'she',\n",
       "                                                                    \"she's\",\n",
       "                                                                    'her',\n",
       "                                                                    'hers',\n",
       "                                                                    'herself',\n",
       "                                                                    'it',\n",
       "                                                                    \"it's\",\n",
       "                                                                    'its',\n",
       "                                                                    'itself', ...])),\n",
       "                                       ('nb', MultinomialNB())]),\n",
       "             n_jobs=-1,\n",
       "             param_grid={'cvec__max_df': [0.95, 0.9],\n",
       "                         'cvec__max_features': [1000, 2000, 3000, 4000, 5000],\n",
       "                         'cvec__min_df': [2],\n",
       "                         'cvec__ngram_range': [(1, 1), (1, 2)]})"
      ]
     },
     "execution_count": 112,
     "metadata": {},
     "output_type": "execute_result"
    }
   ],
   "source": [
    "nb_nourls_gs.fit(X, y)"
   ]
  },
  {
   "cell_type": "code",
   "execution_count": 113,
   "id": "a0c8430d-4a9d-4871-ac6b-6cf35ff0df9a",
   "metadata": {},
   "outputs": [
    {
     "data": {
      "text/plain": [
       "{'cvec__max_df': 0.95,\n",
       " 'cvec__max_features': 4000,\n",
       " 'cvec__min_df': 2,\n",
       " 'cvec__ngram_range': (1, 1)}"
      ]
     },
     "execution_count": 113,
     "metadata": {},
     "output_type": "execute_result"
    }
   ],
   "source": [
    "#Examine best hyperparameters\n",
    "nb_nourls_gs.best_params_"
   ]
  },
  {
   "cell_type": "code",
   "execution_count": 114,
   "id": "bb302d60-51e4-4300-aae0-1288904cff3a",
   "metadata": {},
   "outputs": [
    {
     "data": {
      "text/plain": [
       "0.913378124691236"
      ]
     },
     "execution_count": 114,
     "metadata": {},
     "output_type": "execute_result"
    }
   ],
   "source": [
    "#Crossval score\n",
    "nb_nourls_gs.best_score_"
   ]
  },
  {
   "cell_type": "code",
   "execution_count": 115,
   "id": "b223a83f-e23e-4011-bd7a-3e6fac3a92b0",
   "metadata": {},
   "outputs": [
    {
     "data": {
      "text/plain": [
       "0.9054982817869416"
      ]
     },
     "execution_count": 115,
     "metadata": {},
     "output_type": "execute_result"
    }
   ],
   "source": [
    "#Test score\n",
    "nb_nourls_gs.score(X_test, y_test)"
   ]
  },
  {
   "cell_type": "markdown",
   "id": "059644fb-14ab-4580-94d3-b90f64fa59a8",
   "metadata": {},
   "source": [
    "This cross-val score is *more than 2% lower than the crossval score of our first Naive Bayes model*!  So including the URL preprocessing was definitely a big help to these models' performance.\n",
    "\n",
    "Since we found that none of the implicit assumptions of our best models were wrong (i.e., doing otherwise did not improve performance), we now return to our best models."
   ]
  },
  {
   "cell_type": "markdown",
   "id": "169bc433-901d-4795-b907-d4a8c98838eb",
   "metadata": {},
   "source": [
    "# Evaluating Performance with Confusion Matrices"
   ]
  },
  {
   "cell_type": "code",
   "execution_count": 116,
   "id": "1ad52228-7555-4ea2-b83e-c5b47a8c42f7",
   "metadata": {},
   "outputs": [
    {
     "data": {
      "text/html": [
       "<div>\n",
       "<style scoped>\n",
       "    .dataframe tbody tr th:only-of-type {\n",
       "        vertical-align: middle;\n",
       "    }\n",
       "\n",
       "    .dataframe tbody tr th {\n",
       "        vertical-align: top;\n",
       "    }\n",
       "\n",
       "    .dataframe thead th {\n",
       "        text-align: right;\n",
       "    }\n",
       "</style>\n",
       "<table border=\"1\" class=\"dataframe\">\n",
       "  <thead>\n",
       "    <tr style=\"text-align: right;\">\n",
       "      <th></th>\n",
       "      <th>Crossval Score</th>\n",
       "      <th>Test Data Score</th>\n",
       "    </tr>\n",
       "  </thead>\n",
       "  <tbody>\n",
       "    <tr>\n",
       "      <th>Stacked Model</th>\n",
       "      <td>0.940325</td>\n",
       "      <td>0.929553</td>\n",
       "    </tr>\n",
       "    <tr>\n",
       "      <th>Naive Bayes</th>\n",
       "      <td>0.936311</td>\n",
       "      <td>0.917526</td>\n",
       "    </tr>\n",
       "    <tr>\n",
       "      <th>Random Forest</th>\n",
       "      <td>0.922524</td>\n",
       "      <td>0.914089</td>\n",
       "    </tr>\n",
       "    <tr>\n",
       "      <th>Gradient Boost</th>\n",
       "      <td>0.913938</td>\n",
       "      <td>0.908935</td>\n",
       "    </tr>\n",
       "    <tr>\n",
       "      <th>Logistic Regression</th>\n",
       "      <td>0.911074</td>\n",
       "      <td>0.903780</td>\n",
       "    </tr>\n",
       "  </tbody>\n",
       "</table>\n",
       "</div>"
      ],
      "text/plain": [
       "                     Crossval Score  Test Data Score\n",
       "Stacked Model              0.940325         0.929553\n",
       "Naive Bayes                0.936311         0.917526\n",
       "Random Forest              0.922524         0.914089\n",
       "Gradient Boost             0.913938         0.908935\n",
       "Logistic Regression        0.911074         0.903780"
      ]
     },
     "execution_count": 116,
     "metadata": {},
     "output_type": "execute_result"
    }
   ],
   "source": [
    "#Look at the accuracy scores again\n",
    "results_df.sort_values('Crossval Score', ascending=False)"
   ]
  },
  {
   "cell_type": "markdown",
   "id": "7deb956c-ffc1-40d5-9c8d-4f424a74800f",
   "metadata": {},
   "source": [
    "So far, we have evaluated models' performance using cross-val accuracy and test data accuracy scores.  Recall from the above that our training data set contains 53.4% posts from the \"Producers\" subreddit and 46.6% posts from the \"Composers\" subreddit.  This means that the baseline accuracy is relatively low, so accuracy scores above 90% are rather good.  Furthermore, since there is no obvious reason why misclassifying a \"Producers\" post as a \"Composers\" post should be of more concern than misclassifying a \"Composers\" post as a \"Producers\" post (and vice-versa), accuracy is a good metric to use to evaluate the models.  \n",
    "\n",
    "Scores such as *sensitivity* and *specificity* would have little meaning here, as there is no obvious \"positive\" or \"negative\" class.  Nonetheless, it may be useful to examine the confusion matrix to see how the best models classified the posts."
   ]
  },
  {
   "cell_type": "code",
   "execution_count": 117,
   "id": "9d5b2716-1e1d-4961-89e3-18887ba005b0",
   "metadata": {},
   "outputs": [
    {
     "data": {
      "image/png": "[encoded data removed]",
      "text/plain": [
       "<Figure size 640x480 with 2 Axes>"
      ]
     },
     "metadata": {},
     "output_type": "display_data"
    }
   ],
   "source": [
    "est = 'nb_gs1'\n",
    "ConfusionMatrixDisplay.from_estimator(locals()[est], X_test, y_test);\n",
    "plt.title(f'{names_dict[est]} Confusion Matrix');\n",
    "plt.tight_layout();\n",
    "plt.savefig(f'../images/{names_dict[est]}_Confusion_Matrix.png')"
   ]
  },
  {
   "cell_type": "code",
   "execution_count": 118,
   "id": "d47d1e46-7a2b-4e8b-a76e-bb0fdc6846ff",
   "metadata": {},
   "outputs": [
    {
     "data": {
      "image/png": "[encoded data removed]",
      "text/plain": [
       "<Figure size 640x480 with 2 Axes>"
      ]
     },
     "metadata": {},
     "output_type": "display_data"
    }
   ],
   "source": [
    "est = 'rf_gs1'\n",
    "ConfusionMatrixDisplay.from_estimator(locals()[est], X_test, y_test);\n",
    "plt.title(f'{names_dict[est]} Confusion Matrix');\n",
    "plt.tight_layout();\n",
    "plt.savefig(f'../images/{names_dict[est]}_Confusion_Matrix.png')"
   ]
  },
  {
   "cell_type": "code",
   "execution_count": 119,
   "id": "d12260ad-321f-4ea8-b698-598f8239087c",
   "metadata": {},
   "outputs": [
    {
     "data": {
      "image/png": "[encoded data removed]",
      "text/plain": [
       "<Figure size 640x480 with 2 Axes>"
      ]
     },
     "metadata": {},
     "output_type": "display_data"
    }
   ],
   "source": [
    "est = 'lr_gs1'\n",
    "ConfusionMatrixDisplay.from_estimator(locals()[est], X_test, y_test);\n",
    "plt.title(f'{names_dict[est]} Confusion Matrix');\n",
    "plt.tight_layout();\n",
    "plt.savefig(f'../images/{names_dict[est]}_Confusion_Matrix.png')"
   ]
  },
  {
   "cell_type": "code",
   "execution_count": 120,
   "id": "e194e639-8795-416f-ac42-696221a9fd82",
   "metadata": {},
   "outputs": [
    {
     "data": {
      "image/png": "[encoded data removed]",
      "text/plain": [
       "<Figure size 640x480 with 2 Axes>"
      ]
     },
     "metadata": {},
     "output_type": "display_data"
    }
   ],
   "source": [
    "est = 'boost_gs1'\n",
    "ConfusionMatrixDisplay.from_estimator(locals()[est], X_test, y_test);\n",
    "plt.title(f'{names_dict[est]} Confusion Matrix');\n",
    "plt.tight_layout();\n",
    "plt.savefig(f'../images/{names_dict[est]}_Confusion_Matrix.png')"
   ]
  },
  {
   "cell_type": "code",
   "execution_count": 131,
   "id": "837b4376-c5c4-451a-8f5f-663738fd29e6",
   "metadata": {},
   "outputs": [
    {
     "data": {
      "image/png": "[encoded data removed]",
      "text/plain": [
       "<Figure size 640x480 with 2 Axes>"
      ]
     },
     "metadata": {},
     "output_type": "display_data"
    }
   ],
   "source": [
    "est = 'stacked_model'\n",
    "ConfusionMatrixDisplay.from_estimator(stacked_model, X_test, y_test);\n",
    "plt.title(f'Stacked Model Confusion Matrix');\n",
    "plt.tight_layout();\n",
    "plt.savefig(f'../images/Stacked Model_Confusion_Matrix.png')"
   ]
  },
  {
   "cell_type": "markdown",
   "id": "d6868cdb-ddec-406d-b3c3-318b0ae754b9",
   "metadata": {},
   "source": [
    "As we can see from the above, the Naive Bayes model has the same number of misclassifications of both types.  However, all three of the other baseline models, as well as the stacked model, have a much larger number of misclassifications of the form \"The post truly came from Composers, but I said it came from Producers.\"  That is, all of the models other than Naive Bayes have a slight bias towars the (slight) majority class.\n",
    "\n",
    "As we can also see, the stacked model has the highest accuracy: it only misclassifies 40 of the 582 test data posts."
   ]
  },
  {
   "cell_type": "markdown",
   "id": "761b2e95-05fe-4a4b-a85e-1a33bcd01e15",
   "metadata": {},
   "source": [
    "# Examining misclassified posts"
   ]
  },
  {
   "cell_type": "markdown",
   "id": "ddec90f5-9dce-4f07-9720-216de824fb78",
   "metadata": {},
   "source": [
    "Here, we'll examine some of the 40 test data posts that were misclassified by our best model (the Stacked Model)."
   ]
  },
  {
   "cell_type": "code",
   "execution_count": 132,
   "id": "c278e340-9233-4e07-b32c-c844a2522f49",
   "metadata": {},
   "outputs": [
    {
     "data": {
      "text/html": [
       "<div>\n",
       "<style scoped>\n",
       "    .dataframe tbody tr th:only-of-type {\n",
       "        vertical-align: middle;\n",
       "    }\n",
       "\n",
       "    .dataframe tbody tr th {\n",
       "        vertical-align: top;\n",
       "    }\n",
       "\n",
       "    .dataframe thead th {\n",
       "        text-align: right;\n",
       "    }\n",
       "</style>\n",
       "<table border=\"1\" class=\"dataframe\">\n",
       "  <thead>\n",
       "    <tr style=\"text-align: right;\">\n",
       "      <th></th>\n",
       "      <th>title</th>\n",
       "      <th>text</th>\n",
       "      <th>subreddit</th>\n",
       "      <th>pred_comps_prob</th>\n",
       "    </tr>\n",
       "    <tr>\n",
       "      <th>id</th>\n",
       "      <th></th>\n",
       "      <th></th>\n",
       "      <th></th>\n",
       "      <th></th>\n",
       "    </tr>\n",
       "  </thead>\n",
       "  <tbody>\n",
       "    <tr>\n",
       "      <th>zyymug</th>\n",
       "      <td>*FREE* Couch Kit Vol. 1 - Tight drums by Orion...</td>\n",
       "      <td>[Couch Kit Vol. 1](https://www.dropbox.com/s/...</td>\n",
       "      <td>Producers</td>\n",
       "      <td>0.016943</td>\n",
       "    </tr>\n",
       "    <tr>\n",
       "      <th>zzrp0x</th>\n",
       "      <td>How would you make a sound appear to be coming...</td>\n",
       "      <td></td>\n",
       "      <td>Producers</td>\n",
       "      <td>0.144330</td>\n",
       "    </tr>\n",
       "  </tbody>\n",
       "</table>\n",
       "</div>"
      ],
      "text/plain": [
       "                                                    title  \\\n",
       "id                                                          \n",
       "zyymug  *FREE* Couch Kit Vol. 1 - Tight drums by Orion...   \n",
       "zzrp0x  How would you make a sound appear to be coming...   \n",
       "\n",
       "                                                     text  subreddit  \\\n",
       "id                                                                     \n",
       "zyymug   [Couch Kit Vol. 1](https://www.dropbox.com/s/...  Producers   \n",
       "zzrp0x                                                     Producers   \n",
       "\n",
       "        pred_comps_prob  \n",
       "id                       \n",
       "zyymug         0.016943  \n",
       "zzrp0x         0.144330  "
      ]
     },
     "execution_count": 132,
     "metadata": {},
     "output_type": "execute_result"
    }
   ],
   "source": [
    "#Get the predicted probabilities\n",
    "probs = stacked_model.predict_proba(X_test)[:,0]\n",
    "test_df = val_df[['title','text','subreddit']]\n",
    "test_df['pred_comps_prob'] = probs\n",
    "test_df.head(2)"
   ]
  },
  {
   "cell_type": "markdown",
   "id": "77f24b75-6382-4066-ba92-95c28b90ad1c",
   "metadata": {},
   "source": [
    "## Misclassified \"Producers\" Posts"
   ]
  },
  {
   "cell_type": "code",
   "execution_count": 133,
   "id": "bf45a5d2-ee3d-413d-a446-7fc1f83ed662",
   "metadata": {},
   "outputs": [
    {
     "name": "stdout",
     "output_type": "stream",
     "text": [
      "Number of Producers posts mislabeled as Composers posts: 15\n"
     ]
    },
    {
     "data": {
      "text/html": [
       "<div>\n",
       "<style scoped>\n",
       "    .dataframe tbody tr th:only-of-type {\n",
       "        vertical-align: middle;\n",
       "    }\n",
       "\n",
       "    .dataframe tbody tr th {\n",
       "        vertical-align: top;\n",
       "    }\n",
       "\n",
       "    .dataframe thead th {\n",
       "        text-align: right;\n",
       "    }\n",
       "</style>\n",
       "<table border=\"1\" class=\"dataframe\">\n",
       "  <thead>\n",
       "    <tr style=\"text-align: right;\">\n",
       "      <th></th>\n",
       "      <th>title</th>\n",
       "      <th>text</th>\n",
       "      <th>subreddit</th>\n",
       "      <th>pred_comps_prob</th>\n",
       "    </tr>\n",
       "    <tr>\n",
       "      <th>id</th>\n",
       "      <th></th>\n",
       "      <th></th>\n",
       "      <th></th>\n",
       "      <th></th>\n",
       "    </tr>\n",
       "  </thead>\n",
       "  <tbody>\n",
       "    <tr>\n",
       "      <th>10cawje</th>\n",
       "      <td>Made this video for fellow people who need a b...</td>\n",
       "      <td>[https://youtu.be/1P6ih1ko-UY](https://youtu.b...</td>\n",
       "      <td>Producers</td>\n",
       "      <td>0.975590</td>\n",
       "    </tr>\n",
       "    <tr>\n",
       "      <th>zq43en</th>\n",
       "      <td>Are there any AI programs or features that can...</td>\n",
       "      <td>For example, it can just let you hear Freddy M...</td>\n",
       "      <td>Producers</td>\n",
       "      <td>0.935145</td>\n",
       "    </tr>\n",
       "    <tr>\n",
       "      <th>1066b9g</th>\n",
       "      <td>Is this song plagiarized?</td>\n",
       "      <td>First of all, I apologize if this is not the r...</td>\n",
       "      <td>Producers</td>\n",
       "      <td>0.928463</td>\n",
       "    </tr>\n",
       "    <tr>\n",
       "      <th>zly37k</th>\n",
       "      <td>(Free music web resource) MusicWall is blowmin...</td>\n",
       "      <td>Hi there :) \\n\\nI just don't need LinkTree any...</td>\n",
       "      <td>Producers</td>\n",
       "      <td>0.922905</td>\n",
       "    </tr>\n",
       "    <tr>\n",
       "      <th>1047d5g</th>\n",
       "      <td>Quentin Miller Only Got 30K for Writing 6 Drak...</td>\n",
       "      <td>I feel for him in this interview.  But it had ...</td>\n",
       "      <td>Producers</td>\n",
       "      <td>0.914286</td>\n",
       "    </tr>\n",
       "    <tr>\n",
       "      <th>10cyia0</th>\n",
       "      <td>How do you politely decline writing sessions y...</td>\n",
       "      <td>I’m in LA and it’s super common for people to ...</td>\n",
       "      <td>Producers</td>\n",
       "      <td>0.890199</td>\n",
       "    </tr>\n",
       "    <tr>\n",
       "      <th>104hvfu</th>\n",
       "      <td>I don’t feel very creative or “musical” lately</td>\n",
       "      <td>I quit drinking alcohol almost a month ago and...</td>\n",
       "      <td>Producers</td>\n",
       "      <td>0.864936</td>\n",
       "    </tr>\n",
       "    <tr>\n",
       "      <th>zxezg2</th>\n",
       "      <td>How to deal with meticulous perfectionism in m...</td>\n",
       "      <td>I’m a jazz/instrumental composer (and attempte...</td>\n",
       "      <td>Producers</td>\n",
       "      <td>0.836945</td>\n",
       "    </tr>\n",
       "    <tr>\n",
       "      <th>zr0kp9</th>\n",
       "      <td>What to expect during a video chat with A&amp;R fr...</td>\n",
       "      <td>This week I submitted my track to a handful of...</td>\n",
       "      <td>Producers</td>\n",
       "      <td>0.737931</td>\n",
       "    </tr>\n",
       "    <tr>\n",
       "      <th>zxuj53</th>\n",
       "      <td>What is the name of this organ and if there is...</td>\n",
       "      <td>Hello, browsing youtube I found this instrumen...</td>\n",
       "      <td>Producers</td>\n",
       "      <td>0.629524</td>\n",
       "    </tr>\n",
       "    <tr>\n",
       "      <th>zvcbk0</th>\n",
       "      <td>You can play C F and G notes over many chords ...</td>\n",
       "      <td>For anybody that was a part of the “which scal...</td>\n",
       "      <td>Producers</td>\n",
       "      <td>0.611003</td>\n",
       "    </tr>\n",
       "    <tr>\n",
       "      <th>zx5j15</th>\n",
       "      <td>Trying to find lost video - help</td>\n",
       "      <td>I'm looking for an Instagram video of a girl s...</td>\n",
       "      <td>Producers</td>\n",
       "      <td>0.574059</td>\n",
       "    </tr>\n",
       "    <tr>\n",
       "      <th>10460uy</th>\n",
       "      <td>Seeking Feedback from Music Producers: What Ar...</td>\n",
       "      <td>Hello everyone,\\n\\nI'm interested in learning ...</td>\n",
       "      <td>Producers</td>\n",
       "      <td>0.562812</td>\n",
       "    </tr>\n",
       "    <tr>\n",
       "      <th>zuga7o</th>\n",
       "      <td>What is Tone Ep. 29 Jamming on the eve</td>\n",
       "      <td>[https://youtu.be/-owFk7ux044](https://youtu.b...</td>\n",
       "      <td>Producers</td>\n",
       "      <td>0.549403</td>\n",
       "    </tr>\n",
       "    <tr>\n",
       "      <th>10233qf</th>\n",
       "      <td>Got a job offer, don't know how much money to ...</td>\n",
       "      <td>Hey guys! I am currently studying electronic m...</td>\n",
       "      <td>Producers</td>\n",
       "      <td>0.508338</td>\n",
       "    </tr>\n",
       "  </tbody>\n",
       "</table>\n",
       "</div>"
      ],
      "text/plain": [
       "                                                     title  \\\n",
       "id                                                           \n",
       "10cawje  Made this video for fellow people who need a b...   \n",
       "zq43en   Are there any AI programs or features that can...   \n",
       "1066b9g                          Is this song plagiarized?   \n",
       "zly37k   (Free music web resource) MusicWall is blowmin...   \n",
       "1047d5g  Quentin Miller Only Got 30K for Writing 6 Drak...   \n",
       "10cyia0  How do you politely decline writing sessions y...   \n",
       "104hvfu     I don’t feel very creative or “musical” lately   \n",
       "zxezg2   How to deal with meticulous perfectionism in m...   \n",
       "zr0kp9   What to expect during a video chat with A&R fr...   \n",
       "zxuj53   What is the name of this organ and if there is...   \n",
       "zvcbk0   You can play C F and G notes over many chords ...   \n",
       "zx5j15                    Trying to find lost video - help   \n",
       "10460uy  Seeking Feedback from Music Producers: What Ar...   \n",
       "zuga7o              What is Tone Ep. 29 Jamming on the eve   \n",
       "10233qf  Got a job offer, don't know how much money to ...   \n",
       "\n",
       "                                                      text  subreddit  \\\n",
       "id                                                                      \n",
       "10cawje  [https://youtu.be/1P6ih1ko-UY](https://youtu.b...  Producers   \n",
       "zq43en   For example, it can just let you hear Freddy M...  Producers   \n",
       "1066b9g  First of all, I apologize if this is not the r...  Producers   \n",
       "zly37k   Hi there :) \\n\\nI just don't need LinkTree any...  Producers   \n",
       "1047d5g  I feel for him in this interview.  But it had ...  Producers   \n",
       "10cyia0  I’m in LA and it’s super common for people to ...  Producers   \n",
       "104hvfu  I quit drinking alcohol almost a month ago and...  Producers   \n",
       "zxezg2   I’m a jazz/instrumental composer (and attempte...  Producers   \n",
       "zr0kp9   This week I submitted my track to a handful of...  Producers   \n",
       "zxuj53   Hello, browsing youtube I found this instrumen...  Producers   \n",
       "zvcbk0   For anybody that was a part of the “which scal...  Producers   \n",
       "zx5j15   I'm looking for an Instagram video of a girl s...  Producers   \n",
       "10460uy  Hello everyone,\\n\\nI'm interested in learning ...  Producers   \n",
       "zuga7o   [https://youtu.be/-owFk7ux044](https://youtu.b...  Producers   \n",
       "10233qf  Hey guys! I am currently studying electronic m...  Producers   \n",
       "\n",
       "         pred_comps_prob  \n",
       "id                        \n",
       "10cawje         0.975590  \n",
       "zq43en          0.935145  \n",
       "1066b9g         0.928463  \n",
       "zly37k          0.922905  \n",
       "1047d5g         0.914286  \n",
       "10cyia0         0.890199  \n",
       "104hvfu         0.864936  \n",
       "zxezg2          0.836945  \n",
       "zr0kp9          0.737931  \n",
       "zxuj53          0.629524  \n",
       "zvcbk0          0.611003  \n",
       "zx5j15          0.574059  \n",
       "10460uy         0.562812  \n",
       "zuga7o          0.549403  \n",
       "10233qf         0.508338  "
      ]
     },
     "execution_count": 133,
     "metadata": {},
     "output_type": "execute_result"
    }
   ],
   "source": [
    "#Find the Producers posts that were mislabeled\n",
    "mislabeled_prods = test_df[ (test_df['subreddit']=='Producers') & (test_df['pred_comps_prob']>.5)]\n",
    "print(f\"Number of Producers posts mislabeled as Composers posts: {len(mislabeled_prods)}\")\n",
    "mislabeled_prods.sort_values('pred_comps_prob', ascending=False)"
   ]
  },
  {
   "cell_type": "markdown",
   "id": "ae0d7147-14ee-408d-ae37-9404f136cf78",
   "metadata": {},
   "source": [
    "These posts are all the ones that the Stacked Model classified as \"Composers\" even though they came from the Producers subreddit.  Those posts at the top of this list are the ones that the Stacked Model was most certain were \"Composers\" - i.e., those \"Producers\" posts that the model had the most trouble correctly classifying.  As we can see, many of their titles look somewhat generic, meaning it may also have been difficult for a human to correctly guess that these posts came from the \"Composers\" subreddit.\n",
    "\n",
    "Let's take a more detailed look at the top post:"
   ]
  },
  {
   "cell_type": "code",
   "execution_count": 134,
   "id": "2ffb15ba-cf20-4a64-886a-a32896a98911",
   "metadata": {},
   "outputs": [
    {
     "name": "stdout",
     "output_type": "stream",
     "text": [
      "Made this video for fellow people who need a break from the stress ;0 enjoy\n",
      "====================================================================================================\n",
      "[https://youtu.be/1P6ih1ko-UY](https://youtu.be/1P6ih1ko-UY)\n"
     ]
    }
   ],
   "source": [
    "bot_index_list = list(mislabeled_prods.sort_values('pred_comps_prob', ascending=False).index)\n",
    "bot_index = bot_index_list[0]\n",
    "print(mislabeled_prods['title'][bot_index])\n",
    "print('='*100)\n",
    "print(mislabeled_prods['text'][bot_index])"
   ]
  },
  {
   "cell_type": "markdown",
   "id": "17a2be89-454e-4ec2-9ad7-30c3dc1d568f",
   "metadata": {},
   "source": [
    "Even after watching the video (which our model certainly can't do), it's hard to guess which subreddit this post came from!  Let's try the second-to-top post:"
   ]
  },
  {
   "cell_type": "code",
   "execution_count": 135,
   "id": "6b6e584a-8420-4aa1-b4f9-bd54b9b90926",
   "metadata": {},
   "outputs": [
    {
     "name": "stdout",
     "output_type": "stream",
     "text": [
      "Are there any AI programs or features that can take any mp3 recording of someone else's composition, for example, Bohemian Rhapsody by Queen and break it down into it's separate individual instrumentation?\n",
      "====================================================================================================\n",
      "For example, it can just let you hear Freddy Mercury's voice on it's own and cancels out all the other instruments/voices?\n"
     ]
    }
   ],
   "source": [
    "bot_index = bot_index_list[1]\n",
    "print(mislabeled_prods['title'][bot_index])\n",
    "print('='*100)\n",
    "print(mislabeled_prods['text'][bot_index])"
   ]
  },
  {
   "cell_type": "markdown",
   "id": "c875cbcd-8089-4eb3-b88d-2105c774b3a0",
   "metadata": {},
   "source": [
    "It seems pretty clear to a human that this post came from the \"Producers\" subreddit.  However, the word \"composition\" in the title is probably throwing the model off."
   ]
  },
  {
   "cell_type": "markdown",
   "id": "04b562a7-ea7a-4074-8bd7-ca13b39cb34d",
   "metadata": {},
   "source": [
    "## Misclassified \"Composers\" Posts"
   ]
  },
  {
   "cell_type": "code",
   "execution_count": 136,
   "id": "4140088e-7191-46db-b572-8a094aad8652",
   "metadata": {},
   "outputs": [
    {
     "name": "stdout",
     "output_type": "stream",
     "text": [
      "Number of Composers posts mislabeled as Producers posts: 26\n"
     ]
    },
    {
     "data": {
      "text/html": [
       "<div>\n",
       "<style scoped>\n",
       "    .dataframe tbody tr th:only-of-type {\n",
       "        vertical-align: middle;\n",
       "    }\n",
       "\n",
       "    .dataframe tbody tr th {\n",
       "        vertical-align: top;\n",
       "    }\n",
       "\n",
       "    .dataframe thead th {\n",
       "        text-align: right;\n",
       "    }\n",
       "</style>\n",
       "<table border=\"1\" class=\"dataframe\">\n",
       "  <thead>\n",
       "    <tr style=\"text-align: right;\">\n",
       "      <th></th>\n",
       "      <th>title</th>\n",
       "      <th>text</th>\n",
       "      <th>subreddit</th>\n",
       "      <th>pred_comps_prob</th>\n",
       "    </tr>\n",
       "    <tr>\n",
       "      <th>id</th>\n",
       "      <th></th>\n",
       "      <th></th>\n",
       "      <th></th>\n",
       "      <th></th>\n",
       "    </tr>\n",
       "  </thead>\n",
       "  <tbody>\n",
       "    <tr>\n",
       "      <th>1021772</th>\n",
       "      <td>Sound effect of a specific instrument</td>\n",
       "      <td>What is the instrument that creates the effect...</td>\n",
       "      <td>Composers</td>\n",
       "      <td>0.021840</td>\n",
       "    </tr>\n",
       "    <tr>\n",
       "      <th>yw4s88</th>\n",
       "      <td>Question about Metropolis Ark 1 choirs</td>\n",
       "      <td>If anyone here has used Metropolis Ark 1, you'...</td>\n",
       "      <td>Composers</td>\n",
       "      <td>0.030536</td>\n",
       "    </tr>\n",
       "    <tr>\n",
       "      <th>z8rwb0</th>\n",
       "      <td>Does anybody know a realistic orchestral sound...</td>\n",
       "      <td>I'm making a song in fl studio, and the orches...</td>\n",
       "      <td>Composers</td>\n",
       "      <td>0.036676</td>\n",
       "    </tr>\n",
       "    <tr>\n",
       "      <th>ynp6m5</th>\n",
       "      <td>Question regarding a progression</td>\n",
       "      <td>I am tryna make a song where the intro is an A...</td>\n",
       "      <td>Composers</td>\n",
       "      <td>0.037253</td>\n",
       "    </tr>\n",
       "    <tr>\n",
       "      <th>z8w2ei</th>\n",
       "      <td>What are the best orchestral strings sf2 files?</td>\n",
       "      <td>I was making a song in fl studio, and most of ...</td>\n",
       "      <td>Composers</td>\n",
       "      <td>0.037594</td>\n",
       "    </tr>\n",
       "    <tr>\n",
       "      <th>zkxgc6</th>\n",
       "      <td>Installing EastWest sounds</td>\n",
       "      <td>Just downloaded my first EW sound library and ...</td>\n",
       "      <td>Composers</td>\n",
       "      <td>0.037857</td>\n",
       "    </tr>\n",
       "    <tr>\n",
       "      <th>xn3q2u</th>\n",
       "      <td>Choral MIDI with lyrics</td>\n",
       "      <td>I would love to have any software/site that ca...</td>\n",
       "      <td>Composers</td>\n",
       "      <td>0.038988</td>\n",
       "    </tr>\n",
       "    <tr>\n",
       "      <th>yy4en5</th>\n",
       "      <td>Could this be a good tool to manage music proj...</td>\n",
       "      <td>Hi, I've been thinking about developing a spec...</td>\n",
       "      <td>Composers</td>\n",
       "      <td>0.044179</td>\n",
       "    </tr>\n",
       "    <tr>\n",
       "      <th>z0va9x</th>\n",
       "      <td>Getting started with a DAW.</td>\n",
       "      <td>Hello everyone, for the past 2 years I've been...</td>\n",
       "      <td>Composers</td>\n",
       "      <td>0.058151</td>\n",
       "    </tr>\n",
       "    <tr>\n",
       "      <th>z7qokm</th>\n",
       "      <td>Creative engineer wanted for Alien like music</td>\n",
       "      <td>Looking to work with an artist to make some sa...</td>\n",
       "      <td>Composers</td>\n",
       "      <td>0.072556</td>\n",
       "    </tr>\n",
       "    <tr>\n",
       "      <th>zlnyzu</th>\n",
       "      <td>best Bagpipes vst/library?</td>\n",
       "      <td>Can't find anything good out there that isn't ...</td>\n",
       "      <td>Composers</td>\n",
       "      <td>0.074721</td>\n",
       "    </tr>\n",
       "    <tr>\n",
       "      <th>z0el6a</th>\n",
       "      <td>Getting started producing</td>\n",
       "      <td>I'm currently a senior in undergrad double maj...</td>\n",
       "      <td>Composers</td>\n",
       "      <td>0.078678</td>\n",
       "    </tr>\n",
       "    <tr>\n",
       "      <th>yx6qfy</th>\n",
       "      <td>Does it sound good?</td>\n",
       "      <td>I have been tryna make some stuff on my own us...</td>\n",
       "      <td>Composers</td>\n",
       "      <td>0.124945</td>\n",
       "    </tr>\n",
       "    <tr>\n",
       "      <th>yrvpr3</th>\n",
       "      <td>Looking for an orchestral chimes VST/sound lib...</td>\n",
       "      <td>[This is the instrument](https://youtu.be/nVLH...</td>\n",
       "      <td>Composers</td>\n",
       "      <td>0.136331</td>\n",
       "    </tr>\n",
       "    <tr>\n",
       "      <th>zg9u6c</th>\n",
       "      <td>How do composers benefit from having many inst...</td>\n",
       "      <td>I see composers with lots of instruments in th...</td>\n",
       "      <td>Composers</td>\n",
       "      <td>0.163609</td>\n",
       "    </tr>\n",
       "    <tr>\n",
       "      <th>yz0573</th>\n",
       "      <td>How to mark tempos in 7/8</td>\n",
       "      <td>I’m wondering what symbol I’d use to mark my t...</td>\n",
       "      <td>Composers</td>\n",
       "      <td>0.167338</td>\n",
       "    </tr>\n",
       "    <tr>\n",
       "      <th>zb7u95</th>\n",
       "      <td>Need help with theory</td>\n",
       "      <td>Long question short: How do I make sure a song...</td>\n",
       "      <td>Composers</td>\n",
       "      <td>0.168949</td>\n",
       "    </tr>\n",
       "    <tr>\n",
       "      <th>xs59yn</th>\n",
       "      <td>Catalog template</td>\n",
       "      <td>Can anyone recommend a spreadsheet template fo...</td>\n",
       "      <td>Composers</td>\n",
       "      <td>0.173656</td>\n",
       "    </tr>\n",
       "    <tr>\n",
       "      <th>yo2frp</th>\n",
       "      <td>Does anyone use PreSonus Notation 6? I'm havin...</td>\n",
       "      <td>Edit: It's called Notion, not Notation. Sorry....</td>\n",
       "      <td>Composers</td>\n",
       "      <td>0.212722</td>\n",
       "    </tr>\n",
       "    <tr>\n",
       "      <th>xqnso4</th>\n",
       "      <td>Guys, I'm a producer and recently bought my fi...</td>\n",
       "      <td>Okay, I know some basic music theory, I know h...</td>\n",
       "      <td>Composers</td>\n",
       "      <td>0.227307</td>\n",
       "    </tr>\n",
       "    <tr>\n",
       "      <th>zo8j4z</th>\n",
       "      <td>Cities with Great Music Communities</td>\n",
       "      <td>Does anyone know cities that have a plethora o...</td>\n",
       "      <td>Composers</td>\n",
       "      <td>0.229166</td>\n",
       "    </tr>\n",
       "    <tr>\n",
       "      <th>xwpdmh</th>\n",
       "      <td>Was anybody else an iCompositions member?</td>\n",
       "      <td>That website was really wonderful. Much better...</td>\n",
       "      <td>Composers</td>\n",
       "      <td>0.230535</td>\n",
       "    </tr>\n",
       "    <tr>\n",
       "      <th>yt5a64</th>\n",
       "      <td>a question abt contrasting material</td>\n",
       "      <td>Are they always cohesive? Should they be cohes...</td>\n",
       "      <td>Composers</td>\n",
       "      <td>0.294691</td>\n",
       "    </tr>\n",
       "    <tr>\n",
       "      <th>zu5ytm</th>\n",
       "      <td>Komplete 14 Collector's Edition as a Comprehen...</td>\n",
       "      <td>How good is the orchestra when considering al...</td>\n",
       "      <td>Composers</td>\n",
       "      <td>0.321056</td>\n",
       "    </tr>\n",
       "    <tr>\n",
       "      <th>108rjwb</th>\n",
       "      <td>Are your compositions on Spotify? If so, which...</td>\n",
       "      <td>Obviously there is a lot of music on Spotify t...</td>\n",
       "      <td>Composers</td>\n",
       "      <td>0.376425</td>\n",
       "    </tr>\n",
       "    <tr>\n",
       "      <th>z5h1tg</th>\n",
       "      <td>Which one of these brass library would you guy...</td>\n",
       "      <td>I’m mainly choosing between Cinematic Studio B...</td>\n",
       "      <td>Composers</td>\n",
       "      <td>0.421132</td>\n",
       "    </tr>\n",
       "  </tbody>\n",
       "</table>\n",
       "</div>"
      ],
      "text/plain": [
       "                                                     title  \\\n",
       "id                                                           \n",
       "1021772              Sound effect of a specific instrument   \n",
       "yw4s88              Question about Metropolis Ark 1 choirs   \n",
       "z8rwb0   Does anybody know a realistic orchestral sound...   \n",
       "ynp6m5                    Question regarding a progression   \n",
       "z8w2ei     What are the best orchestral strings sf2 files?   \n",
       "zkxgc6                          Installing EastWest sounds   \n",
       "xn3q2u                             Choral MIDI with lyrics   \n",
       "yy4en5   Could this be a good tool to manage music proj...   \n",
       "z0va9x                         Getting started with a DAW.   \n",
       "z7qokm       Creative engineer wanted for Alien like music   \n",
       "zlnyzu                          best Bagpipes vst/library?   \n",
       "z0el6a                           Getting started producing   \n",
       "yx6qfy                                 Does it sound good?   \n",
       "yrvpr3   Looking for an orchestral chimes VST/sound lib...   \n",
       "zg9u6c   How do composers benefit from having many inst...   \n",
       "yz0573                           How to mark tempos in 7/8   \n",
       "zb7u95                               Need help with theory   \n",
       "xs59yn                                    Catalog template   \n",
       "yo2frp   Does anyone use PreSonus Notation 6? I'm havin...   \n",
       "xqnso4   Guys, I'm a producer and recently bought my fi...   \n",
       "zo8j4z                 Cities with Great Music Communities   \n",
       "xwpdmh           Was anybody else an iCompositions member?   \n",
       "yt5a64                 a question abt contrasting material   \n",
       "zu5ytm   Komplete 14 Collector's Edition as a Comprehen...   \n",
       "108rjwb  Are your compositions on Spotify? If so, which...   \n",
       "z5h1tg   Which one of these brass library would you guy...   \n",
       "\n",
       "                                                      text  subreddit  \\\n",
       "id                                                                      \n",
       "1021772  What is the instrument that creates the effect...  Composers   \n",
       "yw4s88   If anyone here has used Metropolis Ark 1, you'...  Composers   \n",
       "z8rwb0   I'm making a song in fl studio, and the orches...  Composers   \n",
       "ynp6m5   I am tryna make a song where the intro is an A...  Composers   \n",
       "z8w2ei   I was making a song in fl studio, and most of ...  Composers   \n",
       "zkxgc6   Just downloaded my first EW sound library and ...  Composers   \n",
       "xn3q2u   I would love to have any software/site that ca...  Composers   \n",
       "yy4en5   Hi, I've been thinking about developing a spec...  Composers   \n",
       "z0va9x   Hello everyone, for the past 2 years I've been...  Composers   \n",
       "z7qokm   Looking to work with an artist to make some sa...  Composers   \n",
       "zlnyzu   Can't find anything good out there that isn't ...  Composers   \n",
       "z0el6a   I'm currently a senior in undergrad double maj...  Composers   \n",
       "yx6qfy   I have been tryna make some stuff on my own us...  Composers   \n",
       "yrvpr3   [This is the instrument](https://youtu.be/nVLH...  Composers   \n",
       "zg9u6c   I see composers with lots of instruments in th...  Composers   \n",
       "yz0573   I’m wondering what symbol I’d use to mark my t...  Composers   \n",
       "zb7u95   Long question short: How do I make sure a song...  Composers   \n",
       "xs59yn   Can anyone recommend a spreadsheet template fo...  Composers   \n",
       "yo2frp   Edit: It's called Notion, not Notation. Sorry....  Composers   \n",
       "xqnso4   Okay, I know some basic music theory, I know h...  Composers   \n",
       "zo8j4z   Does anyone know cities that have a plethora o...  Composers   \n",
       "xwpdmh   That website was really wonderful. Much better...  Composers   \n",
       "yt5a64   Are they always cohesive? Should they be cohes...  Composers   \n",
       "zu5ytm    How good is the orchestra when considering al...  Composers   \n",
       "108rjwb  Obviously there is a lot of music on Spotify t...  Composers   \n",
       "z5h1tg   I’m mainly choosing between Cinematic Studio B...  Composers   \n",
       "\n",
       "         pred_comps_prob  \n",
       "id                        \n",
       "1021772         0.021840  \n",
       "yw4s88          0.030536  \n",
       "z8rwb0          0.036676  \n",
       "ynp6m5          0.037253  \n",
       "z8w2ei          0.037594  \n",
       "zkxgc6          0.037857  \n",
       "xn3q2u          0.038988  \n",
       "yy4en5          0.044179  \n",
       "z0va9x          0.058151  \n",
       "z7qokm          0.072556  \n",
       "zlnyzu          0.074721  \n",
       "z0el6a          0.078678  \n",
       "yx6qfy          0.124945  \n",
       "yrvpr3          0.136331  \n",
       "zg9u6c          0.163609  \n",
       "yz0573          0.167338  \n",
       "zb7u95          0.168949  \n",
       "xs59yn          0.173656  \n",
       "yo2frp          0.212722  \n",
       "xqnso4          0.227307  \n",
       "zo8j4z          0.229166  \n",
       "xwpdmh          0.230535  \n",
       "yt5a64          0.294691  \n",
       "zu5ytm          0.321056  \n",
       "108rjwb         0.376425  \n",
       "z5h1tg          0.421132  "
      ]
     },
     "execution_count": 136,
     "metadata": {},
     "output_type": "execute_result"
    }
   ],
   "source": [
    "#Find the Composers posts that were mislabeled\n",
    "mislabeled_comps = test_df[ (test_df['subreddit']=='Composers') & (test_df['pred_comps_prob']<.5)]\n",
    "print(f\"Number of Composers posts mislabeled as Producers posts: {len(mislabeled_comps)}\")\n",
    "mislabeled_comps.sort_values('pred_comps_prob')"
   ]
  },
  {
   "cell_type": "markdown",
   "id": "5f146733-7d41-434a-bb5f-f7b9a1b94bc7",
   "metadata": {},
   "source": [
    "These posts are all the ones that the Stacked Model classified as \"Producers\" even though they came from the Composers subreddit.  Those posts at the top of this list are the ones that the Stacked Model was most certain were \"Producers\" - i.e., those \"Composers\" posts that the model had the most trouble correctly classifying.  Again, judging by the titles, many of these might also be difficult for a human to classify.\n",
    "\n",
    "Let's take a more detailed look at the top post:"
   ]
  },
  {
   "cell_type": "code",
   "execution_count": 137,
   "id": "e2435215-2991-46e8-abb0-85ce1129c19c",
   "metadata": {},
   "outputs": [
    {
     "name": "stdout",
     "output_type": "stream",
     "text": [
      "Sound effect of a specific instrument\n",
      "====================================================================================================\n",
      "What is the instrument that creates the effect of hitting a hammer against a metal pipe? It’s somewhat like a blacksmith using his hammer but it’s a much bigger sound. It’s used in some marvel movies. I’ve looked everywhere and can’t seem to find the name of it.\n"
     ]
    }
   ],
   "source": [
    "top_index_list = list(mislabeled_comps.sort_values('pred_comps_prob').index)\n",
    "top_index = top_index_list[0]\n",
    "print(mislabeled_comps['title'][top_index])\n",
    "print('='*100)\n",
    "print(mislabeled_comps['text'][top_index])"
   ]
  },
  {
   "cell_type": "markdown",
   "id": "d66e19b3-daac-4d73-9048-a1fbefa160a5",
   "metadata": {},
   "source": [
    "Now that is indeed a hard post to classify!"
   ]
  },
  {
   "cell_type": "code",
   "execution_count": 138,
   "id": "781d0150-2d62-4d62-9c82-153e6858a68e",
   "metadata": {},
   "outputs": [
    {
     "name": "stdout",
     "output_type": "stream",
     "text": [
      "Question about Metropolis Ark 1 choirs\n",
      "====================================================================================================\n",
      "If anyone here has used Metropolis Ark 1, you'll notice the excellent choir samples, both Male and Female. But the thing I wanted to point attention to is the Marcato and Staccato, where with each note is punctuated with a different syllable, It doesn't seem to be \"Do re me la...\", and I just wanted to know if there's a specific name for this style of singing? Okay, obviously when you choose the note it choses a random syllable, but it sounds impressive and I want to learn a bit more about it, and if there's a way to notate such singing (or would you consider it chanting?)\n"
     ]
    }
   ],
   "source": [
    "top_index = top_index_list[1]\n",
    "print(mislabeled_comps['title'][top_index])\n",
    "print('='*100)\n",
    "print(mislabeled_comps['text'][top_index])"
   ]
  },
  {
   "cell_type": "markdown",
   "id": "98af8351-cb7b-496f-ab7b-8ecc8eba74f8",
   "metadata": {},
   "source": [
    "This post does seem to contain several words that come from classical music (like \"Staccato\"), making it likely that a human being would correctly predict that it came from the \"Composers\" subreddit.  However, these words probably did not appear frequently enough in the training data for `CountVectorizer` to keep them as features.  Thus, it pays no attention to these words that are \"uncommon but strong signals.\"  It is probably judging that this post comes from \"Producers\" since it contains the word \"samples\" - a common term among music producers.\n",
    "\n",
    "One technique that may help a model's performance on such posts would be to use the **frequency ratios** of words in the training data, rather than their *overall* frequencies in the training data, to determine which words should be kept as features after count-vectorization.  For example, the word \"Staccato\" is uncommon overall in the training data, but its *frequency ratio* = (frequency in Composers posts)/(frequency in Producers posts) is likely quite high.\n",
    "\n",
    "The [experimental code](./experimental/frequency_ratio_modeling.ipynb) begins implementing analysis based on frequency ratios.  However, it is difficult to incorporate this method into `sklearn` pipelines, as a frequency ratio-based feature selector is, in `sklearn` terminology, a \"transformer that needs to look at the $y$-values of the training data, not just the $X$-values.\"  `sklearn` does not support such transformers by default."
   ]
  },
  {
   "cell_type": "markdown",
   "id": "27e7fb39-b45f-48aa-b140-5df00dbce374",
   "metadata": {},
   "source": [
    "# Conclusions\n",
    "\n",
    "## Everything we've learned about how to make a good \"bag of words\" classification model"
   ]
  },
  {
   "cell_type": "code",
   "execution_count": 139,
   "id": "1eb40b89-7f6a-4d51-a0ab-f91da71c54f3",
   "metadata": {},
   "outputs": [
    {
     "data": {
      "text/html": [
       "<div>\n",
       "<style scoped>\n",
       "    .dataframe tbody tr th:only-of-type {\n",
       "        vertical-align: middle;\n",
       "    }\n",
       "\n",
       "    .dataframe tbody tr th {\n",
       "        vertical-align: top;\n",
       "    }\n",
       "\n",
       "    .dataframe thead th {\n",
       "        text-align: right;\n",
       "    }\n",
       "</style>\n",
       "<table border=\"1\" class=\"dataframe\">\n",
       "  <thead>\n",
       "    <tr style=\"text-align: right;\">\n",
       "      <th></th>\n",
       "      <th>Crossval Score</th>\n",
       "      <th>Test Data Score</th>\n",
       "    </tr>\n",
       "  </thead>\n",
       "  <tbody>\n",
       "    <tr>\n",
       "      <th>Stacked Model</th>\n",
       "      <td>0.940325</td>\n",
       "      <td>0.929553</td>\n",
       "    </tr>\n",
       "    <tr>\n",
       "      <th>Naive Bayes</th>\n",
       "      <td>0.936311</td>\n",
       "      <td>0.917526</td>\n",
       "    </tr>\n",
       "    <tr>\n",
       "      <th>Random Forest</th>\n",
       "      <td>0.922524</td>\n",
       "      <td>0.914089</td>\n",
       "    </tr>\n",
       "    <tr>\n",
       "      <th>Gradient Boost</th>\n",
       "      <td>0.913938</td>\n",
       "      <td>0.908935</td>\n",
       "    </tr>\n",
       "    <tr>\n",
       "      <th>Logistic Regression</th>\n",
       "      <td>0.911074</td>\n",
       "      <td>0.903780</td>\n",
       "    </tr>\n",
       "  </tbody>\n",
       "</table>\n",
       "</div>"
      ],
      "text/plain": [
       "                     Crossval Score  Test Data Score\n",
       "Stacked Model              0.940325         0.929553\n",
       "Naive Bayes                0.936311         0.917526\n",
       "Random Forest              0.922524         0.914089\n",
       "Gradient Boost             0.913938         0.908935\n",
       "Logistic Regression        0.911074         0.903780"
      ]
     },
     "execution_count": 139,
     "metadata": {},
     "output_type": "execute_result"
    }
   ],
   "source": [
    "results_df.sort_values('Crossval Score', ascending=False)"
   ]
  },
  {
   "cell_type": "markdown",
   "id": "0cd0fe50-fd80-4f4d-901d-b2db10d0e8f3",
   "metadata": {},
   "source": [
    "In this project, we attempted to achieve a high accuracy score when classifying Reddit posts between the [r/composer](https://www.reddit.com/r/composer/) and [r/musicproduction](https://www.reddit.com/r/musicproduction/) subreddits.  We tried to push the limits of \"bag of words\" models, using fewer than 2400 data points.  With the exception of the $k$-Nearest Neighbors model, all of the main models we attempted to train performed rather well after proper hyperparameter tuning: their cross-val and test-data accuracy scores were all above 90% and appear in the table above.\n",
    "\n",
    "The models in the table above were trained on the concatenated title + body text data of all the subreddit posts.  None of the following generally improved performance:\n",
    "- Adding in word counts (from body text and title)\n",
    "- Adding in bigrams\n",
    "- Training on titles only (no body text)\n",
    "- Setting `CountVectorizer`'s `min_df` to a value other than 2; that is, including words that appear only once or excluding words that \"do not appear frequently enough\" (unless by \"frequently enough\" we mean \"more than once\")\n",
    "- Stemming words before count-vectorizing\n",
    "\n",
    "The following techniques significantly helped the models' performance:\n",
    "- **Preprocessing texts by replacing URLs with words representing the website to which they link**\n",
    "- **Removing stop words**\n",
    "- **Stacking the best models together**\n",
    "\n",
    "Indeed, URL preprocessing improved accuracy by more than 2%, and stacking improved performance on the test data by more than 1%.  Our best-performing model is the Stacked Model built from the other four models in the table above; **we recommend the Stacked Model as the \"production model\" for further classification tasks between these two subreddits**.\n",
    "\n",
    "The techniques that yielded success in this project are also likely to yield success in similar Natural Language Processing classification problems.  However, some of the techniques (listed above) that *did not* improve the performance of our models may also be helpful, depending on the task at hand.\n",
    "\n",
    "Finally, \"bag of words\" classification models may benefit from selecting features (words) using their *frequency ratios* across the two classes rather than their overall frequencies in the corpus.  Further work is needed to test the degree to which classification models can benefit from this technique."
   ]
  }
 ],
 "metadata": {
  "kernelspec": {
   "display_name": "Python 3 (ipykernel)",
   "language": "python",
   "name": "python3"
  },
  "language_info": {
   "codemirror_mode": {
    "name": "ipython",
    "version": 3
   },
   "file_extension": ".py",
   "mimetype": "text/x-python",
   "name": "python",
   "nbconvert_exporter": "python",
   "pygments_lexer": "ipython3",
   "version": "3.9.13"
  }
 },
 "nbformat": 4,
 "nbformat_minor": 5
}
