{
 "cells": [
  {
   "cell_type": "markdown",
   "id": "102baf36-9c27-4afa-942b-3e5cde6eabef",
   "metadata": {},
   "source": [
    "# PushShift\n",
    "\n",
    "---\n",
    "r/boardgames"
   ]
  },
  {
   "cell_type": "code",
   "execution_count": 1,
   "id": "c33a11bd-8cb7-498b-93ee-4b8d86cf0aa1",
   "metadata": {},
   "outputs": [],
   "source": [
    "import requests\n",
    "import calendar\n",
    "import time\n",
    "import pandas as pd"
   ]
  },
  {
   "cell_type": "code",
   "execution_count": 2,
   "id": "85bfa6bc-781c-4648-be8e-e64d2b828a18",
   "metadata": {},
   "outputs": [],
   "source": [
    "url = 'https://api.pushshift.io/reddit/search/submission'"
   ]
  },
  {
   "cell_type": "markdown",
   "id": "79c58a8a-4a7b-4f43-b47a-5c8582b28f66",
   "metadata": {},
   "source": [
    "Most important things to put into PushShift [API](https://api.pushshift.io/docs#/default/search_reddit_posts_reddit_search_submission_get):\n",
    "\n",
    "- `subreddit` (name of subreddit)\n",
    "- `since` (earliest date to get)\n",
    "- `until` (latest date to get)\n",
    "- `size` (how many submissions to get back per call of the API.  **Use maybe 100 or fewer per call to avoid timeouts.**)\n",
    "- `filter` (which pieces of info do you want about the post?  We're primarily just interested in the text itself, rather than other metadata.  **First get a model working that ONLY uses NLP techniques.** If you later want to enhance your classifier using metadata, go ahead.)"
   ]
  },
  {
   "cell_type": "code",
   "execution_count": 3,
   "id": "5410eb29-5f98-4d9a-b16a-e8618105d7b8",
   "metadata": {},
   "outputs": [],
   "source": [
    "params = {'subreddit': 'boardgames',\n",
    "          'limit': 10,\n",
    "         }"
   ]
  },
  {
   "cell_type": "code",
   "execution_count": 4,
   "id": "529100f8-8be0-433c-b74e-24deb315dd46",
   "metadata": {},
   "outputs": [
    {
     "data": {
      "text/plain": [
       "200"
      ]
     },
     "execution_count": 4,
     "metadata": {},
     "output_type": "execute_result"
    }
   ],
   "source": [
    "res = requests.get(url, params)\n",
    "res.status_code"
   ]
  },
  {
   "cell_type": "code",
   "execution_count": 5,
   "id": "eb035802-5135-4692-8790-3681fbed7daf",
   "metadata": {},
   "outputs": [
    {
     "data": {
      "text/plain": [
       "dict_keys(['data', 'error', 'metadata'])"
      ]
     },
     "execution_count": 5,
     "metadata": {},
     "output_type": "execute_result"
    }
   ],
   "source": [
    "res.json().keys()"
   ]
  },
  {
   "cell_type": "code",
   "execution_count": 6,
   "id": "da5d87cb-ba0c-45a2-9528-e82b60f2d918",
   "metadata": {},
   "outputs": [],
   "source": [
    "#res.json()['data'][:1]"
   ]
  },
  {
   "cell_type": "code",
   "execution_count": 7,
   "id": "c3acfd91-9745-41ed-a419-ef6db4dbd2cc",
   "metadata": {},
   "outputs": [
    {
     "data": {
      "text/html": [
       "<div>\n",
       "<style scoped>\n",
       "    .dataframe tbody tr th:only-of-type {\n",
       "        vertical-align: middle;\n",
       "    }\n",
       "\n",
       "    .dataframe tbody tr th {\n",
       "        vertical-align: top;\n",
       "    }\n",
       "\n",
       "    .dataframe thead th {\n",
       "        text-align: right;\n",
       "    }\n",
       "</style>\n",
       "<table border=\"1\" class=\"dataframe\">\n",
       "  <thead>\n",
       "    <tr style=\"text-align: right;\">\n",
       "      <th></th>\n",
       "      <th>subreddit</th>\n",
       "      <th>selftext</th>\n",
       "      <th>author_fullname</th>\n",
       "      <th>gilded</th>\n",
       "      <th>title</th>\n",
       "      <th>link_flair_richtext</th>\n",
       "      <th>subreddit_name_prefixed</th>\n",
       "      <th>hidden</th>\n",
       "      <th>pwls</th>\n",
       "      <th>link_flair_css_class</th>\n",
       "      <th>...</th>\n",
       "      <th>created_utc</th>\n",
       "      <th>num_crossposts</th>\n",
       "      <th>media</th>\n",
       "      <th>is_video</th>\n",
       "      <th>retrieved_utc</th>\n",
       "      <th>updated_utc</th>\n",
       "      <th>utc_datetime_str</th>\n",
       "      <th>post_hint</th>\n",
       "      <th>preview</th>\n",
       "      <th>url_overridden_by_dest</th>\n",
       "    </tr>\n",
       "  </thead>\n",
       "  <tbody>\n",
       "    <tr>\n",
       "      <th>0</th>\n",
       "      <td>boardgames</td>\n",
       "      <td>i seem to recall someone having a program or w...</td>\n",
       "      <td>t2_7kieo</td>\n",
       "      <td>0</td>\n",
       "      <td>has anyone made a foamcore insert or cardholde...</td>\n",
       "      <td>[{'e': 'text', 't': 'How-To/DIY'}]</td>\n",
       "      <td>r/boardgames</td>\n",
       "      <td>False</td>\n",
       "      <td>6</td>\n",
       "      <td>howto</td>\n",
       "      <td>...</td>\n",
       "      <td>1673037957</td>\n",
       "      <td>0</td>\n",
       "      <td>None</td>\n",
       "      <td>False</td>\n",
       "      <td>1673037977</td>\n",
       "      <td>1673037977</td>\n",
       "      <td>2023-01-06 20:45:57</td>\n",
       "      <td>NaN</td>\n",
       "      <td>NaN</td>\n",
       "      <td>NaN</td>\n",
       "    </tr>\n",
       "    <tr>\n",
       "      <th>1</th>\n",
       "      <td>boardgames</td>\n",
       "      <td>[removed]</td>\n",
       "      <td>t2_toabz5s0</td>\n",
       "      <td>0</td>\n",
       "      <td>here is some money making tips</td>\n",
       "      <td>[]</td>\n",
       "      <td>r/boardgames</td>\n",
       "      <td>False</td>\n",
       "      <td>6</td>\n",
       "      <td>None</td>\n",
       "      <td>...</td>\n",
       "      <td>1673037511</td>\n",
       "      <td>0</td>\n",
       "      <td>None</td>\n",
       "      <td>False</td>\n",
       "      <td>1673037527</td>\n",
       "      <td>1673037528</td>\n",
       "      <td>2023-01-06 20:38:31</td>\n",
       "      <td>self</td>\n",
       "      <td>{'images': [{'source': {'url': 'https://extern...</td>\n",
       "      <td>NaN</td>\n",
       "    </tr>\n",
       "    <tr>\n",
       "      <th>2</th>\n",
       "      <td>boardgames</td>\n",
       "      <td>So i wanted to do test ChatGPT a bit and asked...</td>\n",
       "      <td>t2_snchy</td>\n",
       "      <td>0</td>\n",
       "      <td>I asked Chatgpt to create a Libary with 40 gam...</td>\n",
       "      <td>[]</td>\n",
       "      <td>r/boardgames</td>\n",
       "      <td>False</td>\n",
       "      <td>6</td>\n",
       "      <td>None</td>\n",
       "      <td>...</td>\n",
       "      <td>1673037478</td>\n",
       "      <td>0</td>\n",
       "      <td>None</td>\n",
       "      <td>False</td>\n",
       "      <td>1673037494</td>\n",
       "      <td>1673037495</td>\n",
       "      <td>2023-01-06 20:37:58</td>\n",
       "      <td>NaN</td>\n",
       "      <td>NaN</td>\n",
       "      <td>NaN</td>\n",
       "    </tr>\n",
       "  </tbody>\n",
       "</table>\n",
       "<p>3 rows × 90 columns</p>\n",
       "</div>"
      ],
      "text/plain": [
       "    subreddit                                           selftext  \\\n",
       "0  boardgames  i seem to recall someone having a program or w...   \n",
       "1  boardgames                                          [removed]   \n",
       "2  boardgames  So i wanted to do test ChatGPT a bit and asked...   \n",
       "\n",
       "  author_fullname  gilded                                              title  \\\n",
       "0        t2_7kieo       0  has anyone made a foamcore insert or cardholde...   \n",
       "1     t2_toabz5s0       0                     here is some money making tips   \n",
       "2        t2_snchy       0  I asked Chatgpt to create a Libary with 40 gam...   \n",
       "\n",
       "                  link_flair_richtext subreddit_name_prefixed  hidden  pwls  \\\n",
       "0  [{'e': 'text', 't': 'How-To/DIY'}]            r/boardgames   False     6   \n",
       "1                                  []            r/boardgames   False     6   \n",
       "2                                  []            r/boardgames   False     6   \n",
       "\n",
       "  link_flair_css_class  ...  created_utc num_crossposts  media  is_video  \\\n",
       "0                howto  ...   1673037957              0   None     False   \n",
       "1                 None  ...   1673037511              0   None     False   \n",
       "2                 None  ...   1673037478              0   None     False   \n",
       "\n",
       "  retrieved_utc  updated_utc     utc_datetime_str post_hint  \\\n",
       "0    1673037977   1673037977  2023-01-06 20:45:57       NaN   \n",
       "1    1673037527   1673037528  2023-01-06 20:38:31      self   \n",
       "2    1673037494   1673037495  2023-01-06 20:37:58       NaN   \n",
       "\n",
       "                                             preview url_overridden_by_dest  \n",
       "0                                                NaN                    NaN  \n",
       "1  {'images': [{'source': {'url': 'https://extern...                    NaN  \n",
       "2                                                NaN                    NaN  \n",
       "\n",
       "[3 rows x 90 columns]"
      ]
     },
     "execution_count": 7,
     "metadata": {},
     "output_type": "execute_result"
    }
   ],
   "source": [
    "df = pd.DataFrame(res.json()['data'])\n",
    "df.head(3)"
   ]
  },
  {
   "cell_type": "markdown",
   "id": "eb0bd7ec-b49b-4512-b027-62511a73f10c",
   "metadata": {},
   "source": [
    "As we can see, this has 91 columns.  We basically just want the `selftext` column, and maybe the title."
   ]
  },
  {
   "cell_type": "code",
   "execution_count": 8,
   "id": "669cd1dc-1c2f-43a8-bcdb-f9484793f235",
   "metadata": {},
   "outputs": [],
   "source": [
    "params = {'subreddit': 'boardgames',\n",
    "          'limit': 10,\n",
    "          'filter': 'subreddit, selftext, title, created_utc'\n",
    "         }"
   ]
  },
  {
   "cell_type": "code",
   "execution_count": 9,
   "id": "15aef978-601b-40c6-a3ae-8114fc190be3",
   "metadata": {},
   "outputs": [
    {
     "data": {
      "text/plain": [
       "200"
      ]
     },
     "execution_count": 9,
     "metadata": {},
     "output_type": "execute_result"
    }
   ],
   "source": [
    "res = requests.get(url, params)\n",
    "res.status_code"
   ]
  },
  {
   "cell_type": "code",
   "execution_count": 10,
   "id": "ea7b1fde-6261-48eb-84b5-44245c27635f",
   "metadata": {},
   "outputs": [
    {
     "data": {
      "text/html": [
       "<div>\n",
       "<style scoped>\n",
       "    .dataframe tbody tr th:only-of-type {\n",
       "        vertical-align: middle;\n",
       "    }\n",
       "\n",
       "    .dataframe tbody tr th {\n",
       "        vertical-align: top;\n",
       "    }\n",
       "\n",
       "    .dataframe thead th {\n",
       "        text-align: right;\n",
       "    }\n",
       "</style>\n",
       "<table border=\"1\" class=\"dataframe\">\n",
       "  <thead>\n",
       "    <tr style=\"text-align: right;\">\n",
       "      <th></th>\n",
       "      <th>subreddit</th>\n",
       "      <th>selftext</th>\n",
       "      <th>title</th>\n",
       "      <th>created_utc</th>\n",
       "    </tr>\n",
       "  </thead>\n",
       "  <tbody>\n",
       "    <tr>\n",
       "      <th>0</th>\n",
       "      <td>boardgames</td>\n",
       "      <td>i seem to recall someone having a program or w...</td>\n",
       "      <td>has anyone made a foamcore insert or cardholde...</td>\n",
       "      <td>1673037957</td>\n",
       "    </tr>\n",
       "    <tr>\n",
       "      <th>1</th>\n",
       "      <td>boardgames</td>\n",
       "      <td>[removed]</td>\n",
       "      <td>here is some money making tips</td>\n",
       "      <td>1673037511</td>\n",
       "    </tr>\n",
       "    <tr>\n",
       "      <th>2</th>\n",
       "      <td>boardgames</td>\n",
       "      <td>So i wanted to do test ChatGPT a bit and asked...</td>\n",
       "      <td>I asked Chatgpt to create a Libary with 40 gam...</td>\n",
       "      <td>1673037478</td>\n",
       "    </tr>\n",
       "    <tr>\n",
       "      <th>3</th>\n",
       "      <td>boardgames</td>\n",
       "      <td>So, I've submitted a post like this before. It...</td>\n",
       "      <td>Truly unique games from the last 1-2 years</td>\n",
       "      <td>1673037068</td>\n",
       "    </tr>\n",
       "    <tr>\n",
       "      <th>4</th>\n",
       "      <td>boardgames</td>\n",
       "      <td>Had World for a while, grabbed National Parks ...</td>\n",
       "      <td>Trekking Trilogy complete</td>\n",
       "      <td>1673036868</td>\n",
       "    </tr>\n",
       "    <tr>\n",
       "      <th>5</th>\n",
       "      <td>boardgames</td>\n",
       "      <td>Whenever I bring boardgames to my meet ups, I ...</td>\n",
       "      <td>Ideas for carrying gaming boards?</td>\n",
       "      <td>1673035230</td>\n",
       "    </tr>\n",
       "    <tr>\n",
       "      <th>6</th>\n",
       "      <td>boardgames</td>\n",
       "      <td>Invest in cheap breakfast in bed tables, prefe...</td>\n",
       "      <td>Pro tip for couples who play board games toget...</td>\n",
       "      <td>1673035206</td>\n",
       "    </tr>\n",
       "    <tr>\n",
       "      <th>7</th>\n",
       "      <td>boardgames</td>\n",
       "      <td>Hello. Are there any fanmade expansions for Ca...</td>\n",
       "      <td>Carcassonne Star Wars Fanmade Expansions</td>\n",
       "      <td>1673035134</td>\n",
       "    </tr>\n",
       "    <tr>\n",
       "      <th>8</th>\n",
       "      <td>boardgames</td>\n",
       "      <td>In my view, a game rated a 5 complexity has th...</td>\n",
       "      <td>How do you view and judge a game's weight/comp...</td>\n",
       "      <td>1673029540</td>\n",
       "    </tr>\n",
       "    <tr>\n",
       "      <th>9</th>\n",
       "      <td>boardgames</td>\n",
       "      <td></td>\n",
       "      <td>is this rare? Memoir '44 Air Pack days of Wond...</td>\n",
       "      <td>1673028127</td>\n",
       "    </tr>\n",
       "  </tbody>\n",
       "</table>\n",
       "</div>"
      ],
      "text/plain": [
       "    subreddit                                           selftext  \\\n",
       "0  boardgames  i seem to recall someone having a program or w...   \n",
       "1  boardgames                                          [removed]   \n",
       "2  boardgames  So i wanted to do test ChatGPT a bit and asked...   \n",
       "3  boardgames  So, I've submitted a post like this before. It...   \n",
       "4  boardgames  Had World for a while, grabbed National Parks ...   \n",
       "5  boardgames  Whenever I bring boardgames to my meet ups, I ...   \n",
       "6  boardgames  Invest in cheap breakfast in bed tables, prefe...   \n",
       "7  boardgames  Hello. Are there any fanmade expansions for Ca...   \n",
       "8  boardgames  In my view, a game rated a 5 complexity has th...   \n",
       "9  boardgames                                                      \n",
       "\n",
       "                                               title  created_utc  \n",
       "0  has anyone made a foamcore insert or cardholde...   1673037957  \n",
       "1                     here is some money making tips   1673037511  \n",
       "2  I asked Chatgpt to create a Libary with 40 gam...   1673037478  \n",
       "3         Truly unique games from the last 1-2 years   1673037068  \n",
       "4                          Trekking Trilogy complete   1673036868  \n",
       "5                  Ideas for carrying gaming boards?   1673035230  \n",
       "6  Pro tip for couples who play board games toget...   1673035206  \n",
       "7           Carcassonne Star Wars Fanmade Expansions   1673035134  \n",
       "8  How do you view and judge a game's weight/comp...   1673029540  \n",
       "9  is this rare? Memoir '44 Air Pack days of Wond...   1673028127  "
      ]
     },
     "execution_count": 10,
     "metadata": {},
     "output_type": "execute_result"
    }
   ],
   "source": [
    "df = pd.DataFrame(res.json()['data'])\n",
    "df.head(10)"
   ]
  },
  {
   "cell_type": "markdown",
   "id": "12625886-da5c-44ff-b91d-8de7898bae3f",
   "metadata": {},
   "source": [
    "The `created_utc` is just the UTC time when the post was created, i.e. the number of seconds that have elapsed since January 1st, 1970.\n",
    "\n",
    "Notie that the `created_utc` numbers are decreasing.  By default, PushShift grabs the *newest* posts from the specified subreddit.  So our code grabbed the 10 most recent posts on the subreddit.\n",
    "\n",
    "So how do we get 10 *more* posts, that don't overlap with the ones we already got?"
   ]
  },
  {
   "cell_type": "code",
   "execution_count": 11,
   "id": "c63c0e99-0a49-4b35-a31c-15d247e30156",
   "metadata": {},
   "outputs": [],
   "source": [
    "params2 = {'subreddit': 'boardgames',\n",
    "          'limit': 10,\n",
    "          'filter': 'subreddit, selftext, title, created_utc',\n",
    "           'until': df['created_utc'].min()\n",
    "           #Include posts that have a UTC earlier than the earliest one in our df\n",
    "         }"
   ]
  },
  {
   "cell_type": "code",
   "execution_count": 12,
   "id": "ba74b660-4a9a-4fa9-b8da-3b10ad0d1173",
   "metadata": {},
   "outputs": [],
   "source": [
    "res2 = requests.get(url, params2)"
   ]
  },
  {
   "cell_type": "code",
   "execution_count": 56,
   "id": "9a2c8a30-24aa-4cee-bb07-43915d7e49fa",
   "metadata": {},
   "outputs": [
    {
     "data": {
      "text/html": [
       "<div>\n",
       "<style scoped>\n",
       "    .dataframe tbody tr th:only-of-type {\n",
       "        vertical-align: middle;\n",
       "    }\n",
       "\n",
       "    .dataframe tbody tr th {\n",
       "        vertical-align: top;\n",
       "    }\n",
       "\n",
       "    .dataframe thead th {\n",
       "        text-align: right;\n",
       "    }\n",
       "</style>\n",
       "<table border=\"1\" class=\"dataframe\">\n",
       "  <thead>\n",
       "    <tr style=\"text-align: right;\">\n",
       "      <th></th>\n",
       "      <th>subreddit</th>\n",
       "      <th>selftext</th>\n",
       "      <th>title</th>\n",
       "      <th>created_utc</th>\n",
       "    </tr>\n",
       "  </thead>\n",
       "  <tbody>\n",
       "    <tr>\n",
       "      <th>0</th>\n",
       "      <td>boardgames</td>\n",
       "      <td></td>\n",
       "      <td>I made laser-engraved Azul coasters for a chri...</td>\n",
       "      <td>1673027845</td>\n",
       "    </tr>\n",
       "    <tr>\n",
       "      <th>1</th>\n",
       "      <td>boardgames</td>\n",
       "      <td></td>\n",
       "      <td>Friend posted this on Facebook. Any idea what ...</td>\n",
       "      <td>1673026770</td>\n",
       "    </tr>\n",
       "    <tr>\n",
       "      <th>2</th>\n",
       "      <td>boardgames</td>\n",
       "      <td></td>\n",
       "      <td>A Friend of mine posted this on Facebook and I...</td>\n",
       "      <td>1673026385</td>\n",
       "    </tr>\n",
       "    <tr>\n",
       "      <th>3</th>\n",
       "      <td>boardgames</td>\n",
       "      <td>I'm looking for recommendations to watch peopl...</td>\n",
       "      <td>Good Channels to watch games?</td>\n",
       "      <td>1673026055</td>\n",
       "    </tr>\n",
       "    <tr>\n",
       "      <th>4</th>\n",
       "      <td>boardgames</td>\n",
       "      <td>Hi everyone. I was spending the holidays with ...</td>\n",
       "      <td>Any info on an older game called Bid and Bluff.</td>\n",
       "      <td>1673025517</td>\n",
       "    </tr>\n",
       "    <tr>\n",
       "      <th>5</th>\n",
       "      <td>boardgames</td>\n",
       "      <td></td>\n",
       "      <td>Don't Forget To Read The Instructions: Sheeple</td>\n",
       "      <td>1673023782</td>\n",
       "    </tr>\n",
       "    <tr>\n",
       "      <th>6</th>\n",
       "      <td>boardgames</td>\n",
       "      <td>Me, my mom and grandma are trying to play Scot...</td>\n",
       "      <td>In Scotland Yard: Sherlock Holmes Edition, whe...</td>\n",
       "      <td>1673023103</td>\n",
       "    </tr>\n",
       "    <tr>\n",
       "      <th>7</th>\n",
       "      <td>boardgames</td>\n",
       "      <td></td>\n",
       "      <td>Has anyone tried one of these digital board ga...</td>\n",
       "      <td>1673022029</td>\n",
       "    </tr>\n",
       "    <tr>\n",
       "      <th>8</th>\n",
       "      <td>boardgames</td>\n",
       "      <td></td>\n",
       "      <td>Help identifying board game in this picture…</td>\n",
       "      <td>1673021483</td>\n",
       "    </tr>\n",
       "    <tr>\n",
       "      <th>9</th>\n",
       "      <td>boardgames</td>\n",
       "      <td>Hey looking for some fun games to play with a ...</td>\n",
       "      <td>Adult games</td>\n",
       "      <td>1673021001</td>\n",
       "    </tr>\n",
       "  </tbody>\n",
       "</table>\n",
       "</div>"
      ],
      "text/plain": [
       "    subreddit                                           selftext  \\\n",
       "0  boardgames                                                      \n",
       "1  boardgames                                                      \n",
       "2  boardgames                                                      \n",
       "3  boardgames  I'm looking for recommendations to watch peopl...   \n",
       "4  boardgames  Hi everyone. I was spending the holidays with ...   \n",
       "5  boardgames                                                      \n",
       "6  boardgames  Me, my mom and grandma are trying to play Scot...   \n",
       "7  boardgames                                                      \n",
       "8  boardgames                                                      \n",
       "9  boardgames  Hey looking for some fun games to play with a ...   \n",
       "\n",
       "                                               title  created_utc  \n",
       "0  I made laser-engraved Azul coasters for a chri...   1673027845  \n",
       "1  Friend posted this on Facebook. Any idea what ...   1673026770  \n",
       "2  A Friend of mine posted this on Facebook and I...   1673026385  \n",
       "3                      Good Channels to watch games?   1673026055  \n",
       "4    Any info on an older game called Bid and Bluff.   1673025517  \n",
       "5     Don't Forget To Read The Instructions: Sheeple   1673023782  \n",
       "6  In Scotland Yard: Sherlock Holmes Edition, whe...   1673023103  \n",
       "7  Has anyone tried one of these digital board ga...   1673022029  \n",
       "8       Help identifying board game in this picture…   1673021483  \n",
       "9                                        Adult games   1673021001  "
      ]
     },
     "execution_count": 56,
     "metadata": {},
     "output_type": "execute_result"
    }
   ],
   "source": [
    "df = pd.DataFrame(res2.json()['data'])\n",
    "df.head(10)"
   ]
  },
  {
   "cell_type": "markdown",
   "id": "53f2058f-97a3-4eb4-80ea-588cefd5976b",
   "metadata": {},
   "source": [
    "Notice that the latest UTC time in this new dataframe is just before the earliest one in our last dataframe."
   ]
  },
  {
   "cell_type": "code",
   "execution_count": 55,
   "id": "edb1be1d-b873-4887-9db4-755ce43137ff",
   "metadata": {},
   "outputs": [
    {
     "data": {
      "text/plain": [
       "1673021001"
      ]
     },
     "execution_count": 55,
     "metadata": {},
     "output_type": "execute_result"
    }
   ],
   "source": [
    "df['created_utc'].min()"
   ]
  },
  {
   "cell_type": "markdown",
   "id": "ec914a6b-e2d6-498a-ac59-a543537bd334",
   "metadata": {},
   "source": [
    "# PRAW\n",
    "---\n",
    "\n",
    "PRAW requires you to register a username and an \"app\".  Click \"create another app\" under Reddit's [preferences](https://www.reddit.com/prefs/apps).  Then you'll need to provide the \"redirect uri\" and \"secret\" to PRAW."
   ]
  },
  {
   "cell_type": "code",
   "execution_count": 14,
   "id": "a99ad8b9-3636-449e-b824-448acfda2df5",
   "metadata": {},
   "outputs": [],
   "source": [
    "import praw"
   ]
  },
  {
   "cell_type": "code",
   "execution_count": 15,
   "id": "1814fb88-9589-4ea2-8478-ddcd9dd44732",
   "metadata": {},
   "outputs": [],
   "source": [
    "#reddit = praw.Reddit(\n",
    "   # client_id=\"CLIENT_ID\",\n",
    "   # \"client_secrets\"=\"CLIENT_SECRET\",\n",
    "   # user_agent=\"testscript by [MY USER NAME]\"  #This field can be anything\n",
    "#)"
   ]
  },
  {
   "cell_type": "markdown",
   "id": "4e3bfcb9-928b-4fa6-b6e5-ec288cde505c",
   "metadata": {},
   "source": [
    "## How to use PRAW without giving away your account info to github?\n",
    "\n",
    "Use the `praw.ini` file and fill out the fields.  **BUT MAKE SURE TO IGNORE `praw.ini` in your `.gitignore` file!** Ideally, put something in your `README.md` to show people how to set up their own info and replicate your code.\n",
    "\n",
    "After setting up the `praw.ini` file, we can just run the following cell:"
   ]
  },
  {
   "cell_type": "code",
   "execution_count": 16,
   "id": "0138af50-6d8b-450d-b373-49040599a7fc",
   "metadata": {},
   "outputs": [],
   "source": [
    "reddit=praw.Reddit()"
   ]
  },
  {
   "cell_type": "code",
   "execution_count": 17,
   "id": "bdda9167-fd32-4651-af02-dbd9f4e0f548",
   "metadata": {},
   "outputs": [],
   "source": [
    "#Get 10 posts from boardgames subreddit\n",
    "posts = reddit.subreddit('composer').new(limit=10)"
   ]
  },
  {
   "cell_type": "code",
   "execution_count": 18,
   "id": "4047bc54-6c74-4663-8c79-dc160413f79e",
   "metadata": {},
   "outputs": [
    {
     "data": {
      "text/plain": [
       "praw.models.listing.generator.ListingGenerator"
      ]
     },
     "execution_count": 18,
     "metadata": {},
     "output_type": "execute_result"
    }
   ],
   "source": [
    "type(posts)\n",
    "#It's a generator"
   ]
  },
  {
   "cell_type": "code",
   "execution_count": 19,
   "id": "20e768ad-d978-4252-b08e-b184bb54387d",
   "metadata": {},
   "outputs": [
    {
     "name": "stdout",
     "output_type": "stream",
     "text": [
      "The Mountain Path - Ys inspired music\n",
      "Re-engraved my 'Prelude e' (mosg) and uploaded to youtube :)\n",
      "Looking for feedback on this 2.5 minute piece I wrote for string orchestra\n",
      "Which of these notations do you think is easier to read?\n",
      "Spitfire Audio and Sibelius 7\n",
      "Trombone Sonata, II. Cantilena, inspired by jazz and VGM\n",
      "2-voice canon. - Looking for feedback\n",
      "How to learn about late-romantic/early modern composition\n",
      "Toogle pause-note: Note input in engraving software\n",
      "Looking for software suggestion for composing.\n"
     ]
    }
   ],
   "source": [
    "for post in posts:\n",
    "    print(post.title)\n",
    "    \n",
    "#Make sure to actually capture all the information as you run through this loop,\n",
    "#since generators drop this information once they spit it our once"
   ]
  },
  {
   "cell_type": "code",
   "execution_count": 20,
   "id": "10d89e6e-4420-4b6d-9c9b-bd73d4cd48a6",
   "metadata": {},
   "outputs": [],
   "source": [
    "posts2 = reddit.subreddit('musicproduction').new(limit=10)"
   ]
  },
  {
   "cell_type": "code",
   "execution_count": 21,
   "id": "962b0e9f-aba6-45b2-945a-7fc8f7139ab9",
   "metadata": {},
   "outputs": [],
   "source": [
    "items = []\n",
    "for post in posts2:\n",
    "    items.append(post)"
   ]
  },
  {
   "cell_type": "code",
   "execution_count": 22,
   "id": "5c60bf87-2996-4ab8-8fcf-340b3f9dad15",
   "metadata": {},
   "outputs": [
    {
     "data": {
      "text/plain": [
       "[Submission(id='1052rcw'),\n",
       " Submission(id='10515l0'),\n",
       " Submission(id='104xzcd'),\n",
       " Submission(id='104x0q4'),\n",
       " Submission(id='104wnyn'),\n",
       " Submission(id='104vsd8'),\n",
       " Submission(id='104vgkm'),\n",
       " Submission(id='104ve26'),\n",
       " Submission(id='104toag'),\n",
       " Submission(id='104tj2p')]"
      ]
     },
     "execution_count": 22,
     "metadata": {},
     "output_type": "execute_result"
    }
   ],
   "source": [
    "items"
   ]
  },
  {
   "cell_type": "code",
   "execution_count": 23,
   "id": "ccdfe8c1-78a7-47e7-befb-faeffa52a4c5",
   "metadata": {},
   "outputs": [
    {
     "data": {
      "text/plain": [
       "'Is it because of analog gear / analog distortion? The song is from 1995. Cant get it done with digital. The whole grittiness\\n\\nhttps://youtu.be/CmNhYcFE1-o'"
      ]
     },
     "execution_count": 23,
     "metadata": {},
     "output_type": "execute_result"
    }
   ],
   "source": [
    "items[0].selftext"
   ]
  },
  {
   "cell_type": "code",
   "execution_count": 24,
   "id": "b9d27f33-00a3-4149-8f72-45563e35eb99",
   "metadata": {},
   "outputs": [
    {
     "data": {
      "text/plain": [
       "'how to get this sound? Thanks, because i have no idea.'"
      ]
     },
     "execution_count": 24,
     "metadata": {},
     "output_type": "execute_result"
    }
   ],
   "source": [
    "items[0].title"
   ]
  },
  {
   "cell_type": "code",
   "execution_count": 25,
   "id": "6ceabe32-921c-4501-8106-e9d19d116dfa",
   "metadata": {},
   "outputs": [],
   "source": [
    "posts2 = reddit.subreddit('musicproduction').new(limit=1000)"
   ]
  },
  {
   "cell_type": "code",
   "execution_count": null,
   "id": "aff8e3c3-6332-41f5-a62d-0fd1746b7929",
   "metadata": {},
   "outputs": [],
   "source": []
  },
  {
   "cell_type": "code",
   "execution_count": null,
   "id": "725708c7-839f-46cf-91f6-46137efa0586",
   "metadata": {},
   "outputs": [],
   "source": []
  },
  {
   "cell_type": "code",
   "execution_count": null,
   "id": "2e1844f2-02a9-4cd4-867d-564ebaf5fda1",
   "metadata": {},
   "outputs": [],
   "source": []
  },
  {
   "cell_type": "code",
   "execution_count": null,
   "id": "c731217a-da55-4492-9823-61f4c385940b",
   "metadata": {},
   "outputs": [],
   "source": []
  }
 ],
 "metadata": {
  "kernelspec": {
   "display_name": "Python 3 (ipykernel)",
   "language": "python",
   "name": "python3"
  },
  "language_info": {
   "codemirror_mode": {
    "name": "ipython",
    "version": 3
   },
   "file_extension": ".py",
   "mimetype": "text/x-python",
   "name": "python",
   "nbconvert_exporter": "python",
   "pygments_lexer": "ipython3",
   "version": "3.9.13"
  }
 },
 "nbformat": 4,
 "nbformat_minor": 5
}
